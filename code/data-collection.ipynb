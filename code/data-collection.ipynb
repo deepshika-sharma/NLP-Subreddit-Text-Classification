{
 "cells": [
  {
   "cell_type": "code",
   "execution_count": 73,
   "id": "2c2595b0-8aa2-4b90-9a31-3a414843fe03",
   "metadata": {},
   "outputs": [],
   "source": [
    "import requests\n",
    "import re\n",
    "import pandas as pd\n",
    "import numpy as np\n",
    "import matplotlib.pyplot as plt\n",
    "import seaborn as sns\n",
    "from sklearn.feature_extraction.text import CountVectorizer\n",
    "from sklearn.model_selection import train_test_split\n",
    "from nltk.stem import WordNetLemmatizer\n",
    "from nltk.corpus import stopwords"
   ]
  },
  {
   "cell_type": "markdown",
   "id": "19111961-01e1-45b3-9e2e-b4d2fc7ff926",
   "metadata": {},
   "source": [
    "**[how to scrape large amounts of data](https://medium.com/swlh/how-to-scrape-large-amounts-of-reddit-data-using-pushshift-1d33bde9286#:~:text=Under%20the%20hood%2C%20pmaw%20makes,of%2060%20requests%20per%20minute.)**"
   ]
  },
  {
   "cell_type": "code",
   "execution_count": 2,
   "id": "204dbeb1-f783-4ee6-9d0f-0e399367416f",
   "metadata": {},
   "outputs": [],
   "source": [
    "# pip install pmaw"
   ]
  },
  {
   "cell_type": "markdown",
   "id": "2bab2695-3ff6-49b3-8b45-e42c2d532e8d",
   "metadata": {},
   "source": [
    "The pmaw package will allow us to get more data from reddit using the PushShift API, as it has a limit of 100 request"
   ]
  },
  {
   "cell_type": "markdown",
   "id": "50fb0c8b-1189-403d-9a6d-00b97f7fc3bb",
   "metadata": {},
   "source": [
    "# Getting Data From the API"
   ]
  },
  {
   "cell_type": "code",
   "execution_count": 3,
   "id": "1c05f93d-b8f8-457c-bd9a-3da709a84d0f",
   "metadata": {},
   "outputs": [],
   "source": [
    "from pmaw import PushshiftAPI\n",
    "import datetime as dt"
   ]
  },
  {
   "cell_type": "code",
   "execution_count": 4,
   "id": "1d10fd54-e6c1-4657-afb1-3f22fe0f73d5",
   "metadata": {
    "tags": []
   },
   "outputs": [],
   "source": [
    "before = int(dt.datetime(2022,4,1,0,0).timestamp())\n",
    "after = int(dt.datetime(2021,12,1,0,0).timestamp())"
   ]
  },
  {
   "cell_type": "code",
   "execution_count": 5,
   "id": "4f6c2f06-3b4f-49d9-82e5-8d0117558ccf",
   "metadata": {},
   "outputs": [],
   "source": [
    "api = PushshiftAPI()\n",
    "\n",
    "# subreddit url endpoints\n",
    "sub1 = 'movies'\n",
    "sub2 = 'boxoffice'\n",
    "\n",
    "# size of data received\n",
    "size = 5000\n",
    "\n",
    "# getting data\n",
    "\n",
    "reddit1_comments = api.search_comments(subreddit=sub1, limit=size, before=before, after=after)\n",
    "reddit2_comments = api.search_comments(subreddit=sub2, limit=size, before=before, after=after)\n"
   ]
  },
  {
   "cell_type": "code",
   "execution_count": 7,
   "id": "243b5939-7d40-41f9-8598-eb57fb4926d6",
   "metadata": {},
   "outputs": [],
   "source": [
    "reddit1_subs = api.search_submissions(subreddit=sub1, limit=size, before=before, after=after)\n",
    "reddit2_subs = api.search_submissions(subreddit=sub2, limit=size, before=before, after=after)"
   ]
  },
  {
   "cell_type": "code",
   "execution_count": 8,
   "id": "9434de6c-2400-4acf-94d9-15c5652706df",
   "metadata": {},
   "outputs": [
    {
     "data": {
      "text/plain": [
       "(5000, 5000)"
      ]
     },
     "execution_count": 8,
     "metadata": {},
     "output_type": "execute_result"
    }
   ],
   "source": [
    "len(reddit1_comments.responses), len(reddit2_comments.responses)"
   ]
  },
  {
   "cell_type": "code",
   "execution_count": 9,
   "id": "0be94cef-9138-43ca-a9a7-e318ff5100f3",
   "metadata": {},
   "outputs": [
    {
     "data": {
      "text/plain": [
       "(5000, 5000)"
      ]
     },
     "execution_count": 9,
     "metadata": {},
     "output_type": "execute_result"
    }
   ],
   "source": [
    "len(reddit1_subs.responses), len(reddit2_subs.responses)"
   ]
  },
  {
   "cell_type": "code",
   "execution_count": 10,
   "id": "d317c4e1-aa39-4945-b480-10d246861fc4",
   "metadata": {},
   "outputs": [
    {
     "data": {
      "text/plain": [
       "[{'all_awardings': [],\n",
       "  'archived': False,\n",
       "  'associated_award': None,\n",
       "  'author': 'ToyVaren',\n",
       "  'author_flair_background_color': None,\n",
       "  'author_flair_css_class': None,\n",
       "  'author_flair_richtext': [],\n",
       "  'author_flair_template_id': None,\n",
       "  'author_flair_text': None,\n",
       "  'author_flair_text_color': None,\n",
       "  'author_flair_type': 'text',\n",
       "  'author_fullname': 't2_nmp0hv0',\n",
       "  'author_patreon_flair': False,\n",
       "  'author_premium': False,\n",
       "  'body': \"Imho, look around the main concourse in a mall, there's plenty of room to put multiple cameras. \\n\\nI just saw a couple of movies in an abandoned fort and factory, they had to use weird angles and some scenes were very cramped, like the camera was too close.\\n\\nThis is probably also why that one abandoned bank is the bank on every big budget film, its built like a stadium.\",\n",
       "  'body_sha1': 'fec840bf1361e06886f02e4d4f9ea1e7bbf821f2',\n",
       "  'can_gild': True,\n",
       "  'collapsed': False,\n",
       "  'collapsed_because_crowd_control': None,\n",
       "  'collapsed_reason': None,\n",
       "  'collapsed_reason_code': None,\n",
       "  'comment_type': None,\n",
       "  'controversiality': 0,\n",
       "  'created_utc': 1645591678,\n",
       "  'distinguished': None,\n",
       "  'gilded': 0,\n",
       "  'gildings': {},\n",
       "  'id': 'hy29xba',\n",
       "  'is_submitter': False,\n",
       "  'link_id': 't3_sz8grt',\n",
       "  'locked': False,\n",
       "  'no_follow': True,\n",
       "  'parent_id': 't3_sz8grt',\n",
       "  'permalink': '/r/movies/comments/sz8grt/schwarzenegger_really_likes_fighting_in_malls/hy29xba/',\n",
       "  'retrieved_utc': 1645591693,\n",
       "  'score': 1,\n",
       "  'score_hidden': False,\n",
       "  'send_replies': True,\n",
       "  'stickied': False,\n",
       "  'subreddit': 'movies',\n",
       "  'subreddit_id': 't5_2qh3s',\n",
       "  'subreddit_name_prefixed': 'r/movies',\n",
       "  'subreddit_type': 'public',\n",
       "  'top_awarded_type': None,\n",
       "  'total_awards_received': 0,\n",
       "  'treatment_tags': [],\n",
       "  'unrepliable_reason': None}]"
      ]
     },
     "execution_count": 10,
     "metadata": {},
     "output_type": "execute_result"
    }
   ],
   "source": [
    "reddit1_comments.responses[:1]"
   ]
  },
  {
   "cell_type": "code",
   "execution_count": null,
   "id": "5c919cbc-49f6-4b26-b368-4dfe09b731d3",
   "metadata": {},
   "outputs": [],
   "source": []
  },
  {
   "cell_type": "markdown",
   "id": "ec0f7e63-119e-44d3-9e64-43cd2e74e45b",
   "metadata": {},
   "source": [
    "# Rearranging the Data"
   ]
  },
  {
   "cell_type": "code",
   "execution_count": 11,
   "id": "b1fa764d-ce41-4267-9324-934c88f47252",
   "metadata": {},
   "outputs": [],
   "source": [
    "# creating a list of posts for subreddit1 and subreddit2 comments\n",
    "reddit1_coms = []\n",
    "reddit2_coms = []\n",
    "\n",
    "for i in reddit1_comments.responses:\n",
    "    reddit1_coms.append(i['body'])\n",
    "\n",
    "for i in reddit2_comments.responses:\n",
    "    reddit2_coms.append(i['body'])    \n"
   ]
  },
  {
   "cell_type": "code",
   "execution_count": 103,
   "id": "1b438bc0-ddb9-45b3-ade9-dc04cc11226a",
   "metadata": {},
   "outputs": [
    {
     "data": {
      "text/plain": [
       "'I love that movie. One of my favorite horrors, and I would say It’s the second best zombie movie ever made. Only zombie movie that beats out The Godfather of the genre in my opinion is Train to Busan (2016).'"
      ]
     },
     "execution_count": 103,
     "metadata": {},
     "output_type": "execute_result"
    }
   ],
   "source": [
    "reddit1_coms[50]"
   ]
  },
  {
   "cell_type": "code",
   "execution_count": 105,
   "id": "29128fb3-dc6e-4d29-9e7e-a65f320a43d0",
   "metadata": {},
   "outputs": [
    {
     "data": {
      "text/plain": [
       "'Oh man you gotta watch The Wizard of Oz at least'"
      ]
     },
     "execution_count": 105,
     "metadata": {},
     "output_type": "execute_result"
    }
   ],
   "source": [
    "reddit2_coms[190]"
   ]
  },
  {
   "cell_type": "code",
   "execution_count": 14,
   "id": "750c974c-3f5f-4eb6-837a-493abc0ffe21",
   "metadata": {},
   "outputs": [
    {
     "data": {
      "text/plain": [
       "[{'all_awardings': [],\n",
       "  'allow_live_comments': False,\n",
       "  'author': 'RippingLegos',\n",
       "  'author_flair_css_class': None,\n",
       "  'author_flair_richtext': [],\n",
       "  'author_flair_text': None,\n",
       "  'author_flair_type': 'text',\n",
       "  'author_fullname': 't2_1sosf7t2',\n",
       "  'author_is_blocked': False,\n",
       "  'author_patreon_flair': False,\n",
       "  'author_premium': False,\n",
       "  'awarders': [],\n",
       "  'can_mod_post': False,\n",
       "  'contest_mode': False,\n",
       "  'created_utc': 1642455305,\n",
       "  'domain': 'i.redd.it',\n",
       "  'full_link': 'https://www.reddit.com/r/movies/comments/s6fkxt/latest_shot_from_the_filming_of_godzilla/',\n",
       "  'gildings': {},\n",
       "  'id': 's6fkxt',\n",
       "  'is_created_from_ads_ui': False,\n",
       "  'is_crosspostable': False,\n",
       "  'is_meta': False,\n",
       "  'is_original_content': False,\n",
       "  'is_reddit_media_domain': True,\n",
       "  'is_robot_indexable': False,\n",
       "  'is_self': False,\n",
       "  'is_video': False,\n",
       "  'link_flair_background_color': '',\n",
       "  'link_flair_richtext': [],\n",
       "  'link_flair_text_color': 'dark',\n",
       "  'link_flair_type': 'text',\n",
       "  'locked': False,\n",
       "  'media_only': False,\n",
       "  'no_follow': True,\n",
       "  'num_comments': 0,\n",
       "  'num_crossposts': 0,\n",
       "  'over_18': False,\n",
       "  'parent_whitelist_status': 'all_ads',\n",
       "  'permalink': '/r/movies/comments/s6fkxt/latest_shot_from_the_filming_of_godzilla/',\n",
       "  'pinned': False,\n",
       "  'post_hint': 'image',\n",
       "  'preview': {'enabled': True,\n",
       "   'images': [{'id': 'XmLiZsf7WD1w3IPj5Y-ZWuG4z_-wTXiLkpvbK2n8c-A',\n",
       "     'resolutions': [{'height': 71,\n",
       "       'url': 'https://preview.redd.it/e5erzc3ahbc81.jpg?width=108&amp;crop=smart&amp;auto=webp&amp;s=34bc1ec08e6d4976fc0b21bed0e6bf979632fc36',\n",
       "       'width': 108},\n",
       "      {'height': 143,\n",
       "       'url': 'https://preview.redd.it/e5erzc3ahbc81.jpg?width=216&amp;crop=smart&amp;auto=webp&amp;s=f015623ae84210c3484de906f738afc1ecdc00e2',\n",
       "       'width': 216},\n",
       "      {'height': 212,\n",
       "       'url': 'https://preview.redd.it/e5erzc3ahbc81.jpg?width=320&amp;crop=smart&amp;auto=webp&amp;s=1a436299725edc4505801608762b6c87dcfedaf2',\n",
       "       'width': 320},\n",
       "      {'height': 425,\n",
       "       'url': 'https://preview.redd.it/e5erzc3ahbc81.jpg?width=640&amp;crop=smart&amp;auto=webp&amp;s=9514feafb65bf7c104424750d3fe7d847092e468',\n",
       "       'width': 640}],\n",
       "     'source': {'height': 531,\n",
       "      'url': 'https://preview.redd.it/e5erzc3ahbc81.jpg?auto=webp&amp;s=5b3c670cc1addf11a865d76e1abedef257bf4c22',\n",
       "      'width': 798},\n",
       "     'variants': {}}]},\n",
       "  'pwls': 6,\n",
       "  'removed_by_category': 'moderator',\n",
       "  'retrieved_on': 1642455315,\n",
       "  'score': 1,\n",
       "  'selftext': '',\n",
       "  'send_replies': True,\n",
       "  'spoiler': False,\n",
       "  'stickied': False,\n",
       "  'subreddit': 'movies',\n",
       "  'subreddit_id': 't5_2qh3s',\n",
       "  'subreddit_subscribers': 26720048,\n",
       "  'subreddit_type': 'public',\n",
       "  'thumbnail': 'https://b.thumbs.redditmedia.com/2ycUmbLtJIGDwU0VxjoMCv7IcI7li7NpXsKxIKnzLic.jpg',\n",
       "  'thumbnail_height': 93,\n",
       "  'thumbnail_width': 140,\n",
       "  'title': 'Latest shot from the filming of Godzilla Unleashed, from Tonga.',\n",
       "  'total_awards_received': 0,\n",
       "  'treatment_tags': [],\n",
       "  'upvote_ratio': 1.0,\n",
       "  'url': 'https://i.redd.it/e5erzc3ahbc81.jpg',\n",
       "  'url_overridden_by_dest': 'https://i.redd.it/e5erzc3ahbc81.jpg',\n",
       "  'whitelist_status': 'all_ads',\n",
       "  'wls': 6}]"
      ]
     },
     "execution_count": 14,
     "metadata": {},
     "output_type": "execute_result"
    }
   ],
   "source": [
    "reddit1_subs.responses[:1]"
   ]
  },
  {
   "cell_type": "code",
   "execution_count": 18,
   "id": "2694b619-743b-4dd9-b195-957b747f3513",
   "metadata": {},
   "outputs": [],
   "source": [
    "# creating a list of posts/submissions for subreddit1 and subreddit2\n",
    "reddit1_s = []\n",
    "reddit2_s = []\n",
    "\n",
    "for i in reddit1_subs.responses:\n",
    "    reddit1_s.append(i['title'])\n",
    "\n",
    "for i in reddit2_subs.responses:\n",
    "    reddit2_s.append(i['title'])    \n"
   ]
  },
  {
   "cell_type": "code",
   "execution_count": 19,
   "id": "1287c9d0-7cb3-4cd6-b2cd-fd7ebcbce843",
   "metadata": {},
   "outputs": [
    {
     "data": {
      "text/plain": [
       "[\"Imho, look around the main concourse in a mall, there's plenty of room to put multiple cameras. \\n\\nI just saw a couple of movies in an abandoned fort and factory, they had to use weird angles and some scenes were very cramped, like the camera was too close.\\n\\nThis is probably also why that one abandoned bank is the bank on every big budget film, its built like a stadium.\",\n",
       " \"Bro what's a movie?\"]"
      ]
     },
     "execution_count": 19,
     "metadata": {},
     "output_type": "execute_result"
    }
   ],
   "source": [
    "reddit1_coms[:2]"
   ]
  },
  {
   "cell_type": "code",
   "execution_count": 20,
   "id": "53afaa1d-8d73-4993-879e-3037e24e5619",
   "metadata": {},
   "outputs": [
    {
     "data": {
      "text/plain": [
       "'Best Horror Movie?'"
      ]
     },
     "execution_count": 20,
     "metadata": {},
     "output_type": "execute_result"
    }
   ],
   "source": [
    "reddit1_s[6]"
   ]
  },
  {
   "cell_type": "code",
   "execution_count": 23,
   "id": "cabbb9f4-60a9-4abd-a01c-a1fb9e331b34",
   "metadata": {},
   "outputs": [
    {
     "data": {
      "text/plain": [
       "(5000, 5000, 5000, 5000)"
      ]
     },
     "execution_count": 23,
     "metadata": {},
     "output_type": "execute_result"
    }
   ],
   "source": [
    "len(reddit1_coms), len(reddit1_s), len(reddit2_coms), len(reddit2_s)"
   ]
  },
  {
   "cell_type": "code",
   "execution_count": 24,
   "id": "709144de-2b7f-4094-90fb-efd66bda8d1a",
   "metadata": {},
   "outputs": [],
   "source": [
    "# append the respective reddit posts with their comments\n",
    "reddit1_coms.extend(reddit1_s)\n"
   ]
  },
  {
   "cell_type": "code",
   "execution_count": 25,
   "id": "a6eabd84-2d8a-4f40-a61f-f10889aa228b",
   "metadata": {},
   "outputs": [],
   "source": [
    "# create dataframe for reddit1 posts and comments\n",
    "df1 = pd.DataFrame({'post': reddit1_coms, 'class': 0})   # movies == 0"
   ]
  },
  {
   "cell_type": "code",
   "execution_count": 26,
   "id": "bdb5f905-7a92-4a79-b50a-2ecc060b320d",
   "metadata": {},
   "outputs": [
    {
     "data": {
      "text/html": [
       "<div>\n",
       "<style scoped>\n",
       "    .dataframe tbody tr th:only-of-type {\n",
       "        vertical-align: middle;\n",
       "    }\n",
       "\n",
       "    .dataframe tbody tr th {\n",
       "        vertical-align: top;\n",
       "    }\n",
       "\n",
       "    .dataframe thead th {\n",
       "        text-align: right;\n",
       "    }\n",
       "</style>\n",
       "<table border=\"1\" class=\"dataframe\">\n",
       "  <thead>\n",
       "    <tr style=\"text-align: right;\">\n",
       "      <th></th>\n",
       "      <th>post</th>\n",
       "      <th>class</th>\n",
       "    </tr>\n",
       "  </thead>\n",
       "  <tbody>\n",
       "    <tr>\n",
       "      <th>0</th>\n",
       "      <td>Imho, look around the main concourse in a mall...</td>\n",
       "      <td>0</td>\n",
       "    </tr>\n",
       "    <tr>\n",
       "      <th>1</th>\n",
       "      <td>Bro what's a movie?</td>\n",
       "      <td>0</td>\n",
       "    </tr>\n",
       "    <tr>\n",
       "      <th>2</th>\n",
       "      <td>You probably enjoy the smell of your own farts...</td>\n",
       "      <td>0</td>\n",
       "    </tr>\n",
       "    <tr>\n",
       "      <th>3</th>\n",
       "      <td>Yep, looks like Cillian Murphy?</td>\n",
       "      <td>0</td>\n",
       "    </tr>\n",
       "    <tr>\n",
       "      <th>4</th>\n",
       "      <td>You’re so brave</td>\n",
       "      <td>0</td>\n",
       "    </tr>\n",
       "  </tbody>\n",
       "</table>\n",
       "</div>"
      ],
      "text/plain": [
       "                                                post  class\n",
       "0  Imho, look around the main concourse in a mall...      0\n",
       "1                                Bro what's a movie?      0\n",
       "2  You probably enjoy the smell of your own farts...      0\n",
       "3                    Yep, looks like Cillian Murphy?      0\n",
       "4                                    You’re so brave      0"
      ]
     },
     "execution_count": 26,
     "metadata": {},
     "output_type": "execute_result"
    }
   ],
   "source": [
    "df1.head()"
   ]
  },
  {
   "cell_type": "code",
   "execution_count": 27,
   "id": "f53dabbf-fec1-48d7-aea2-d28f08ee5825",
   "metadata": {},
   "outputs": [],
   "source": [
    "# append the respective reddit posts with their comments\n",
    "reddit2_coms.extend(reddit2_s)\n"
   ]
  },
  {
   "cell_type": "code",
   "execution_count": 28,
   "id": "9acbd75a-ff4a-49bf-ac9c-54d157593512",
   "metadata": {},
   "outputs": [],
   "source": [
    "# create dataframe for reddit1 posts and comments\n",
    "df2 = pd.DataFrame({'post': reddit2_coms, 'class': 1})   # boxoffice == 1"
   ]
  },
  {
   "cell_type": "code",
   "execution_count": 29,
   "id": "102465bf-5156-4e30-86b9-19a8bb1f7067",
   "metadata": {},
   "outputs": [
    {
     "data": {
      "text/plain": [
       "'Can you explain why without spoilers?'"
      ]
     },
     "execution_count": 29,
     "metadata": {},
     "output_type": "execute_result"
    }
   ],
   "source": [
    "df2['post'][15]"
   ]
  },
  {
   "cell_type": "code",
   "execution_count": 30,
   "id": "eb1b2672-5102-414d-aaf3-8b8697c43f8e",
   "metadata": {},
   "outputs": [
    {
     "data": {
      "text/html": [
       "<div>\n",
       "<style scoped>\n",
       "    .dataframe tbody tr th:only-of-type {\n",
       "        vertical-align: middle;\n",
       "    }\n",
       "\n",
       "    .dataframe tbody tr th {\n",
       "        vertical-align: top;\n",
       "    }\n",
       "\n",
       "    .dataframe thead th {\n",
       "        text-align: right;\n",
       "    }\n",
       "</style>\n",
       "<table border=\"1\" class=\"dataframe\">\n",
       "  <thead>\n",
       "    <tr style=\"text-align: right;\">\n",
       "      <th></th>\n",
       "      <th>post</th>\n",
       "      <th>class</th>\n",
       "    </tr>\n",
       "  </thead>\n",
       "  <tbody>\n",
       "    <tr>\n",
       "      <th>0</th>\n",
       "      <td>Dune had day and date on HBOmax.  Any person a...</td>\n",
       "      <td>1</td>\n",
       "    </tr>\n",
       "    <tr>\n",
       "      <th>1</th>\n",
       "      <td>There’s enough if you go from now until June: ...</td>\n",
       "      <td>1</td>\n",
       "    </tr>\n",
       "    <tr>\n",
       "      <th>2</th>\n",
       "      <td>It's an anxiety thing. Can easily go 5 or 6 ho...</td>\n",
       "      <td>1</td>\n",
       "    </tr>\n",
       "    <tr>\n",
       "      <th>3</th>\n",
       "      <td>2023 even if by default</td>\n",
       "      <td>1</td>\n",
       "    </tr>\n",
       "    <tr>\n",
       "      <th>4</th>\n",
       "      <td>It would need to go above the average multipli...</td>\n",
       "      <td>1</td>\n",
       "    </tr>\n",
       "  </tbody>\n",
       "</table>\n",
       "</div>"
      ],
      "text/plain": [
       "                                                post  class\n",
       "0  Dune had day and date on HBOmax.  Any person a...      1\n",
       "1  There’s enough if you go from now until June: ...      1\n",
       "2  It's an anxiety thing. Can easily go 5 or 6 ho...      1\n",
       "3                            2023 even if by default      1\n",
       "4  It would need to go above the average multipli...      1"
      ]
     },
     "execution_count": 30,
     "metadata": {},
     "output_type": "execute_result"
    }
   ],
   "source": [
    "df2.head()"
   ]
  },
  {
   "cell_type": "code",
   "execution_count": 31,
   "id": "bf11fc1e-7812-49b1-adc2-a6f987263c59",
   "metadata": {},
   "outputs": [
    {
     "data": {
      "text/plain": [
       "(10000, 10000)"
      ]
     },
     "execution_count": 31,
     "metadata": {},
     "output_type": "execute_result"
    }
   ],
   "source": [
    "len(df1), len(df2)"
   ]
  },
  {
   "cell_type": "markdown",
   "id": "0ccbc365-088f-4678-98cc-e00c807277df",
   "metadata": {},
   "source": [
    "# Combining Data"
   ]
  },
  {
   "cell_type": "code",
   "execution_count": 32,
   "id": "42ee7c05-850c-4e27-aa09-4a93954380cb",
   "metadata": {},
   "outputs": [],
   "source": [
    "# concatenate the two dataframes\n",
    "posts_df = pd.concat([df1, df2])"
   ]
  },
  {
   "cell_type": "code",
   "execution_count": 33,
   "id": "1b4888b9-af65-4e1d-8f0e-9541a8777ee3",
   "metadata": {},
   "outputs": [],
   "source": [
    "# shuffle the rows since the classes are grouped together\n",
    "posts_df = posts_df.sample(frac=1, ignore_index=True)"
   ]
  },
  {
   "cell_type": "code",
   "execution_count": 34,
   "id": "6ff07adf-dbd1-4157-8aae-021f5698e766",
   "metadata": {},
   "outputs": [
    {
     "data": {
      "text/html": [
       "<div>\n",
       "<style scoped>\n",
       "    .dataframe tbody tr th:only-of-type {\n",
       "        vertical-align: middle;\n",
       "    }\n",
       "\n",
       "    .dataframe tbody tr th {\n",
       "        vertical-align: top;\n",
       "    }\n",
       "\n",
       "    .dataframe thead th {\n",
       "        text-align: right;\n",
       "    }\n",
       "</style>\n",
       "<table border=\"1\" class=\"dataframe\">\n",
       "  <thead>\n",
       "    <tr style=\"text-align: right;\">\n",
       "      <th></th>\n",
       "      <th>post</th>\n",
       "      <th>class</th>\n",
       "    </tr>\n",
       "  </thead>\n",
       "  <tbody>\n",
       "    <tr>\n",
       "      <th>0</th>\n",
       "      <td>Billy Butcherson Is Back in ‘Hocus Pocus 2’ an...</td>\n",
       "      <td>0</td>\n",
       "    </tr>\n",
       "    <tr>\n",
       "      <th>1</th>\n",
       "      <td>Here we go again</td>\n",
       "      <td>1</td>\n",
       "    </tr>\n",
       "    <tr>\n",
       "      <th>2</th>\n",
       "      <td>What will The Lost City open to domestically?</td>\n",
       "      <td>1</td>\n",
       "    </tr>\n",
       "    <tr>\n",
       "      <th>3</th>\n",
       "      <td>Who’s thirsty? Go watch the video 😈</td>\n",
       "      <td>0</td>\n",
       "    </tr>\n",
       "    <tr>\n",
       "      <th>4</th>\n",
       "      <td>I wanted to see this in Imax or Dolby Digital,...</td>\n",
       "      <td>0</td>\n",
       "    </tr>\n",
       "    <tr>\n",
       "      <th>...</th>\n",
       "      <td>...</td>\n",
       "      <td>...</td>\n",
       "    </tr>\n",
       "    <tr>\n",
       "      <th>19995</th>\n",
       "      <td>Which DC Film will be the next to cross $100M ...</td>\n",
       "      <td>1</td>\n",
       "    </tr>\n",
       "    <tr>\n",
       "      <th>19996</th>\n",
       "      <td>First Image of Cillian Murphy as J. Robert Opp...</td>\n",
       "      <td>0</td>\n",
       "    </tr>\n",
       "    <tr>\n",
       "      <th>19997</th>\n",
       "      <td>By \"stunt\", I mean a stunt pulled off by the a...</td>\n",
       "      <td>1</td>\n",
       "    </tr>\n",
       "    <tr>\n",
       "      <th>19998</th>\n",
       "      <td>Maybe that's their play.</td>\n",
       "      <td>1</td>\n",
       "    </tr>\n",
       "    <tr>\n",
       "      <th>19999</th>\n",
       "      <td>I remember watching this a long time ago.., ha...</td>\n",
       "      <td>1</td>\n",
       "    </tr>\n",
       "  </tbody>\n",
       "</table>\n",
       "<p>20000 rows × 2 columns</p>\n",
       "</div>"
      ],
      "text/plain": [
       "                                                    post  class\n",
       "0      Billy Butcherson Is Back in ‘Hocus Pocus 2’ an...      0\n",
       "1                                       Here we go again      1\n",
       "2          What will The Lost City open to domestically?      1\n",
       "3                    Who’s thirsty? Go watch the video 😈      0\n",
       "4      I wanted to see this in Imax or Dolby Digital,...      0\n",
       "...                                                  ...    ...\n",
       "19995  Which DC Film will be the next to cross $100M ...      1\n",
       "19996  First Image of Cillian Murphy as J. Robert Opp...      0\n",
       "19997  By \"stunt\", I mean a stunt pulled off by the a...      1\n",
       "19998                           Maybe that's their play.      1\n",
       "19999  I remember watching this a long time ago.., ha...      1\n",
       "\n",
       "[20000 rows x 2 columns]"
      ]
     },
     "execution_count": 34,
     "metadata": {},
     "output_type": "execute_result"
    }
   ],
   "source": [
    "posts_df  # movies == 0, boxoffice == 1"
   ]
  },
  {
   "cell_type": "code",
   "execution_count": 35,
   "id": "7c78c0e7-ff48-43f2-8799-fcfcb288128d",
   "metadata": {},
   "outputs": [],
   "source": [
    "# removing duplicate posts/comments\n",
    "posts_df.drop_duplicates(inplace=True)"
   ]
  },
  {
   "cell_type": "code",
   "execution_count": 36,
   "id": "8272ba9a-0e99-4bdc-b00f-78d48612401f",
   "metadata": {},
   "outputs": [
    {
     "data": {
      "text/plain": [
       "19187"
      ]
     },
     "execution_count": 36,
     "metadata": {},
     "output_type": "execute_result"
    }
   ],
   "source": [
    "len(posts_df)"
   ]
  },
  {
   "cell_type": "code",
   "execution_count": 55,
   "id": "4bf67579-564c-4288-ae0a-cebf9b6cd619",
   "metadata": {},
   "outputs": [],
   "source": [
    "# preprocess a text string\n",
    "def preprocess_text(text):\n",
    "    # Instantiate lemmatizer\n",
    "    lemma = WordNetLemmatizer()\n",
    "    # Expanded stop words\n",
    "    stop = stopwords.words('english')\n",
    "    stop.extend(['im','ive','got', 'wa', 'ha'])\n",
    "    # Remove punctuation and lower case words\n",
    "    words_list = re.sub(r'[^a-zA-Z ]','',text.lower()).split()\n",
    "    words_list = [lemma.lemmatize(i) for i in words_list]\n",
    "    words_list = [i for i in words_list if i not in stop]\n",
    "    return ' '.join(words_list)\n"
   ]
  },
  {
   "cell_type": "code",
   "execution_count": 56,
   "id": "59b46cb5-3e4c-45d1-ac47-bf32da218c13",
   "metadata": {},
   "outputs": [],
   "source": [
    "posts_df['post'] = posts_df['post'].apply(lambda x: preprocess_text(x))"
   ]
  },
  {
   "cell_type": "code",
   "execution_count": 57,
   "id": "a39f044a-1e85-483f-860f-48db75acdd5d",
   "metadata": {},
   "outputs": [
    {
     "data": {
      "text/plain": [
       "post     0\n",
       "class    0\n",
       "dtype: int64"
      ]
     },
     "execution_count": 57,
     "metadata": {},
     "output_type": "execute_result"
    }
   ],
   "source": [
    "posts_df.isnull().sum()"
   ]
  },
  {
   "cell_type": "code",
   "execution_count": 58,
   "id": "49bcbd2a-8c08-4605-985d-f87bd6bf57e3",
   "metadata": {},
   "outputs": [
    {
     "data": {
      "text/html": [
       "<div>\n",
       "<style scoped>\n",
       "    .dataframe tbody tr th:only-of-type {\n",
       "        vertical-align: middle;\n",
       "    }\n",
       "\n",
       "    .dataframe tbody tr th {\n",
       "        vertical-align: top;\n",
       "    }\n",
       "\n",
       "    .dataframe thead th {\n",
       "        text-align: right;\n",
       "    }\n",
       "</style>\n",
       "<table border=\"1\" class=\"dataframe\">\n",
       "  <thead>\n",
       "    <tr style=\"text-align: right;\">\n",
       "      <th></th>\n",
       "      <th>post</th>\n",
       "      <th>class</th>\n",
       "    </tr>\n",
       "  </thead>\n",
       "  <tbody>\n",
       "    <tr>\n",
       "      <th>0</th>\n",
       "      <td>billy butcherson back hocus pocus doug jones s...</td>\n",
       "      <td>0</td>\n",
       "    </tr>\n",
       "    <tr>\n",
       "      <th>1</th>\n",
       "      <td>go</td>\n",
       "      <td>1</td>\n",
       "    </tr>\n",
       "    <tr>\n",
       "      <th>2</th>\n",
       "      <td>lost city open domestically</td>\n",
       "      <td>1</td>\n",
       "    </tr>\n",
       "    <tr>\n",
       "      <th>3</th>\n",
       "      <td>thirsty go watch video</td>\n",
       "      <td>0</td>\n",
       "    </tr>\n",
       "    <tr>\n",
       "      <th>4</th>\n",
       "      <td>wanted see imax dolby digital theyre showing s...</td>\n",
       "      <td>0</td>\n",
       "    </tr>\n",
       "    <tr>\n",
       "      <th>...</th>\n",
       "      <td>...</td>\n",
       "      <td>...</td>\n",
       "    </tr>\n",
       "    <tr>\n",
       "      <th>19995</th>\n",
       "      <td>dc film next cross domestically opening weekend</td>\n",
       "      <td>1</td>\n",
       "    </tr>\n",
       "    <tr>\n",
       "      <th>19996</th>\n",
       "      <td>first image cillian murphy j robert oppenheime...</td>\n",
       "      <td>0</td>\n",
       "    </tr>\n",
       "    <tr>\n",
       "      <th>19997</th>\n",
       "      <td>stunt mean stunt pulled actor sense owni know ...</td>\n",
       "      <td>1</td>\n",
       "    </tr>\n",
       "    <tr>\n",
       "      <th>19998</th>\n",
       "      <td>maybe thats play</td>\n",
       "      <td>1</td>\n",
       "    </tr>\n",
       "    <tr>\n",
       "      <th>19999</th>\n",
       "      <td>remember watching long time ago watch</td>\n",
       "      <td>1</td>\n",
       "    </tr>\n",
       "  </tbody>\n",
       "</table>\n",
       "<p>19187 rows × 2 columns</p>\n",
       "</div>"
      ],
      "text/plain": [
       "                                                    post  class\n",
       "0      billy butcherson back hocus pocus doug jones s...      0\n",
       "1                                                     go      1\n",
       "2                            lost city open domestically      1\n",
       "3                                 thirsty go watch video      0\n",
       "4      wanted see imax dolby digital theyre showing s...      0\n",
       "...                                                  ...    ...\n",
       "19995    dc film next cross domestically opening weekend      1\n",
       "19996  first image cillian murphy j robert oppenheime...      0\n",
       "19997  stunt mean stunt pulled actor sense owni know ...      1\n",
       "19998                                   maybe thats play      1\n",
       "19999              remember watching long time ago watch      1\n",
       "\n",
       "[19187 rows x 2 columns]"
      ]
     },
     "execution_count": 58,
     "metadata": {},
     "output_type": "execute_result"
    }
   ],
   "source": [
    "posts_df"
   ]
  },
  {
   "cell_type": "code",
   "execution_count": 59,
   "id": "e12b5a20-7603-4534-aa6e-3c93a06b7bad",
   "metadata": {},
   "outputs": [],
   "source": [
    "# save dataframe\n",
    "posts_df.to_csv('./data/posts.csv', index=False)"
   ]
  },
  {
   "cell_type": "code",
   "execution_count": null,
   "id": "f1b15631-2ec3-4312-86cf-ea45a1af8009",
   "metadata": {},
   "outputs": [],
   "source": []
  },
  {
   "cell_type": "markdown",
   "id": "3f610b68-027c-46a4-b81a-b42e5f58dc35",
   "metadata": {},
   "source": [
    "# EDA"
   ]
  },
  {
   "cell_type": "code",
   "execution_count": 61,
   "id": "08b22aba-0d9b-4579-81ea-83c4ddae400f",
   "metadata": {},
   "outputs": [],
   "source": [
    "X = posts_df['post']\n",
    "y = posts_df['class']\n",
    "\n",
    "X_train, X_test, y_train, y_test = train_test_split(X, y, random_state=42, stratify=y)"
   ]
  },
  {
   "cell_type": "markdown",
   "id": "904640da-db75-4571-93fd-934f3b770f3d",
   "metadata": {},
   "source": [
    "### Find out the most Common Words"
   ]
  },
  {
   "cell_type": "code",
   "execution_count": 107,
   "id": "63fc9bc1-328a-4765-be48-1aeec4103bb9",
   "metadata": {},
   "outputs": [
    {
     "data": {
      "image/png": "[encoded data removed]",
      "text/plain": [
       "<Figure size 648x504 with 1 Axes>"
      ]
     },
     "metadata": {
      "needs_background": "light"
     },
     "output_type": "display_data"
    }
   ],
   "source": [
    "cvec = CountVectorizer()\n",
    "x = cvec.fit_transform(X_train)\n",
    "cvec_df = pd.DataFrame(x.todense(), \n",
    "                          columns=cvec.get_feature_names_out())\n",
    "plt.figure(figsize=(9,7))\n",
    "cvec_df.sum().sort_values(ascending = False).head(10).plot(kind = 'bar', color='salmon')\n",
    "plt.title('Most Common Words in Both Subreddits')\n",
    "plt.xlabel('Word')\n",
    "plt.ylabel('Count');"
   ]
  },
  {
   "cell_type": "code",
   "execution_count": 68,
   "id": "926025ca-82ef-45a7-9d36-c6d38058a884",
   "metadata": {},
   "outputs": [],
   "source": [
    "# separating the classes to get the most common words for each class\n",
    "df1 = posts_df[posts_df['class'] == 0]\n",
    "df2 = posts_df[posts_df['class'] == 1]"
   ]
  },
  {
   "cell_type": "code",
   "execution_count": 108,
   "id": "6fc1dfe3-f063-4ba6-85f4-868e37a543b2",
   "metadata": {},
   "outputs": [
    {
     "data": {
      "image/png": "[encoded data removed]",
      "text/plain": [
       "<Figure size 648x504 with 1 Axes>"
      ]
     },
     "metadata": {
      "needs_background": "light"
     },
     "output_type": "display_data"
    }
   ],
   "source": [
    "cvec = CountVectorizer()\n",
    "x = cvec.fit_transform(df1['post'])\n",
    "cvec_df = pd.DataFrame(x.todense(), \n",
    "                          columns=cvec.get_feature_names_out())\n",
    "plt.figure(figsize=(9,7))\n",
    "cvec_df.sum().sort_values(ascending = False).head(10).plot(kind = 'bar', color='salmon')\n",
    "plt.title('Most Common Words in Movies')\n",
    "plt.xlabel('Word')\n",
    "plt.ylabel('Count');"
   ]
  },
  {
   "cell_type": "code",
   "execution_count": null,
   "id": "729cdc7e-7d99-4345-9a50-4575da018a86",
   "metadata": {},
   "outputs": [],
   "source": []
  },
  {
   "cell_type": "code",
   "execution_count": 109,
   "id": "09c69a48-f75e-414a-94de-613ee8766c8b",
   "metadata": {},
   "outputs": [
    {
     "data": {
      "image/png": "[encoded data removed]",
      "text/plain": [
       "<Figure size 648x504 with 1 Axes>"
      ]
     },
     "metadata": {
      "needs_background": "light"
     },
     "output_type": "display_data"
    }
   ],
   "source": [
    "cvec = CountVectorizer()\n",
    "x = cvec.fit_transform(df2['post'])\n",
    "cvec_df = pd.DataFrame(x.todense(), \n",
    "                          columns=cvec.get_feature_names_out())\n",
    "plt.figure(figsize=(9,7))\n",
    "cvec_df.sum().sort_values(ascending = False).head(10).plot(kind = 'bar',color='salmon')\n",
    "plt.title('Most Common Words in Boxoffice')\n",
    "plt.xlabel('Word')\n",
    "plt.ylabel('Count');"
   ]
  },
  {
   "cell_type": "markdown",
   "id": "0f6a0ac6-bb96-4d55-94c4-dd8bff4e24a8",
   "metadata": {},
   "source": [
    "### Word Count per Subreddit"
   ]
  },
  {
   "cell_type": "code",
   "execution_count": 75,
   "id": "320ee195-0e1e-4977-8e55-c54af196f849",
   "metadata": {},
   "outputs": [],
   "source": [
    "# splitting the posts and finding out the length to get the word count\n",
    "posts_df['word_count'] = posts_df['post'].apply(lambda x : len(x.split()))"
   ]
  },
  {
   "cell_type": "code",
   "execution_count": 76,
   "id": "5ef33e87-ea67-49d2-bcb7-0b685f9a92d0",
   "metadata": {},
   "outputs": [
    {
     "data": {
      "image/png": "[encoded data removed]",
      "text/plain": [
       "<Figure size 648x504 with 1 Axes>"
      ]
     },
     "metadata": {
      "needs_background": "light"
     },
     "output_type": "display_data"
    }
   ],
   "source": [
    "fig, ax = plt.subplots(figsize=(9,7))\n",
    "ax = sns.barplot(x=posts_df['class'], y=posts_df.groupby('class').sum()['word_count'], palette='Set2')\n",
    "ax.bar_label(ax.containers[0])\n",
    "ax.set_xticklabels(['movie', 'boxoffice'])\n",
    "ax.set_title('Word Count per Subreddit');\n",
    "\n",
    "# https://stackoverflow.com/questions/43214978/seaborn-barplot-displaying-values"
   ]
  },
  {
   "cell_type": "code",
   "execution_count": null,
   "id": "3d7c7d1b-2e3d-43d4-9fee-4fc25bbad071",
   "metadata": {},
   "outputs": [],
   "source": []
  }
 ],
 "metadata": {
  "kernelspec": {
   "display_name": "Python 3 (ipykernel)",
   "language": "python",
   "name": "python3"
  },
  "language_info": {
   "codemirror_mode": {
    "name": "ipython",
    "version": 3
   },
   "file_extension": ".py",
   "mimetype": "text/x-python",
   "name": "python",
   "nbconvert_exporter": "python",
   "pygments_lexer": "ipython3",
   "version": "3.9.12"
  }
 },
 "nbformat": 4,
 "nbformat_minor": 5
}
