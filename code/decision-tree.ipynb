{
 "cells": [
  {
   "cell_type": "markdown",
   "id": "7f8e43bc-853d-4e65-b6ac-db48be5269bd",
   "metadata": {},
   "source": [
    "# Imports"
   ]
  },
  {
   "cell_type": "code",
   "execution_count": 11,
   "id": "4f66dd07-6a8e-4777-bff5-a3c4d190f3dd",
   "metadata": {},
   "outputs": [],
   "source": [
    "import pandas as pd\n",
    "import numpy as np\n",
    "from sklearn.tree import DecisionTreeClassifier\n",
    "from sklearn.model_selection import train_test_split, cross_val_score, GridSearchCV\n",
    "from sklearn.pipeline import Pipeline\n",
    "from sklearn.feature_extraction.text import CountVectorizer, TfidfVectorizer"
   ]
  },
  {
   "cell_type": "code",
   "execution_count": 2,
   "id": "9e916fa2-defd-4218-8930-1ba3db6eaed5",
   "metadata": {},
   "outputs": [],
   "source": [
    "# import data\n",
    "df = pd.read_csv('../data/posts.csv').dropna()"
   ]
  },
  {
   "cell_type": "code",
   "execution_count": 3,
   "id": "a57a1629-1cdb-4e74-a00a-8daaef80f3e3",
   "metadata": {},
   "outputs": [
    {
     "data": {
      "text/html": [
       "<div>\n",
       "<style scoped>\n",
       "    .dataframe tbody tr th:only-of-type {\n",
       "        vertical-align: middle;\n",
       "    }\n",
       "\n",
       "    .dataframe tbody tr th {\n",
       "        vertical-align: top;\n",
       "    }\n",
       "\n",
       "    .dataframe thead th {\n",
       "        text-align: right;\n",
       "    }\n",
       "</style>\n",
       "<table border=\"1\" class=\"dataframe\">\n",
       "  <thead>\n",
       "    <tr style=\"text-align: right;\">\n",
       "      <th></th>\n",
       "      <th>post</th>\n",
       "      <th>class</th>\n",
       "    </tr>\n",
       "  </thead>\n",
       "  <tbody>\n",
       "    <tr>\n",
       "      <th>0</th>\n",
       "      <td>billy butcherson back hocus pocus doug jones s...</td>\n",
       "      <td>0</td>\n",
       "    </tr>\n",
       "    <tr>\n",
       "      <th>1</th>\n",
       "      <td>go</td>\n",
       "      <td>1</td>\n",
       "    </tr>\n",
       "    <tr>\n",
       "      <th>2</th>\n",
       "      <td>lost city open domestically</td>\n",
       "      <td>1</td>\n",
       "    </tr>\n",
       "    <tr>\n",
       "      <th>3</th>\n",
       "      <td>thirsty go watch video</td>\n",
       "      <td>0</td>\n",
       "    </tr>\n",
       "    <tr>\n",
       "      <th>4</th>\n",
       "      <td>wanted see imax dolby digital theyre showing s...</td>\n",
       "      <td>0</td>\n",
       "    </tr>\n",
       "  </tbody>\n",
       "</table>\n",
       "</div>"
      ],
      "text/plain": [
       "                                                post  class\n",
       "0  billy butcherson back hocus pocus doug jones s...      0\n",
       "1                                                 go      1\n",
       "2                        lost city open domestically      1\n",
       "3                             thirsty go watch video      0\n",
       "4  wanted see imax dolby digital theyre showing s...      0"
      ]
     },
     "execution_count": 3,
     "metadata": {},
     "output_type": "execute_result"
    }
   ],
   "source": [
    "df.head()  # 0 movies, 1 == boxoffice"
   ]
  },
  {
   "cell_type": "code",
   "execution_count": 5,
   "id": "5860b42a-b828-4232-8d9d-611ca982289a",
   "metadata": {},
   "outputs": [],
   "source": [
    "# create a dataframe to store results\n",
    "res = pd.DataFrame(columns=['train_score_c', 'test_score_c', 'train_score_t', 'test_score_t'])\n"
   ]
  },
  {
   "cell_type": "code",
   "execution_count": 6,
   "id": "d8ba46ec-3b0b-4987-833c-ec94bd737da6",
   "metadata": {},
   "outputs": [],
   "source": [
    "# function to add results\n",
    "\n",
    "def results(train_c, test_c, train_t, test_t):\n",
    "    res.loc[len(res)] = [round(train_c,2), round(test_c,2), round(train_t,2), round(test_t,2)]\n",
    "    return res"
   ]
  },
  {
   "cell_type": "markdown",
   "id": "3c2d5584-5551-4c66-8f98-bd442420dd90",
   "metadata": {},
   "source": [
    "# Data Splitting"
   ]
  },
  {
   "cell_type": "code",
   "execution_count": 7,
   "id": "b0b28428-fbe1-41a3-bdba-4e2fc577ef75",
   "metadata": {},
   "outputs": [],
   "source": [
    "# create X and y\n",
    "X = df['post']\n",
    "y = df['class']"
   ]
  },
  {
   "cell_type": "code",
   "execution_count": 41,
   "id": "57fdd7a1-5247-4329-9165-55c62eea83ec",
   "metadata": {},
   "outputs": [
    {
     "data": {
      "text/plain": [
       "1    0.505869\n",
       "0    0.494131\n",
       "Name: class, dtype: float64"
      ]
     },
     "execution_count": 41,
     "metadata": {},
     "output_type": "execute_result"
    }
   ],
   "source": [
    "y.value_counts(normalize=True)"
   ]
  },
  {
   "cell_type": "code",
   "execution_count": 8,
   "id": "14aa5271-c4ab-460e-b21e-fae245d98888",
   "metadata": {},
   "outputs": [],
   "source": [
    "# train test split\n",
    "X_train, X_test, y_train, y_test = train_test_split(X, y, random_state=42, stratify=y)"
   ]
  },
  {
   "cell_type": "code",
   "execution_count": 12,
   "id": "85c91abb-2807-4991-98bf-d40a3ab496ca",
   "metadata": {},
   "outputs": [],
   "source": [
    "# create pipes, for countvectorizer and tfidfvectorizer\n",
    "pipe1 = Pipeline([\n",
    "    ('cvec', CountVectorizer()),\n",
    "    ('model', DecisionTreeClassifier())\n",
    "])\n",
    "\n",
    "pipe2 = Pipeline([\n",
    "    ('tfidf', TfidfVectorizer()),\n",
    "    ('model', DecisionTreeClassifier())\n",
    "])"
   ]
  },
  {
   "cell_type": "code",
   "execution_count": 13,
   "id": "41b44bc5-e392-443f-ad23-f634c68d5202",
   "metadata": {},
   "outputs": [],
   "source": [
    "# params\n",
    "params = {}"
   ]
  },
  {
   "cell_type": "code",
   "execution_count": null,
   "id": "d0286a93-75ce-403f-b537-9e2e2283962d",
   "metadata": {},
   "outputs": [],
   "source": []
  },
  {
   "cell_type": "code",
   "execution_count": null,
   "id": "6a1514d3-5f95-4b9e-97f5-802a9474e7ee",
   "metadata": {},
   "outputs": [],
   "source": []
  },
  {
   "cell_type": "markdown",
   "id": "019bc5a0-81aa-47dc-9fdd-8de040a4190d",
   "metadata": {},
   "source": [
    "# Trial 1"
   ]
  },
  {
   "cell_type": "code",
   "execution_count": 15,
   "id": "e352ddd5-d371-480b-9648-7985404c0a4d",
   "metadata": {},
   "outputs": [],
   "source": [
    "# instantiate gridsearch with two different pipes\n",
    "gs1c = GridSearchCV(pipe1, param_grid=params, cv=5, verbose=1, n_jobs=-1)\n",
    "gs1t = GridSearchCV(pipe2, param_grid=params, cv=5, verbose=1, n_jobs=-1)"
   ]
  },
  {
   "cell_type": "code",
   "execution_count": 16,
   "id": "60b2edaf-1404-4498-a2e6-a5ae845b56af",
   "metadata": {},
   "outputs": [
    {
     "name": "stdout",
     "output_type": "stream",
     "text": [
      "Fitting 5 folds for each of 1 candidates, totalling 5 fits\n"
     ]
    },
    {
     "data": {
      "text/plain": [
       "GridSearchCV(cv=5,\n",
       "             estimator=Pipeline(steps=[('cvec', CountVectorizer()),\n",
       "                                       ('model', DecisionTreeClassifier())]),\n",
       "             n_jobs=-1, param_grid={}, verbose=1)"
      ]
     },
     "execution_count": 16,
     "metadata": {},
     "output_type": "execute_result"
    }
   ],
   "source": [
    "gs1c.fit(X_train, y_train)"
   ]
  },
  {
   "cell_type": "code",
   "execution_count": 17,
   "id": "921c7856-9996-4654-8a0e-fb2102725bc5",
   "metadata": {},
   "outputs": [
    {
     "name": "stdout",
     "output_type": "stream",
     "text": [
      "Fitting 5 folds for each of 1 candidates, totalling 5 fits\n"
     ]
    },
    {
     "data": {
      "text/plain": [
       "GridSearchCV(cv=5,\n",
       "             estimator=Pipeline(steps=[('tfidf', TfidfVectorizer()),\n",
       "                                       ('model', DecisionTreeClassifier())]),\n",
       "             n_jobs=-1, param_grid={}, verbose=1)"
      ]
     },
     "execution_count": 17,
     "metadata": {},
     "output_type": "execute_result"
    }
   ],
   "source": [
    "gs1t.fit(X_train, y_train)"
   ]
  },
  {
   "cell_type": "code",
   "execution_count": 18,
   "id": "6c605eb1-9033-4eef-9b42-711c2588ee11",
   "metadata": {},
   "outputs": [
    {
     "data": {
      "text/html": [
       "<div>\n",
       "<style scoped>\n",
       "    .dataframe tbody tr th:only-of-type {\n",
       "        vertical-align: middle;\n",
       "    }\n",
       "\n",
       "    .dataframe tbody tr th {\n",
       "        vertical-align: top;\n",
       "    }\n",
       "\n",
       "    .dataframe thead th {\n",
       "        text-align: right;\n",
       "    }\n",
       "</style>\n",
       "<table border=\"1\" class=\"dataframe\">\n",
       "  <thead>\n",
       "    <tr style=\"text-align: right;\">\n",
       "      <th></th>\n",
       "      <th>train_score_c</th>\n",
       "      <th>test_score_c</th>\n",
       "      <th>train_score_t</th>\n",
       "      <th>test_score_t</th>\n",
       "    </tr>\n",
       "  </thead>\n",
       "  <tbody>\n",
       "    <tr>\n",
       "      <th>0</th>\n",
       "      <td>1.0</td>\n",
       "      <td>0.68</td>\n",
       "      <td>1.0</td>\n",
       "      <td>0.69</td>\n",
       "    </tr>\n",
       "  </tbody>\n",
       "</table>\n",
       "</div>"
      ],
      "text/plain": [
       "   train_score_c  test_score_c  train_score_t  test_score_t\n",
       "0            1.0          0.68            1.0          0.69"
      ]
     },
     "execution_count": 18,
     "metadata": {},
     "output_type": "execute_result"
    }
   ],
   "source": [
    "results(gs1c.score(X_train, y_train), gs1c.score(X_test, y_test), gs1t.score(X_train, y_train), gs1t.score(X_test, y_test))"
   ]
  },
  {
   "cell_type": "markdown",
   "id": "2a59c6ec-74d0-4f42-880b-396accfdae5f",
   "metadata": {},
   "source": [
    "* Default params were used\n",
    "* The scores are not that good\n",
    "* There is too much overfitting on the training data"
   ]
  },
  {
   "cell_type": "code",
   "execution_count": null,
   "id": "58ced4e9-982e-4a5b-9d02-e8b24c905012",
   "metadata": {},
   "outputs": [],
   "source": []
  },
  {
   "cell_type": "markdown",
   "id": "01590686-6098-4c68-93b3-90b9c8193b33",
   "metadata": {},
   "source": [
    "# Trial 2"
   ]
  },
  {
   "cell_type": "code",
   "execution_count": 19,
   "id": "6a0402f8-2492-41c7-9366-eeb4c7839d5c",
   "metadata": {},
   "outputs": [],
   "source": [
    "params = {\n",
    "    'model__max_depth': [None, 10, 15],\n",
    "    'model__min_samples_split': [2, 5, 7],\n",
    "    'model__min_samples_leaf': [1, 3, 5, 7],\n",
    "    'model__max_features': [2,3,4,5],\n",
    "    \n",
    "}"
   ]
  },
  {
   "cell_type": "code",
   "execution_count": 20,
   "id": "61598172-b48a-4f5f-bfcd-31af20254e3d",
   "metadata": {},
   "outputs": [],
   "source": [
    "# instantiate gridsearch with two different pipes\n",
    "gs2c = GridSearchCV(pipe1, param_grid=params, cv=5, verbose=1, n_jobs=-1)\n",
    "gs2t = GridSearchCV(pipe2, param_grid=params, cv=5, verbose=1, n_jobs=-1)"
   ]
  },
  {
   "cell_type": "code",
   "execution_count": 21,
   "id": "821b5aab-5db4-4bd5-8cba-76092f05006d",
   "metadata": {},
   "outputs": [
    {
     "name": "stdout",
     "output_type": "stream",
     "text": [
      "Fitting 5 folds for each of 144 candidates, totalling 720 fits\n"
     ]
    },
    {
     "data": {
      "text/plain": [
       "GridSearchCV(cv=5,\n",
       "             estimator=Pipeline(steps=[('cvec', CountVectorizer()),\n",
       "                                       ('model', DecisionTreeClassifier())]),\n",
       "             n_jobs=-1,\n",
       "             param_grid={'model__max_depth': [None, 10, 15],\n",
       "                         'model__max_features': [2, 3, 4, 5],\n",
       "                         'model__min_samples_leaf': [1, 3, 5, 7],\n",
       "                         'model__min_samples_split': [2, 5, 7]},\n",
       "             verbose=1)"
      ]
     },
     "execution_count": 21,
     "metadata": {},
     "output_type": "execute_result"
    }
   ],
   "source": [
    "gs2c.fit(X_train, y_train)"
   ]
  },
  {
   "cell_type": "code",
   "execution_count": 22,
   "id": "1e1e8b86-8de5-4d5c-98e3-28774b1f5a76",
   "metadata": {},
   "outputs": [
    {
     "name": "stdout",
     "output_type": "stream",
     "text": [
      "Fitting 5 folds for each of 144 candidates, totalling 720 fits\n"
     ]
    },
    {
     "data": {
      "text/plain": [
       "GridSearchCV(cv=5,\n",
       "             estimator=Pipeline(steps=[('tfidf', TfidfVectorizer()),\n",
       "                                       ('model', DecisionTreeClassifier())]),\n",
       "             n_jobs=-1,\n",
       "             param_grid={'model__max_depth': [None, 10, 15],\n",
       "                         'model__max_features': [2, 3, 4, 5],\n",
       "                         'model__min_samples_leaf': [1, 3, 5, 7],\n",
       "                         'model__min_samples_split': [2, 5, 7]},\n",
       "             verbose=1)"
      ]
     },
     "execution_count": 22,
     "metadata": {},
     "output_type": "execute_result"
    }
   ],
   "source": [
    "gs2t.fit(X_train, y_train)"
   ]
  },
  {
   "cell_type": "code",
   "execution_count": 23,
   "id": "e162135f-ca45-46c8-8135-d346ec06ade8",
   "metadata": {},
   "outputs": [
    {
     "data": {
      "text/html": [
       "<div>\n",
       "<style scoped>\n",
       "    .dataframe tbody tr th:only-of-type {\n",
       "        vertical-align: middle;\n",
       "    }\n",
       "\n",
       "    .dataframe tbody tr th {\n",
       "        vertical-align: top;\n",
       "    }\n",
       "\n",
       "    .dataframe thead th {\n",
       "        text-align: right;\n",
       "    }\n",
       "</style>\n",
       "<table border=\"1\" class=\"dataframe\">\n",
       "  <thead>\n",
       "    <tr style=\"text-align: right;\">\n",
       "      <th></th>\n",
       "      <th>train_score_c</th>\n",
       "      <th>test_score_c</th>\n",
       "      <th>train_score_t</th>\n",
       "      <th>test_score_t</th>\n",
       "    </tr>\n",
       "  </thead>\n",
       "  <tbody>\n",
       "    <tr>\n",
       "      <th>0</th>\n",
       "      <td>1.00</td>\n",
       "      <td>0.68</td>\n",
       "      <td>1.00</td>\n",
       "      <td>0.69</td>\n",
       "    </tr>\n",
       "    <tr>\n",
       "      <th>1</th>\n",
       "      <td>0.91</td>\n",
       "      <td>0.64</td>\n",
       "      <td>0.96</td>\n",
       "      <td>0.64</td>\n",
       "    </tr>\n",
       "  </tbody>\n",
       "</table>\n",
       "</div>"
      ],
      "text/plain": [
       "   train_score_c  test_score_c  train_score_t  test_score_t\n",
       "0           1.00          0.68           1.00          0.69\n",
       "1           0.91          0.64           0.96          0.64"
      ]
     },
     "execution_count": 23,
     "metadata": {},
     "output_type": "execute_result"
    }
   ],
   "source": [
    "results(gs2c.score(X_train, y_train), gs2c.score(X_test, y_test), gs2t.score(X_train, y_train), gs2t.score(X_test, y_test))"
   ]
  },
  {
   "cell_type": "code",
   "execution_count": 24,
   "id": "240a3818-8146-46cc-b58c-72a77ce799eb",
   "metadata": {},
   "outputs": [
    {
     "data": {
      "text/plain": [
       "{'model__max_depth': None,\n",
       " 'model__max_features': 2,\n",
       " 'model__min_samples_leaf': 1,\n",
       " 'model__min_samples_split': 7}"
      ]
     },
     "execution_count": 24,
     "metadata": {},
     "output_type": "execute_result"
    }
   ],
   "source": [
    "gs2c.best_params_"
   ]
  },
  {
   "cell_type": "code",
   "execution_count": 25,
   "id": "8c43f86b-7a46-47c9-b8b9-c1a3304bc69c",
   "metadata": {},
   "outputs": [
    {
     "data": {
      "text/plain": [
       "{'model__max_depth': None,\n",
       " 'model__max_features': 5,\n",
       " 'model__min_samples_leaf': 1,\n",
       " 'model__min_samples_split': 7}"
      ]
     },
     "execution_count": 25,
     "metadata": {},
     "output_type": "execute_result"
    }
   ],
   "source": [
    "gs2t.best_params_"
   ]
  },
  {
   "cell_type": "markdown",
   "id": "5dcf75f3-fbcd-4d65-8c5e-2ca9318919e0",
   "metadata": {},
   "source": [
    "* Only the model was tuned\n",
    "* The score is less than before, no improvement\n",
    "* The model is still overfitting but slightly less than before especially for the count vectorizer"
   ]
  },
  {
   "cell_type": "code",
   "execution_count": null,
   "id": "68c92e29-d460-4e3f-8e2b-6163257bf57b",
   "metadata": {},
   "outputs": [],
   "source": []
  },
  {
   "cell_type": "markdown",
   "id": "bcfc3d70-2173-4860-ae37-b871e13045b6",
   "metadata": {},
   "source": [
    "# Trial 3"
   ]
  },
  {
   "cell_type": "code",
   "execution_count": 26,
   "id": "d82e7092-07b8-46cd-a366-61cc6401d26f",
   "metadata": {},
   "outputs": [],
   "source": [
    "params1 = {\n",
    "    'model__max_depth': [None, 10, 15],\n",
    "    'model__min_samples_split': [2, 5, 7],\n",
    "    'model__min_samples_leaf': [1, 3, 5, 7],\n",
    "    'model__max_features': [2,3,4,5],\n",
    "    'cvec__max_features': [1500, 2000, 2500],\n",
    "    'cvec__max_df': [.8, .7],\n",
    "    'cvec__binary': [True],\n",
    "    'cvec__ngram_range': [(1,1), (1,2), (2,2)],\n",
    "    \n",
    "}\n",
    "\n",
    "params2 = {\n",
    "    'model__max_depth': [None, 10, 15],\n",
    "    'model__min_samples_split': [2, 5, 7],\n",
    "    'model__min_samples_leaf': [1, 3, 5, 7],\n",
    "    'model__max_features': [2,3,4,5],\n",
    "       'tfidf__max_features': [1500, 2000, 2500],\n",
    "    'tfidf__max_df': [.8, .7],\n",
    "    'tfidf__binary': [True],\n",
    "    'tfidf__ngram_range': [(1,1), (1,2), (2,2)],\n",
    "    \n",
    "}"
   ]
  },
  {
   "cell_type": "code",
   "execution_count": 27,
   "id": "7e9eb084-76c1-4abd-bd16-05aec80f9b2c",
   "metadata": {},
   "outputs": [],
   "source": [
    "# instantiate gridsearch with two different pipes\n",
    "gs3c = GridSearchCV(pipe1, param_grid=params1, cv=5, verbose=1, n_jobs=-1)\n",
    "gs3t = GridSearchCV(pipe2, param_grid=params2, cv=5, verbose=1, n_jobs=-1)"
   ]
  },
  {
   "cell_type": "code",
   "execution_count": 28,
   "id": "1ec13fd6-2ff4-417e-bedd-63ee5307f1a2",
   "metadata": {},
   "outputs": [
    {
     "name": "stdout",
     "output_type": "stream",
     "text": [
      "Fitting 5 folds for each of 2592 candidates, totalling 12960 fits\n"
     ]
    },
    {
     "data": {
      "text/plain": [
       "GridSearchCV(cv=5,\n",
       "             estimator=Pipeline(steps=[('cvec', CountVectorizer()),\n",
       "                                       ('model', DecisionTreeClassifier())]),\n",
       "             n_jobs=-1,\n",
       "             param_grid={'cvec__binary': [True], 'cvec__max_df': [0.8, 0.7],\n",
       "                         'cvec__max_features': [1500, 2000, 2500],\n",
       "                         'cvec__ngram_range': [(1, 1), (1, 2), (2, 2)],\n",
       "                         'model__max_depth': [None, 10, 15],\n",
       "                         'model__max_features': [2, 3, 4, 5],\n",
       "                         'model__min_samples_leaf': [1, 3, 5, 7],\n",
       "                         'model__min_samples_split': [2, 5, 7]},\n",
       "             verbose=1)"
      ]
     },
     "execution_count": 28,
     "metadata": {},
     "output_type": "execute_result"
    }
   ],
   "source": [
    "gs3c.fit(X_train, y_train)"
   ]
  },
  {
   "cell_type": "code",
   "execution_count": 29,
   "id": "0d81d31d-23b4-4cc1-a86c-9ff006fa6eed",
   "metadata": {},
   "outputs": [
    {
     "name": "stdout",
     "output_type": "stream",
     "text": [
      "Fitting 5 folds for each of 2592 candidates, totalling 12960 fits\n"
     ]
    },
    {
     "data": {
      "text/plain": [
       "GridSearchCV(cv=5,\n",
       "             estimator=Pipeline(steps=[('tfidf', TfidfVectorizer()),\n",
       "                                       ('model', DecisionTreeClassifier())]),\n",
       "             n_jobs=-1,\n",
       "             param_grid={'model__max_depth': [None, 10, 15],\n",
       "                         'model__max_features': [2, 3, 4, 5],\n",
       "                         'model__min_samples_leaf': [1, 3, 5, 7],\n",
       "                         'model__min_samples_split': [2, 5, 7],\n",
       "                         'tfidf__binary': [True], 'tfidf__max_df': [0.8, 0.7],\n",
       "                         'tfidf__max_features': [1500, 2000, 2500],\n",
       "                         'tfidf__ngram_range': [(1, 1), (1, 2), (2, 2)]},\n",
       "             verbose=1)"
      ]
     },
     "execution_count": 29,
     "metadata": {},
     "output_type": "execute_result"
    }
   ],
   "source": [
    "gs3t.fit(X_train, y_train)"
   ]
  },
  {
   "cell_type": "code",
   "execution_count": 30,
   "id": "d2c5ac4c-da46-4ccb-9e24-825d03e86e20",
   "metadata": {},
   "outputs": [
    {
     "data": {
      "text/html": [
       "<div>\n",
       "<style scoped>\n",
       "    .dataframe tbody tr th:only-of-type {\n",
       "        vertical-align: middle;\n",
       "    }\n",
       "\n",
       "    .dataframe tbody tr th {\n",
       "        vertical-align: top;\n",
       "    }\n",
       "\n",
       "    .dataframe thead th {\n",
       "        text-align: right;\n",
       "    }\n",
       "</style>\n",
       "<table border=\"1\" class=\"dataframe\">\n",
       "  <thead>\n",
       "    <tr style=\"text-align: right;\">\n",
       "      <th></th>\n",
       "      <th>train_score_c</th>\n",
       "      <th>test_score_c</th>\n",
       "      <th>train_score_t</th>\n",
       "      <th>test_score_t</th>\n",
       "    </tr>\n",
       "  </thead>\n",
       "  <tbody>\n",
       "    <tr>\n",
       "      <th>0</th>\n",
       "      <td>1.00</td>\n",
       "      <td>0.68</td>\n",
       "      <td>1.00</td>\n",
       "      <td>0.69</td>\n",
       "    </tr>\n",
       "    <tr>\n",
       "      <th>1</th>\n",
       "      <td>0.91</td>\n",
       "      <td>0.64</td>\n",
       "      <td>0.96</td>\n",
       "      <td>0.64</td>\n",
       "    </tr>\n",
       "    <tr>\n",
       "      <th>2</th>\n",
       "      <td>0.73</td>\n",
       "      <td>0.69</td>\n",
       "      <td>0.76</td>\n",
       "      <td>0.69</td>\n",
       "    </tr>\n",
       "  </tbody>\n",
       "</table>\n",
       "</div>"
      ],
      "text/plain": [
       "   train_score_c  test_score_c  train_score_t  test_score_t\n",
       "0           1.00          0.68           1.00          0.69\n",
       "1           0.91          0.64           0.96          0.64\n",
       "2           0.73          0.69           0.76          0.69"
      ]
     },
     "execution_count": 30,
     "metadata": {},
     "output_type": "execute_result"
    }
   ],
   "source": [
    "results(gs3c.score(X_train, y_train), gs3c.score(X_test, y_test), gs3t.score(X_train, y_train), gs3t.score(X_test, y_test))"
   ]
  },
  {
   "cell_type": "code",
   "execution_count": 31,
   "id": "d96dd14c-dc95-4f5f-a426-229a6ece366e",
   "metadata": {},
   "outputs": [
    {
     "data": {
      "text/plain": [
       "{'cvec__binary': True,\n",
       " 'cvec__max_df': 0.7,\n",
       " 'cvec__max_features': 2000,\n",
       " 'cvec__ngram_range': (1, 2),\n",
       " 'model__max_depth': None,\n",
       " 'model__max_features': 5,\n",
       " 'model__min_samples_leaf': 3,\n",
       " 'model__min_samples_split': 5}"
      ]
     },
     "execution_count": 31,
     "metadata": {},
     "output_type": "execute_result"
    }
   ],
   "source": [
    "gs3c.best_params_"
   ]
  },
  {
   "cell_type": "code",
   "execution_count": 32,
   "id": "7e545f64-598f-43f6-a06e-6bb159375cf4",
   "metadata": {},
   "outputs": [
    {
     "data": {
      "text/plain": [
       "{'model__max_depth': None,\n",
       " 'model__max_features': 5,\n",
       " 'model__min_samples_leaf': 3,\n",
       " 'model__min_samples_split': 7,\n",
       " 'tfidf__binary': True,\n",
       " 'tfidf__max_df': 0.8,\n",
       " 'tfidf__max_features': 2000,\n",
       " 'tfidf__ngram_range': (1, 2)}"
      ]
     },
     "execution_count": 32,
     "metadata": {},
     "output_type": "execute_result"
    }
   ],
   "source": [
    "gs3t.best_params_"
   ]
  },
  {
   "cell_type": "markdown",
   "id": "18650ce8-0260-4803-855a-a8dfcbf9a2ef",
   "metadata": {},
   "source": [
    "* Both the model as well as the vectorizers were tuned\n",
    "* The score is better than the previous and similar to the first trial\n",
    "* The overfitting has greatly reduced"
   ]
  },
  {
   "cell_type": "code",
   "execution_count": null,
   "id": "d8f8ca10-1dee-4e20-b0e6-dc0484719c13",
   "metadata": {},
   "outputs": [],
   "source": []
  },
  {
   "cell_type": "markdown",
   "id": "1e45209a-5665-4fca-b8c1-df9b60aa8b0f",
   "metadata": {},
   "source": [
    "# Trial 4"
   ]
  },
  {
   "cell_type": "code",
   "execution_count": 33,
   "id": "272f5e55-5d3d-4b17-ac78-27297a102798",
   "metadata": {},
   "outputs": [],
   "source": [
    "params1 = {\n",
    "    'model__max_depth': [None],\n",
    "    'model__min_samples_split': [4, 5, 7],\n",
    "    'model__min_samples_leaf': [1,2, 3,4, 5],\n",
    "    'model__max_features': [2,3,4,5],\n",
    "    'cvec__max_features': [1500, 2000, 2500],\n",
    "    'cvec__max_df': [0.6, 0.7],\n",
    "    'cvec__binary': [True],\n",
    "    'cvec__ngram_range': [(1,1), (1,2), (1,3)],\n",
    "    \n",
    "}\n",
    "\n",
    "params2 = {\n",
    "    'model__max_depth': [None],\n",
    "    'model__min_samples_split': [5, 7, 9, 10],\n",
    "    'model__min_samples_leaf': [1, 2, 3, 4, 5],\n",
    "    'model__max_features': [2,3,4,5],\n",
    "       'tfidf__max_features': [1500, 2000, 2500],\n",
    "    'tfidf__max_df': [0.8, 0.9],\n",
    "    'tfidf__binary': [True],\n",
    "    'tfidf__ngram_range': [(1,1), (1,2), (1,3)],\n",
    "    \n",
    "}"
   ]
  },
  {
   "cell_type": "code",
   "execution_count": 35,
   "id": "253dfb5c-92ac-49b8-8595-1ce24d69572a",
   "metadata": {},
   "outputs": [],
   "source": [
    "# instantiate gridsearch with two different pipes\n",
    "gs4c = GridSearchCV(pipe1, param_grid=params1, cv=5, verbose=1, n_jobs=-1)\n",
    "gs4t = GridSearchCV(pipe2, param_grid=params2, cv=5, verbose=1, n_jobs=-1)"
   ]
  },
  {
   "cell_type": "code",
   "execution_count": 36,
   "id": "cb2179ff-2435-47a7-a49e-e7616c79660d",
   "metadata": {},
   "outputs": [
    {
     "name": "stdout",
     "output_type": "stream",
     "text": [
      "Fitting 5 folds for each of 1080 candidates, totalling 5400 fits\n"
     ]
    },
    {
     "data": {
      "text/plain": [
       "GridSearchCV(cv=5,\n",
       "             estimator=Pipeline(steps=[('cvec', CountVectorizer()),\n",
       "                                       ('model', DecisionTreeClassifier())]),\n",
       "             n_jobs=-1,\n",
       "             param_grid={'cvec__binary': [True], 'cvec__max_df': [0.6, 0.7],\n",
       "                         'cvec__max_features': [1500, 2000, 2500],\n",
       "                         'cvec__ngram_range': [(1, 1), (1, 2), (1, 3)],\n",
       "                         'model__max_depth': [None],\n",
       "                         'model__max_features': [2, 3, 4, 5],\n",
       "                         'model__min_samples_leaf': [1, 2, 3, 4, 5],\n",
       "                         'model__min_samples_split': [4, 5, 7]},\n",
       "             verbose=1)"
      ]
     },
     "execution_count": 36,
     "metadata": {},
     "output_type": "execute_result"
    }
   ],
   "source": [
    "gs4c.fit(X_train, y_train)"
   ]
  },
  {
   "cell_type": "code",
   "execution_count": 37,
   "id": "0e1945bc-6567-4bde-a153-2916b96f99ef",
   "metadata": {},
   "outputs": [
    {
     "name": "stdout",
     "output_type": "stream",
     "text": [
      "Fitting 5 folds for each of 1440 candidates, totalling 7200 fits\n"
     ]
    },
    {
     "data": {
      "text/plain": [
       "GridSearchCV(cv=5,\n",
       "             estimator=Pipeline(steps=[('tfidf', TfidfVectorizer()),\n",
       "                                       ('model', DecisionTreeClassifier())]),\n",
       "             n_jobs=-1,\n",
       "             param_grid={'model__max_depth': [None],\n",
       "                         'model__max_features': [2, 3, 4, 5],\n",
       "                         'model__min_samples_leaf': [1, 2, 3, 4, 5],\n",
       "                         'model__min_samples_split': [5, 7, 9, 10],\n",
       "                         'tfidf__binary': [True], 'tfidf__max_df': [0.8, 0.9],\n",
       "                         'tfidf__max_features': [1500, 2000, 2500],\n",
       "                         'tfidf__ngram_range': [(1, 1), (1, 2), (1, 3)]},\n",
       "             verbose=1)"
      ]
     },
     "execution_count": 37,
     "metadata": {},
     "output_type": "execute_result"
    }
   ],
   "source": [
    "gs4t.fit(X_train, y_train)"
   ]
  },
  {
   "cell_type": "code",
   "execution_count": 38,
   "id": "e4b65601-085f-4885-9ec1-3a24d1cf5289",
   "metadata": {},
   "outputs": [
    {
     "data": {
      "text/html": [
       "<div>\n",
       "<style scoped>\n",
       "    .dataframe tbody tr th:only-of-type {\n",
       "        vertical-align: middle;\n",
       "    }\n",
       "\n",
       "    .dataframe tbody tr th {\n",
       "        vertical-align: top;\n",
       "    }\n",
       "\n",
       "    .dataframe thead th {\n",
       "        text-align: right;\n",
       "    }\n",
       "</style>\n",
       "<table border=\"1\" class=\"dataframe\">\n",
       "  <thead>\n",
       "    <tr style=\"text-align: right;\">\n",
       "      <th></th>\n",
       "      <th>train_score_c</th>\n",
       "      <th>test_score_c</th>\n",
       "      <th>train_score_t</th>\n",
       "      <th>test_score_t</th>\n",
       "    </tr>\n",
       "  </thead>\n",
       "  <tbody>\n",
       "    <tr>\n",
       "      <th>0</th>\n",
       "      <td>1.00</td>\n",
       "      <td>0.68</td>\n",
       "      <td>1.00</td>\n",
       "      <td>0.69</td>\n",
       "    </tr>\n",
       "    <tr>\n",
       "      <th>1</th>\n",
       "      <td>0.91</td>\n",
       "      <td>0.64</td>\n",
       "      <td>0.96</td>\n",
       "      <td>0.64</td>\n",
       "    </tr>\n",
       "    <tr>\n",
       "      <th>2</th>\n",
       "      <td>0.73</td>\n",
       "      <td>0.69</td>\n",
       "      <td>0.76</td>\n",
       "      <td>0.69</td>\n",
       "    </tr>\n",
       "    <tr>\n",
       "      <th>3</th>\n",
       "      <td>0.73</td>\n",
       "      <td>0.69</td>\n",
       "      <td>0.79</td>\n",
       "      <td>0.71</td>\n",
       "    </tr>\n",
       "  </tbody>\n",
       "</table>\n",
       "</div>"
      ],
      "text/plain": [
       "   train_score_c  test_score_c  train_score_t  test_score_t\n",
       "0           1.00          0.68           1.00          0.69\n",
       "1           0.91          0.64           0.96          0.64\n",
       "2           0.73          0.69           0.76          0.69\n",
       "3           0.73          0.69           0.79          0.71"
      ]
     },
     "execution_count": 38,
     "metadata": {},
     "output_type": "execute_result"
    }
   ],
   "source": [
    "results(gs4c.score(X_train, y_train), gs4c.score(X_test, y_test), gs4t.score(X_train, y_train), gs4t.score(X_test, y_test))"
   ]
  },
  {
   "cell_type": "code",
   "execution_count": 39,
   "id": "5c982b4d-1491-4b09-8e43-0145666efb20",
   "metadata": {},
   "outputs": [
    {
     "data": {
      "text/plain": [
       "{'cvec__binary': True,\n",
       " 'cvec__max_df': 0.7,\n",
       " 'cvec__max_features': 2500,\n",
       " 'cvec__ngram_range': (1, 2),\n",
       " 'model__max_depth': None,\n",
       " 'model__max_features': 5,\n",
       " 'model__min_samples_leaf': 2,\n",
       " 'model__min_samples_split': 5}"
      ]
     },
     "execution_count": 39,
     "metadata": {},
     "output_type": "execute_result"
    }
   ],
   "source": [
    "gs4c.best_params_"
   ]
  },
  {
   "cell_type": "code",
   "execution_count": 40,
   "id": "fb866e7a-7604-43d7-910e-038dabfc4f2c",
   "metadata": {},
   "outputs": [
    {
     "data": {
      "text/plain": [
       "{'model__max_depth': None,\n",
       " 'model__max_features': 5,\n",
       " 'model__min_samples_leaf': 2,\n",
       " 'model__min_samples_split': 5,\n",
       " 'tfidf__binary': True,\n",
       " 'tfidf__max_df': 0.9,\n",
       " 'tfidf__max_features': 2000,\n",
       " 'tfidf__ngram_range': (1, 1)}"
      ]
     },
     "execution_count": 40,
     "metadata": {},
     "output_type": "execute_result"
    }
   ],
   "source": [
    "gs4t.best_params_"
   ]
  },
  {
   "cell_type": "markdown",
   "id": "01d0fe2c-3d0b-49ca-ae02-5fa5d80e8d1f",
   "metadata": {},
   "source": [
    "* The score for the countvectorizer is still similar to the previous one whereas the score for the tfidf vectorizer has increased slightly\n",
    "* The overfitting is still similar to the previous trial\n",
    "* Out of the models done, this model has not performed as good as the others"
   ]
  },
  {
   "cell_type": "code",
   "execution_count": null,
   "id": "0ca0433c-5846-4400-b36f-19fa0e5f5cda",
   "metadata": {},
   "outputs": [],
   "source": []
  }
 ],
 "metadata": {
  "kernelspec": {
   "display_name": "Python 3 (ipykernel)",
   "language": "python",
   "name": "python3"
  },
  "language_info": {
   "codemirror_mode": {
    "name": "ipython",
    "version": 3
   },
   "file_extension": ".py",
   "mimetype": "text/x-python",
   "name": "python",
   "nbconvert_exporter": "python",
   "pygments_lexer": "ipython3",
   "version": "3.9.7"
  }
 },
 "nbformat": 4,
 "nbformat_minor": 5
}
