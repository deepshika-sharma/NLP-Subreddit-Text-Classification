{
 "cells": [
  {
   "cell_type": "markdown",
   "id": "c42d2c00-0543-47ff-8936-64dbf21b7bce",
   "metadata": {},
   "source": [
    "# Imports"
   ]
  },
  {
   "cell_type": "code",
   "execution_count": 2,
   "id": "b9e9498e-6876-4b95-8f56-0a1f356ab37a",
   "metadata": {},
   "outputs": [],
   "source": [
    "import pandas as pd\n",
    "import numpy as np\n",
    "import matplotlib.pyplot as plt\n",
    "import seaborn as sns\n",
    "from sklearn.model_selection import train_test_split, cross_val_score, GridSearchCV\n",
    "from sklearn.pipeline import Pipeline\n",
    "from sklearn.feature_extraction.text import CountVectorizer, TfidfVectorizer\n",
    "from sklearn.linear_model import LogisticRegression"
   ]
  },
  {
   "cell_type": "code",
   "execution_count": 3,
   "id": "3e308c87-3273-4005-a5f6-eafb2ee0f677",
   "metadata": {},
   "outputs": [],
   "source": [
    "# import data\n",
    "df = pd.read_csv('../data/posts.csv').dropna()"
   ]
  },
  {
   "cell_type": "code",
   "execution_count": 6,
   "id": "64373267-13fe-40f4-9d95-b7479f73c819",
   "metadata": {},
   "outputs": [
    {
     "data": {
      "text/html": [
       "<div>\n",
       "<style scoped>\n",
       "    .dataframe tbody tr th:only-of-type {\n",
       "        vertical-align: middle;\n",
       "    }\n",
       "\n",
       "    .dataframe tbody tr th {\n",
       "        vertical-align: top;\n",
       "    }\n",
       "\n",
       "    .dataframe thead th {\n",
       "        text-align: right;\n",
       "    }\n",
       "</style>\n",
       "<table border=\"1\" class=\"dataframe\">\n",
       "  <thead>\n",
       "    <tr style=\"text-align: right;\">\n",
       "      <th></th>\n",
       "      <th>post</th>\n",
       "      <th>class</th>\n",
       "    </tr>\n",
       "  </thead>\n",
       "  <tbody>\n",
       "    <tr>\n",
       "      <th>0</th>\n",
       "      <td>billy butcherson back hocus pocus doug jones s...</td>\n",
       "      <td>0</td>\n",
       "    </tr>\n",
       "    <tr>\n",
       "      <th>1</th>\n",
       "      <td>go</td>\n",
       "      <td>1</td>\n",
       "    </tr>\n",
       "    <tr>\n",
       "      <th>2</th>\n",
       "      <td>lost city open domestically</td>\n",
       "      <td>1</td>\n",
       "    </tr>\n",
       "    <tr>\n",
       "      <th>3</th>\n",
       "      <td>thirsty go watch video</td>\n",
       "      <td>0</td>\n",
       "    </tr>\n",
       "    <tr>\n",
       "      <th>4</th>\n",
       "      <td>wanted see imax dolby digital theyre showing s...</td>\n",
       "      <td>0</td>\n",
       "    </tr>\n",
       "  </tbody>\n",
       "</table>\n",
       "</div>"
      ],
      "text/plain": [
       "                                                post  class\n",
       "0  billy butcherson back hocus pocus doug jones s...      0\n",
       "1                                                 go      1\n",
       "2                        lost city open domestically      1\n",
       "3                             thirsty go watch video      0\n",
       "4  wanted see imax dolby digital theyre showing s...      0"
      ]
     },
     "execution_count": 6,
     "metadata": {},
     "output_type": "execute_result"
    }
   ],
   "source": [
    "df.head() # 0 movies, 1 == boxoffice"
   ]
  },
  {
   "cell_type": "code",
   "execution_count": 42,
   "id": "f4314f81-e09b-4fb0-b0d6-76a15963c2d4",
   "metadata": {},
   "outputs": [],
   "source": [
    "# create a dataframe to store results\n",
    "res = pd.DataFrame(columns=['train_score_c', 'test_score_c', 'train_score_t', 'test_score_t'])\n"
   ]
  },
  {
   "cell_type": "code",
   "execution_count": 18,
   "id": "ee681def-0399-4589-9e30-d0fa1e477117",
   "metadata": {},
   "outputs": [],
   "source": [
    "# function to add results\n",
    "\n",
    "def results(train_c, test_c, train_t, test_t):\n",
    "    res.loc[len(naive_res)] = [round(train_c,3), round(test_c, 3), round(train_t,3), round(test_t, 3)]\n",
    "    return res\n",
    "                  \n",
    "                  "
   ]
  },
  {
   "cell_type": "markdown",
   "id": "38ef1f89-5f23-4980-81de-f33acf1d8469",
   "metadata": {},
   "source": [
    "# Splitting Data"
   ]
  },
  {
   "cell_type": "code",
   "execution_count": 9,
   "id": "25338272-a439-4f2c-a8a7-d84c7cc205e7",
   "metadata": {},
   "outputs": [],
   "source": [
    "# create X and y\n",
    "X = df['post']\n",
    "y = df['class']"
   ]
  },
  {
   "cell_type": "code",
   "execution_count": 61,
   "id": "7ac9201d-a63d-47ac-8b63-8326f9c0a988",
   "metadata": {},
   "outputs": [
    {
     "data": {
      "text/plain": [
       "1    0.505869\n",
       "0    0.494131\n",
       "Name: class, dtype: float64"
      ]
     },
     "execution_count": 61,
     "metadata": {},
     "output_type": "execute_result"
    }
   ],
   "source": [
    "y.value_counts(normalize=True) # base line score"
   ]
  },
  {
   "cell_type": "code",
   "execution_count": 10,
   "id": "2353dab4-1105-4289-9a96-93b289e23765",
   "metadata": {},
   "outputs": [],
   "source": [
    "# train test split\n",
    "X_train, X_test, y_train, y_test = train_test_split(X, y, random_state=42, stratify=y)"
   ]
  },
  {
   "cell_type": "code",
   "execution_count": 11,
   "id": "e7d10cef-3807-46b8-ba1f-9477e0266442",
   "metadata": {},
   "outputs": [],
   "source": [
    "# create pipes, for countvectorizer and tfidfvectorizer\n",
    "pipe1 = Pipeline([\n",
    "    ('cvec', CountVectorizer()),\n",
    "    ('model', LogisticRegression())\n",
    "])\n",
    "\n",
    "pipe2 = Pipeline([\n",
    "    ('tfidf', TfidfVectorizer()),\n",
    "    ('model', LogisticRegression())\n",
    "])"
   ]
  },
  {
   "cell_type": "code",
   "execution_count": 12,
   "id": "949f9366-c380-4f92-ba08-e1ddaf6174fc",
   "metadata": {},
   "outputs": [],
   "source": [
    "params = {\n",
    "    'model__solver': ['liblinear']\n",
    "}"
   ]
  },
  {
   "cell_type": "code",
   "execution_count": null,
   "id": "343963dd-a48d-4da8-b0ed-0c67e3f61f82",
   "metadata": {},
   "outputs": [],
   "source": []
  },
  {
   "cell_type": "code",
   "execution_count": null,
   "id": "9256a44a-4b37-4b5a-910d-db6a8ca92e0d",
   "metadata": {},
   "outputs": [],
   "source": []
  },
  {
   "cell_type": "markdown",
   "id": "0d010585-0133-405e-9769-622a8a7d5042",
   "metadata": {},
   "source": [
    "# Trial 1"
   ]
  },
  {
   "cell_type": "code",
   "execution_count": 13,
   "id": "141f743f-5ef2-4b20-a8b8-639a42f63449",
   "metadata": {},
   "outputs": [],
   "source": [
    "gs1c = GridSearchCV(pipe1, param_grid=params, verbose=1, n_jobs=-1, cv=10)\n",
    "gs1t = GridSearchCV(pipe2, param_grid=params, verbose=1, n_jobs=-1, cv=10)"
   ]
  },
  {
   "cell_type": "code",
   "execution_count": 14,
   "id": "5d5aa7fa-136b-447e-ad7a-7da6b622dcec",
   "metadata": {},
   "outputs": [
    {
     "name": "stdout",
     "output_type": "stream",
     "text": [
      "Fitting 10 folds for each of 1 candidates, totalling 10 fits\n"
     ]
    },
    {
     "data": {
      "text/plain": [
       "GridSearchCV(cv=10,\n",
       "             estimator=Pipeline(steps=[('cvec', CountVectorizer()),\n",
       "                                       ('model', LogisticRegression())]),\n",
       "             n_jobs=-1, param_grid={'model__solver': ['liblinear']}, verbose=1)"
      ]
     },
     "execution_count": 14,
     "metadata": {},
     "output_type": "execute_result"
    }
   ],
   "source": [
    "gs1c.fit(X_train, y_train)"
   ]
  },
  {
   "cell_type": "code",
   "execution_count": 15,
   "id": "2fbae48d-c19f-4591-9978-2462e5b63401",
   "metadata": {},
   "outputs": [
    {
     "name": "stdout",
     "output_type": "stream",
     "text": [
      "Fitting 10 folds for each of 1 candidates, totalling 10 fits\n"
     ]
    },
    {
     "data": {
      "text/plain": [
       "GridSearchCV(cv=10,\n",
       "             estimator=Pipeline(steps=[('tfidf', TfidfVectorizer()),\n",
       "                                       ('model', LogisticRegression())]),\n",
       "             n_jobs=-1, param_grid={'model__solver': ['liblinear']}, verbose=1)"
      ]
     },
     "execution_count": 15,
     "metadata": {},
     "output_type": "execute_result"
    }
   ],
   "source": [
    "gs1t.fit(X_train, y_train)"
   ]
  },
  {
   "cell_type": "code",
   "execution_count": 43,
   "id": "e0dfa3fe-e716-4966-93f6-76b1ee9a48a9",
   "metadata": {},
   "outputs": [
    {
     "data": {
      "text/html": [
       "<div>\n",
       "<style scoped>\n",
       "    .dataframe tbody tr th:only-of-type {\n",
       "        vertical-align: middle;\n",
       "    }\n",
       "\n",
       "    .dataframe tbody tr th {\n",
       "        vertical-align: top;\n",
       "    }\n",
       "\n",
       "    .dataframe thead th {\n",
       "        text-align: right;\n",
       "    }\n",
       "</style>\n",
       "<table border=\"1\" class=\"dataframe\">\n",
       "  <thead>\n",
       "    <tr style=\"text-align: right;\">\n",
       "      <th></th>\n",
       "      <th>train_score_c</th>\n",
       "      <th>test_score_c</th>\n",
       "      <th>train_score_t</th>\n",
       "      <th>test_score_t</th>\n",
       "    </tr>\n",
       "  </thead>\n",
       "  <tbody>\n",
       "    <tr>\n",
       "      <th>0</th>\n",
       "      <td>0.915</td>\n",
       "      <td>0.768</td>\n",
       "      <td>0.86</td>\n",
       "      <td>0.769</td>\n",
       "    </tr>\n",
       "  </tbody>\n",
       "</table>\n",
       "</div>"
      ],
      "text/plain": [
       "   train_score_c  test_score_c  train_score_t  test_score_t\n",
       "0          0.915         0.768           0.86         0.769"
      ]
     },
     "execution_count": 43,
     "metadata": {},
     "output_type": "execute_result"
    }
   ],
   "source": [
    "results(gs1c.score(X_train, y_train), gs1c.score(X_test, y_test), gs1t.score(X_train, y_train), gs1t.score(X_test, y_test))\n"
   ]
  },
  {
   "cell_type": "markdown",
   "id": "3ab4a73e-6990-4036-9615-44e92fbea0aa",
   "metadata": {},
   "source": [
    "* The score is definitely better than the baseline score\n",
    "* Default params were used\n",
    "* The model overfits on the training data more for the countvectorizer than the tfidfvectorizer"
   ]
  },
  {
   "cell_type": "code",
   "execution_count": null,
   "id": "cec48091-b7f5-4624-979b-25e5d1ab4438",
   "metadata": {},
   "outputs": [],
   "source": []
  },
  {
   "cell_type": "markdown",
   "id": "39d26f50-1343-48b9-b83a-5e3f5637ae1b",
   "metadata": {},
   "source": [
    "# Trial 2"
   ]
  },
  {
   "cell_type": "code",
   "execution_count": 20,
   "id": "28b5471a-7f23-464f-9304-998e4a87d4c4",
   "metadata": {},
   "outputs": [],
   "source": [
    "params = {\n",
    "    'model__C': [100, 10, 1.0, 0.1, 0.01],\n",
    "    'model__penalty': ['l1', 'l2'],\n",
    "    'model__solver': ['liblinear'], \n",
    "}"
   ]
  },
  {
   "cell_type": "code",
   "execution_count": 21,
   "id": "13d9648b-a459-40d5-974f-e0bcd49addfd",
   "metadata": {},
   "outputs": [],
   "source": [
    "gs2c = GridSearchCV(pipe1, param_grid=params, verbose=1, n_jobs=-1, cv=10)\n",
    "gs2t = GridSearchCV(pipe2, param_grid=params, verbose=1, n_jobs=-1, cv=10)"
   ]
  },
  {
   "cell_type": "code",
   "execution_count": 22,
   "id": "0f7741cd-b75c-46d7-82b1-1899a91b4cbc",
   "metadata": {},
   "outputs": [
    {
     "name": "stdout",
     "output_type": "stream",
     "text": [
      "Fitting 10 folds for each of 10 candidates, totalling 100 fits\n"
     ]
    },
    {
     "data": {
      "text/plain": [
       "GridSearchCV(cv=10,\n",
       "             estimator=Pipeline(steps=[('cvec', CountVectorizer()),\n",
       "                                       ('model', LogisticRegression())]),\n",
       "             n_jobs=-1,\n",
       "             param_grid={'model__C': [100, 10, 1.0, 0.1, 0.01],\n",
       "                         'model__penalty': ['l1', 'l2'],\n",
       "                         'model__solver': ['liblinear']},\n",
       "             verbose=1)"
      ]
     },
     "execution_count": 22,
     "metadata": {},
     "output_type": "execute_result"
    }
   ],
   "source": [
    "gs2c.fit(X_train, y_train)"
   ]
  },
  {
   "cell_type": "code",
   "execution_count": 23,
   "id": "58c84cdc-7449-4527-bdf1-b087ebb32ad3",
   "metadata": {},
   "outputs": [
    {
     "name": "stdout",
     "output_type": "stream",
     "text": [
      "Fitting 10 folds for each of 10 candidates, totalling 100 fits\n"
     ]
    },
    {
     "data": {
      "text/plain": [
       "GridSearchCV(cv=10,\n",
       "             estimator=Pipeline(steps=[('tfidf', TfidfVectorizer()),\n",
       "                                       ('model', LogisticRegression())]),\n",
       "             n_jobs=-1,\n",
       "             param_grid={'model__C': [100, 10, 1.0, 0.1, 0.01],\n",
       "                         'model__penalty': ['l1', 'l2'],\n",
       "                         'model__solver': ['liblinear']},\n",
       "             verbose=1)"
      ]
     },
     "execution_count": 23,
     "metadata": {},
     "output_type": "execute_result"
    }
   ],
   "source": [
    "gs2t.fit(X_train, y_train)"
   ]
  },
  {
   "cell_type": "code",
   "execution_count": 44,
   "id": "3a1e5286-bce6-40bf-8bb7-ff5062e397a3",
   "metadata": {},
   "outputs": [
    {
     "data": {
      "text/html": [
       "<div>\n",
       "<style scoped>\n",
       "    .dataframe tbody tr th:only-of-type {\n",
       "        vertical-align: middle;\n",
       "    }\n",
       "\n",
       "    .dataframe tbody tr th {\n",
       "        vertical-align: top;\n",
       "    }\n",
       "\n",
       "    .dataframe thead th {\n",
       "        text-align: right;\n",
       "    }\n",
       "</style>\n",
       "<table border=\"1\" class=\"dataframe\">\n",
       "  <thead>\n",
       "    <tr style=\"text-align: right;\">\n",
       "      <th></th>\n",
       "      <th>train_score_c</th>\n",
       "      <th>test_score_c</th>\n",
       "      <th>train_score_t</th>\n",
       "      <th>test_score_t</th>\n",
       "    </tr>\n",
       "  </thead>\n",
       "  <tbody>\n",
       "    <tr>\n",
       "      <th>0</th>\n",
       "      <td>0.915</td>\n",
       "      <td>0.768</td>\n",
       "      <td>0.86</td>\n",
       "      <td>0.769</td>\n",
       "    </tr>\n",
       "    <tr>\n",
       "      <th>1</th>\n",
       "      <td>0.834</td>\n",
       "      <td>0.765</td>\n",
       "      <td>0.86</td>\n",
       "      <td>0.769</td>\n",
       "    </tr>\n",
       "  </tbody>\n",
       "</table>\n",
       "</div>"
      ],
      "text/plain": [
       "   train_score_c  test_score_c  train_score_t  test_score_t\n",
       "0          0.915         0.768           0.86         0.769\n",
       "1          0.834         0.765           0.86         0.769"
      ]
     },
     "execution_count": 44,
     "metadata": {},
     "output_type": "execute_result"
    }
   ],
   "source": [
    "results(gs2c.score(X_train, y_train), gs2c.score(X_test, y_test), gs2t.score(X_train, y_train), gs2t.score(X_test, y_test))\n"
   ]
  },
  {
   "cell_type": "code",
   "execution_count": 28,
   "id": "07d3beb6-431f-46ce-aa2a-270cbd1e3747",
   "metadata": {},
   "outputs": [
    {
     "data": {
      "text/plain": [
       "{'model__C': 0.1, 'model__penalty': 'l2', 'model__solver': 'liblinear'}"
      ]
     },
     "execution_count": 28,
     "metadata": {},
     "output_type": "execute_result"
    }
   ],
   "source": [
    "gs2c.best_params_"
   ]
  },
  {
   "cell_type": "code",
   "execution_count": 29,
   "id": "bb65e414-ff5c-4fa7-941b-df0a4aa2d9d2",
   "metadata": {},
   "outputs": [
    {
     "data": {
      "text/plain": [
       "{'model__C': 1.0, 'model__penalty': 'l2', 'model__solver': 'liblinear'}"
      ]
     },
     "execution_count": 29,
     "metadata": {},
     "output_type": "execute_result"
    }
   ],
   "source": [
    "gs2t.best_params_"
   ]
  },
  {
   "cell_type": "markdown",
   "id": "afe0bfb0-a9eb-47d1-b918-4916db586557",
   "metadata": {},
   "source": [
    "* The scores are similar to the previous trial\n",
    "* For the countvectorizer, the model fits less on the training data\n",
    "* Only the model was tuned"
   ]
  },
  {
   "cell_type": "code",
   "execution_count": null,
   "id": "ee09cc9a-bcc1-4934-8fcc-cac3e3780422",
   "metadata": {},
   "outputs": [],
   "source": []
  },
  {
   "cell_type": "markdown",
   "id": "950838ab-34e5-467e-89ef-be858bb8abbd",
   "metadata": {},
   "source": [
    "# Trial 3"
   ]
  },
  {
   "cell_type": "code",
   "execution_count": 30,
   "id": "c22d26ac-98d1-4c1a-a808-82fcccd392c8",
   "metadata": {},
   "outputs": [],
   "source": [
    "params1 = {\n",
    "     'cvec__max_features': [1500, 2000, 2500],\n",
    "    'cvec__max_df': [.8, .7],\n",
    "    'cvec__ngram_range': [(1,1)],\n",
    "    'cvec__binary': [True],\n",
    "    'model__C': [0.1, 0.001, 5, 10],\n",
    "    'model__solver': ['liblinear']\n",
    "}\n",
    "\n",
    "params2 = {\n",
    "     'tfidf__max_features': [1500, 2000, 2500],\n",
    "    'tfidf__max_df': [.8, .7],\n",
    "    'tfidf__ngram_range': [(1,1)],\n",
    "    'tfidf__binary': [True],\n",
    "    'model__C': [1, 100, 0.1],\n",
    "    'model__solver': ['liblinear']\n",
    "}"
   ]
  },
  {
   "cell_type": "code",
   "execution_count": 31,
   "id": "bf11e7c5-66df-4da2-aced-96a092c74f92",
   "metadata": {},
   "outputs": [],
   "source": [
    "gs3c = GridSearchCV(pipe1, param_grid=params1, verbose=1, n_jobs=-1, cv=10)\n",
    "gs3t = GridSearchCV(pipe2, param_grid=params2, verbose=1, n_jobs=-1, cv=10)"
   ]
  },
  {
   "cell_type": "code",
   "execution_count": 32,
   "id": "31dfffe0-92ba-4131-93a5-eaef663cbdb9",
   "metadata": {},
   "outputs": [
    {
     "name": "stdout",
     "output_type": "stream",
     "text": [
      "Fitting 10 folds for each of 24 candidates, totalling 240 fits\n"
     ]
    },
    {
     "data": {
      "text/plain": [
       "GridSearchCV(cv=10,\n",
       "             estimator=Pipeline(steps=[('cvec', CountVectorizer()),\n",
       "                                       ('model', LogisticRegression())]),\n",
       "             n_jobs=-1,\n",
       "             param_grid={'cvec__binary': [True], 'cvec__max_df': [0.8, 0.7],\n",
       "                         'cvec__max_features': [1500, 2000, 2500],\n",
       "                         'cvec__ngram_range': [(1, 1)],\n",
       "                         'model__C': [0.1, 0.001, 5, 10],\n",
       "                         'model__solver': ['liblinear']},\n",
       "             verbose=1)"
      ]
     },
     "execution_count": 32,
     "metadata": {},
     "output_type": "execute_result"
    }
   ],
   "source": [
    "gs3c.fit(X_train, y_train)"
   ]
  },
  {
   "cell_type": "code",
   "execution_count": 33,
   "id": "90881a48-3070-4dbf-8bed-cbdd63042946",
   "metadata": {},
   "outputs": [
    {
     "name": "stdout",
     "output_type": "stream",
     "text": [
      "Fitting 10 folds for each of 18 candidates, totalling 180 fits\n"
     ]
    },
    {
     "data": {
      "text/plain": [
       "GridSearchCV(cv=10,\n",
       "             estimator=Pipeline(steps=[('tfidf', TfidfVectorizer()),\n",
       "                                       ('model', LogisticRegression())]),\n",
       "             n_jobs=-1,\n",
       "             param_grid={'model__C': [1, 100, 0.1],\n",
       "                         'model__solver': ['liblinear'],\n",
       "                         'tfidf__binary': [True], 'tfidf__max_df': [0.8, 0.7],\n",
       "                         'tfidf__max_features': [1500, 2000, 2500],\n",
       "                         'tfidf__ngram_range': [(1, 1)]},\n",
       "             verbose=1)"
      ]
     },
     "execution_count": 33,
     "metadata": {},
     "output_type": "execute_result"
    }
   ],
   "source": [
    "gs3t.fit(X_train, y_train)"
   ]
  },
  {
   "cell_type": "code",
   "execution_count": 45,
   "id": "58013c9f-2460-4f5f-a780-0168d7c6dc5c",
   "metadata": {},
   "outputs": [
    {
     "data": {
      "text/html": [
       "<div>\n",
       "<style scoped>\n",
       "    .dataframe tbody tr th:only-of-type {\n",
       "        vertical-align: middle;\n",
       "    }\n",
       "\n",
       "    .dataframe tbody tr th {\n",
       "        vertical-align: top;\n",
       "    }\n",
       "\n",
       "    .dataframe thead th {\n",
       "        text-align: right;\n",
       "    }\n",
       "</style>\n",
       "<table border=\"1\" class=\"dataframe\">\n",
       "  <thead>\n",
       "    <tr style=\"text-align: right;\">\n",
       "      <th></th>\n",
       "      <th>train_score_c</th>\n",
       "      <th>test_score_c</th>\n",
       "      <th>train_score_t</th>\n",
       "      <th>test_score_t</th>\n",
       "    </tr>\n",
       "  </thead>\n",
       "  <tbody>\n",
       "    <tr>\n",
       "      <th>0</th>\n",
       "      <td>0.915</td>\n",
       "      <td>0.768</td>\n",
       "      <td>0.860</td>\n",
       "      <td>0.769</td>\n",
       "    </tr>\n",
       "    <tr>\n",
       "      <th>1</th>\n",
       "      <td>0.834</td>\n",
       "      <td>0.765</td>\n",
       "      <td>0.860</td>\n",
       "      <td>0.769</td>\n",
       "    </tr>\n",
       "    <tr>\n",
       "      <th>2</th>\n",
       "      <td>0.807</td>\n",
       "      <td>0.761</td>\n",
       "      <td>0.825</td>\n",
       "      <td>0.765</td>\n",
       "    </tr>\n",
       "  </tbody>\n",
       "</table>\n",
       "</div>"
      ],
      "text/plain": [
       "   train_score_c  test_score_c  train_score_t  test_score_t\n",
       "0          0.915         0.768          0.860         0.769\n",
       "1          0.834         0.765          0.860         0.769\n",
       "2          0.807         0.761          0.825         0.765"
      ]
     },
     "execution_count": 45,
     "metadata": {},
     "output_type": "execute_result"
    }
   ],
   "source": [
    "results(gs3c.score(X_train, y_train), gs3c.score(X_test, y_test), gs3t.score(X_train, y_train), gs3t.score(X_test, y_test))\n"
   ]
  },
  {
   "cell_type": "code",
   "execution_count": 35,
   "id": "2ec59508-cb0d-4377-baae-e2a9bed5b872",
   "metadata": {},
   "outputs": [
    {
     "data": {
      "text/plain": [
       "{'cvec__binary': True,\n",
       " 'cvec__max_df': 0.8,\n",
       " 'cvec__max_features': 2500,\n",
       " 'cvec__ngram_range': (1, 1),\n",
       " 'model__C': 0.1,\n",
       " 'model__solver': 'liblinear'}"
      ]
     },
     "execution_count": 35,
     "metadata": {},
     "output_type": "execute_result"
    }
   ],
   "source": [
    "gs3c.best_params_"
   ]
  },
  {
   "cell_type": "code",
   "execution_count": 36,
   "id": "810e7140-c207-4c3a-b8a6-29b303e9ee11",
   "metadata": {},
   "outputs": [
    {
     "data": {
      "text/plain": [
       "{'model__C': 1,\n",
       " 'model__solver': 'liblinear',\n",
       " 'tfidf__binary': True,\n",
       " 'tfidf__max_df': 0.8,\n",
       " 'tfidf__max_features': 2500,\n",
       " 'tfidf__ngram_range': (1, 1)}"
      ]
     },
     "execution_count": 36,
     "metadata": {},
     "output_type": "execute_result"
    }
   ],
   "source": [
    "gs3t.best_params_"
   ]
  },
  {
   "cell_type": "markdown",
   "id": "dfa945ca-fd2e-4501-ba89-72ad9610fcd3",
   "metadata": {},
   "source": [
    "* The model and vectorizers were tuned\n",
    "* The scores are still similar to previous scores\n",
    "* The model is less overfitting"
   ]
  },
  {
   "cell_type": "code",
   "execution_count": null,
   "id": "f1fc0fef-af85-4c4e-9912-958598bc71ee",
   "metadata": {},
   "outputs": [],
   "source": []
  },
  {
   "cell_type": "markdown",
   "id": "6db666f3-b87b-496e-b61f-e35c2e305f22",
   "metadata": {},
   "source": [
    "# Trial 4"
   ]
  },
  {
   "cell_type": "code",
   "execution_count": 37,
   "id": "f87f8721-d0c7-457b-a871-38d3203da38c",
   "metadata": {},
   "outputs": [],
   "source": [
    "params1 = {\n",
    "     'cvec__max_features': [2000, 2500, 3000, 3500],\n",
    "    'cvec__max_df': [.8, .7, 0.9],\n",
    "    'cvec__ngram_range': [(1,1), (1,2)],\n",
    "    'cvec__binary': [True],\n",
    "    'model__C': [0.1, 0.001, 1],\n",
    "    'model__solver': ['liblinear']\n",
    "}\n",
    "\n",
    "params2 = {\n",
    "     'tfidf__max_features': [2000, 2500, 300, 3500],\n",
    "    'tfidf__max_df': [.8, .7, 0.9],\n",
    "    'tfidf__ngram_range': [(1,1), (1,2)],\n",
    "    'tfidf__binary': [True],\n",
    "    'model__C': [1,  0.1, 0.01],\n",
    "    'model__solver': ['liblinear']\n",
    "}"
   ]
  },
  {
   "cell_type": "code",
   "execution_count": 38,
   "id": "d945efc7-9959-4d4e-a4c5-80c137e15129",
   "metadata": {},
   "outputs": [],
   "source": [
    "gs4c = GridSearchCV(pipe1, param_grid=params1, verbose=1, n_jobs=-1, cv=10)\n",
    "gs4t = GridSearchCV(pipe2, param_grid=params2, verbose=1, n_jobs=-1, cv=10)"
   ]
  },
  {
   "cell_type": "code",
   "execution_count": 39,
   "id": "8742ac3f-2a40-41ee-aef2-aa9935481840",
   "metadata": {},
   "outputs": [
    {
     "name": "stdout",
     "output_type": "stream",
     "text": [
      "Fitting 10 folds for each of 72 candidates, totalling 720 fits\n"
     ]
    },
    {
     "data": {
      "text/plain": [
       "GridSearchCV(cv=10,\n",
       "             estimator=Pipeline(steps=[('cvec', CountVectorizer()),\n",
       "                                       ('model', LogisticRegression())]),\n",
       "             n_jobs=-1,\n",
       "             param_grid={'cvec__binary': [True],\n",
       "                         'cvec__max_df': [0.8, 0.7, 0.9],\n",
       "                         'cvec__max_features': [2000, 2500, 3000, 3500],\n",
       "                         'cvec__ngram_range': [(1, 1), (1, 2)],\n",
       "                         'model__C': [0.1, 0.001, 1],\n",
       "                         'model__solver': ['liblinear']},\n",
       "             verbose=1)"
      ]
     },
     "execution_count": 39,
     "metadata": {},
     "output_type": "execute_result"
    }
   ],
   "source": [
    "gs4c.fit(X_train, y_train)"
   ]
  },
  {
   "cell_type": "code",
   "execution_count": 40,
   "id": "e65383a3-b707-4f8f-9be9-b34c5047c01e",
   "metadata": {},
   "outputs": [
    {
     "name": "stdout",
     "output_type": "stream",
     "text": [
      "Fitting 10 folds for each of 72 candidates, totalling 720 fits\n"
     ]
    },
    {
     "data": {
      "text/plain": [
       "GridSearchCV(cv=10,\n",
       "             estimator=Pipeline(steps=[('tfidf', TfidfVectorizer()),\n",
       "                                       ('model', LogisticRegression())]),\n",
       "             n_jobs=-1,\n",
       "             param_grid={'model__C': [1, 0.1, 0.01],\n",
       "                         'model__solver': ['liblinear'],\n",
       "                         'tfidf__binary': [True],\n",
       "                         'tfidf__max_df': [0.8, 0.7, 0.9],\n",
       "                         'tfidf__max_features': [2000, 2500, 300, 3500],\n",
       "                         'tfidf__ngram_range': [(1, 1), (1, 2)]},\n",
       "             verbose=1)"
      ]
     },
     "execution_count": 40,
     "metadata": {},
     "output_type": "execute_result"
    }
   ],
   "source": [
    "gs4t.fit(X_train, y_train)"
   ]
  },
  {
   "cell_type": "code",
   "execution_count": 46,
   "id": "c19b59bf-9d55-4026-970c-85d61bcd9621",
   "metadata": {},
   "outputs": [
    {
     "data": {
      "text/html": [
       "<div>\n",
       "<style scoped>\n",
       "    .dataframe tbody tr th:only-of-type {\n",
       "        vertical-align: middle;\n",
       "    }\n",
       "\n",
       "    .dataframe tbody tr th {\n",
       "        vertical-align: top;\n",
       "    }\n",
       "\n",
       "    .dataframe thead th {\n",
       "        text-align: right;\n",
       "    }\n",
       "</style>\n",
       "<table border=\"1\" class=\"dataframe\">\n",
       "  <thead>\n",
       "    <tr style=\"text-align: right;\">\n",
       "      <th></th>\n",
       "      <th>train_score_c</th>\n",
       "      <th>test_score_c</th>\n",
       "      <th>train_score_t</th>\n",
       "      <th>test_score_t</th>\n",
       "    </tr>\n",
       "  </thead>\n",
       "  <tbody>\n",
       "    <tr>\n",
       "      <th>0</th>\n",
       "      <td>0.915</td>\n",
       "      <td>0.768</td>\n",
       "      <td>0.860</td>\n",
       "      <td>0.769</td>\n",
       "    </tr>\n",
       "    <tr>\n",
       "      <th>1</th>\n",
       "      <td>0.834</td>\n",
       "      <td>0.765</td>\n",
       "      <td>0.860</td>\n",
       "      <td>0.769</td>\n",
       "    </tr>\n",
       "    <tr>\n",
       "      <th>2</th>\n",
       "      <td>0.807</td>\n",
       "      <td>0.761</td>\n",
       "      <td>0.825</td>\n",
       "      <td>0.765</td>\n",
       "    </tr>\n",
       "    <tr>\n",
       "      <th>3</th>\n",
       "      <td>0.816</td>\n",
       "      <td>0.760</td>\n",
       "      <td>0.834</td>\n",
       "      <td>0.762</td>\n",
       "    </tr>\n",
       "  </tbody>\n",
       "</table>\n",
       "</div>"
      ],
      "text/plain": [
       "   train_score_c  test_score_c  train_score_t  test_score_t\n",
       "0          0.915         0.768          0.860         0.769\n",
       "1          0.834         0.765          0.860         0.769\n",
       "2          0.807         0.761          0.825         0.765\n",
       "3          0.816         0.760          0.834         0.762"
      ]
     },
     "execution_count": 46,
     "metadata": {},
     "output_type": "execute_result"
    }
   ],
   "source": [
    "results(gs4c.score(X_train, y_train), gs4c.score(X_test, y_test), gs4t.score(X_train, y_train), gs4t.score(X_test, y_test))\n"
   ]
  },
  {
   "cell_type": "code",
   "execution_count": 47,
   "id": "3744db85-7408-40e4-96f4-b2875f1e72a4",
   "metadata": {},
   "outputs": [
    {
     "data": {
      "text/plain": [
       "{'cvec__binary': True,\n",
       " 'cvec__max_df': 0.8,\n",
       " 'cvec__max_features': 3500,\n",
       " 'cvec__ngram_range': (1, 2),\n",
       " 'model__C': 0.1,\n",
       " 'model__solver': 'liblinear'}"
      ]
     },
     "execution_count": 47,
     "metadata": {},
     "output_type": "execute_result"
    }
   ],
   "source": [
    "gs4c.best_params_"
   ]
  },
  {
   "cell_type": "code",
   "execution_count": 48,
   "id": "802c9db7-9962-4657-a263-1bc44687535f",
   "metadata": {},
   "outputs": [
    {
     "data": {
      "text/plain": [
       "{'model__C': 1,\n",
       " 'model__solver': 'liblinear',\n",
       " 'tfidf__binary': True,\n",
       " 'tfidf__max_df': 0.8,\n",
       " 'tfidf__max_features': 3500,\n",
       " 'tfidf__ngram_range': (1, 1)}"
      ]
     },
     "execution_count": 48,
     "metadata": {},
     "output_type": "execute_result"
    }
   ],
   "source": [
    "gs4t.best_params_"
   ]
  },
  {
   "cell_type": "code",
   "execution_count": null,
   "id": "87803d94-d15f-4256-8cbd-e8a3dc0c285e",
   "metadata": {},
   "outputs": [],
   "source": []
  },
  {
   "cell_type": "markdown",
   "id": "23d15399-7460-4d5a-9f74-72096880851d",
   "metadata": {},
   "source": [
    "* There isn't really a clearcut answer to which hyperparameter combinations could be better as all the scores are similar\n",
    "* It could be the first 2 models using tfidf vectorizer as it has a higher accuracy score and at the same time has less overfitting"
   ]
  },
  {
   "cell_type": "code",
   "execution_count": null,
   "id": "4ef6cd19-eac7-4c56-9a87-79644d30b421",
   "metadata": {},
   "outputs": [],
   "source": []
  }
 ],
 "metadata": {
  "kernelspec": {
   "display_name": "Python 3 (ipykernel)",
   "language": "python",
   "name": "python3"
  },
  "language_info": {
   "codemirror_mode": {
    "name": "ipython",
    "version": 3
   },
   "file_extension": ".py",
   "mimetype": "text/x-python",
   "name": "python",
   "nbconvert_exporter": "python",
   "pygments_lexer": "ipython3",
   "version": "3.9.7"
  }
 },
 "nbformat": 4,
 "nbformat_minor": 5
}
