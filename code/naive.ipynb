{
 "cells": [
  {
   "cell_type": "markdown",
   "id": "fa73ad2c-7766-432c-9324-6eef3e1b4bec",
   "metadata": {},
   "source": [
    "# Imports"
   ]
  },
  {
   "cell_type": "code",
   "execution_count": 1,
   "id": "86686721-292f-45f3-b0fd-bf26f5472166",
   "metadata": {},
   "outputs": [],
   "source": [
    "import pandas as pd\n",
    "import numpy as np\n",
    "import matplotlib.pyplot as plt\n",
    "import seaborn as sns\n",
    "from sklearn.model_selection import train_test_split, cross_val_score, GridSearchCV\n",
    "from sklearn.pipeline import Pipeline\n",
    "from sklearn.feature_extraction.text import CountVectorizer, TfidfVectorizer\n",
    "from sklearn.naive_bayes import MultinomialNB"
   ]
  },
  {
   "cell_type": "code",
   "execution_count": 44,
   "id": "f7d4e2b4-8f43-4493-930c-d255063153a6",
   "metadata": {},
   "outputs": [],
   "source": [
    "# import data\n",
    "df = pd.read_csv('../data/posts.csv').dropna()"
   ]
  },
  {
   "cell_type": "code",
   "execution_count": 3,
   "id": "6ef7a757-f6ad-4997-bc9a-dc366885fabe",
   "metadata": {},
   "outputs": [
    {
     "data": {
      "text/html": [
       "<div>\n",
       "<style scoped>\n",
       "    .dataframe tbody tr th:only-of-type {\n",
       "        vertical-align: middle;\n",
       "    }\n",
       "\n",
       "    .dataframe tbody tr th {\n",
       "        vertical-align: top;\n",
       "    }\n",
       "\n",
       "    .dataframe thead th {\n",
       "        text-align: right;\n",
       "    }\n",
       "</style>\n",
       "<table border=\"1\" class=\"dataframe\">\n",
       "  <thead>\n",
       "    <tr style=\"text-align: right;\">\n",
       "      <th></th>\n",
       "      <th>post</th>\n",
       "      <th>class</th>\n",
       "    </tr>\n",
       "  </thead>\n",
       "  <tbody>\n",
       "    <tr>\n",
       "      <th>0</th>\n",
       "      <td>billy butcherson back hocus pocus doug jones s...</td>\n",
       "      <td>0</td>\n",
       "    </tr>\n",
       "    <tr>\n",
       "      <th>1</th>\n",
       "      <td>go</td>\n",
       "      <td>1</td>\n",
       "    </tr>\n",
       "    <tr>\n",
       "      <th>2</th>\n",
       "      <td>lost city open domestically</td>\n",
       "      <td>1</td>\n",
       "    </tr>\n",
       "    <tr>\n",
       "      <th>3</th>\n",
       "      <td>thirsty go watch video</td>\n",
       "      <td>0</td>\n",
       "    </tr>\n",
       "    <tr>\n",
       "      <th>4</th>\n",
       "      <td>wanted see imax dolby digital theyre showing s...</td>\n",
       "      <td>0</td>\n",
       "    </tr>\n",
       "    <tr>\n",
       "      <th>...</th>\n",
       "      <td>...</td>\n",
       "      <td>...</td>\n",
       "    </tr>\n",
       "    <tr>\n",
       "      <th>19182</th>\n",
       "      <td>dc film next cross domestically opening weekend</td>\n",
       "      <td>1</td>\n",
       "    </tr>\n",
       "    <tr>\n",
       "      <th>19183</th>\n",
       "      <td>first image cillian murphy j robert oppenheime...</td>\n",
       "      <td>0</td>\n",
       "    </tr>\n",
       "    <tr>\n",
       "      <th>19184</th>\n",
       "      <td>stunt mean stunt pulled actor sense owni know ...</td>\n",
       "      <td>1</td>\n",
       "    </tr>\n",
       "    <tr>\n",
       "      <th>19185</th>\n",
       "      <td>maybe thats play</td>\n",
       "      <td>1</td>\n",
       "    </tr>\n",
       "    <tr>\n",
       "      <th>19186</th>\n",
       "      <td>remember watching long time ago watch</td>\n",
       "      <td>1</td>\n",
       "    </tr>\n",
       "  </tbody>\n",
       "</table>\n",
       "<p>19082 rows × 2 columns</p>\n",
       "</div>"
      ],
      "text/plain": [
       "                                                    post  class\n",
       "0      billy butcherson back hocus pocus doug jones s...      0\n",
       "1                                                     go      1\n",
       "2                            lost city open domestically      1\n",
       "3                                 thirsty go watch video      0\n",
       "4      wanted see imax dolby digital theyre showing s...      0\n",
       "...                                                  ...    ...\n",
       "19182    dc film next cross domestically opening weekend      1\n",
       "19183  first image cillian murphy j robert oppenheime...      0\n",
       "19184  stunt mean stunt pulled actor sense owni know ...      1\n",
       "19185                                   maybe thats play      1\n",
       "19186              remember watching long time ago watch      1\n",
       "\n",
       "[19082 rows x 2 columns]"
      ]
     },
     "execution_count": 3,
     "metadata": {},
     "output_type": "execute_result"
    }
   ],
   "source": [
    "df"
   ]
  },
  {
   "cell_type": "code",
   "execution_count": 4,
   "id": "3a4de5eb-dd40-41cb-9d24-46f519d1c3b8",
   "metadata": {},
   "outputs": [
    {
     "data": {
      "text/html": [
       "<div>\n",
       "<style scoped>\n",
       "    .dataframe tbody tr th:only-of-type {\n",
       "        vertical-align: middle;\n",
       "    }\n",
       "\n",
       "    .dataframe tbody tr th {\n",
       "        vertical-align: top;\n",
       "    }\n",
       "\n",
       "    .dataframe thead th {\n",
       "        text-align: right;\n",
       "    }\n",
       "</style>\n",
       "<table border=\"1\" class=\"dataframe\">\n",
       "  <thead>\n",
       "    <tr style=\"text-align: right;\">\n",
       "      <th></th>\n",
       "      <th>post</th>\n",
       "      <th>class</th>\n",
       "    </tr>\n",
       "  </thead>\n",
       "  <tbody>\n",
       "    <tr>\n",
       "      <th>0</th>\n",
       "      <td>billy butcherson back hocus pocus doug jones s...</td>\n",
       "      <td>0</td>\n",
       "    </tr>\n",
       "    <tr>\n",
       "      <th>1</th>\n",
       "      <td>go</td>\n",
       "      <td>1</td>\n",
       "    </tr>\n",
       "    <tr>\n",
       "      <th>2</th>\n",
       "      <td>lost city open domestically</td>\n",
       "      <td>1</td>\n",
       "    </tr>\n",
       "    <tr>\n",
       "      <th>3</th>\n",
       "      <td>thirsty go watch video</td>\n",
       "      <td>0</td>\n",
       "    </tr>\n",
       "    <tr>\n",
       "      <th>4</th>\n",
       "      <td>wanted see imax dolby digital theyre showing s...</td>\n",
       "      <td>0</td>\n",
       "    </tr>\n",
       "  </tbody>\n",
       "</table>\n",
       "</div>"
      ],
      "text/plain": [
       "                                                post  class\n",
       "0  billy butcherson back hocus pocus doug jones s...      0\n",
       "1                                                 go      1\n",
       "2                        lost city open domestically      1\n",
       "3                             thirsty go watch video      0\n",
       "4  wanted see imax dolby digital theyre showing s...      0"
      ]
     },
     "execution_count": 4,
     "metadata": {},
     "output_type": "execute_result"
    }
   ],
   "source": [
    "df.head()  # 0 movies, 1 == boxoffice"
   ]
  },
  {
   "cell_type": "code",
   "execution_count": 24,
   "id": "feb7f258-4b85-423e-988f-d435112f8859",
   "metadata": {},
   "outputs": [],
   "source": [
    "# create a dataframe to store results\n",
    "naive_res = pd.DataFrame(columns=['train_score_c', 'test_score_c', 'train_score_t', 'test_score_t'])\n"
   ]
  },
  {
   "cell_type": "code",
   "execution_count": 26,
   "id": "3b38ee2f-ae5c-4277-bed3-4eefc1e52aed",
   "metadata": {},
   "outputs": [],
   "source": [
    "# function to add results\n",
    "\n",
    "def results(train_c, test_c, train_t, test_t):\n",
    "    naive_res.loc[len(naive_res)] = [round(train_c,2), round(test_c,2), round(train_t,2), round(test_t,2)]\n",
    "    return naive_res\n",
    "                  \n",
    "                  "
   ]
  },
  {
   "cell_type": "markdown",
   "id": "f1b322fd-87eb-478e-8909-5613c7899ba8",
   "metadata": {},
   "source": [
    "# Data Splitting"
   ]
  },
  {
   "cell_type": "code",
   "execution_count": 49,
   "id": "6691c275-c8c5-4e1f-bdff-d753d366784d",
   "metadata": {},
   "outputs": [],
   "source": [
    "# create X and y\n",
    "X = df['post']\n",
    "y = df['class']"
   ]
  },
  {
   "cell_type": "code",
   "execution_count": 60,
   "id": "86509c02-2879-4821-9136-c51a006b01f2",
   "metadata": {},
   "outputs": [
    {
     "data": {
      "text/plain": [
       "1    0.505924\n",
       "0    0.494076\n",
       "Name: class, dtype: float64"
      ]
     },
     "execution_count": 60,
     "metadata": {},
     "output_type": "execute_result"
    }
   ],
   "source": [
    "y.value_counts(normalize=True) # baseline score"
   ]
  },
  {
   "cell_type": "code",
   "execution_count": 50,
   "id": "7bd37c76-ea25-4bd0-8a5e-cc22fa5d6d48",
   "metadata": {},
   "outputs": [],
   "source": [
    "# train test split\n",
    "X_train, X_test, y_train, y_test = train_test_split(X, y, random_state=42, stratify=y)"
   ]
  },
  {
   "cell_type": "code",
   "execution_count": 9,
   "id": "ced96adb-50f1-45a1-89e7-db53a58c10a3",
   "metadata": {},
   "outputs": [],
   "source": [
    "# create pipes, for countvectorizer and tfidfvectorizer\n",
    "pipe1 = Pipeline([\n",
    "    ('cvec', CountVectorizer()),\n",
    "    ('model', MultinomialNB())\n",
    "])\n",
    "\n",
    "pipe2 = Pipeline([\n",
    "    ('tfidf', TfidfVectorizer()),\n",
    "    ('model', MultinomialNB())\n",
    "])"
   ]
  },
  {
   "cell_type": "code",
   "execution_count": 10,
   "id": "af5b6a9a-f472-46a5-bcd9-dc41775c61be",
   "metadata": {},
   "outputs": [],
   "source": [
    "# params\n",
    "params = {}"
   ]
  },
  {
   "cell_type": "code",
   "execution_count": null,
   "id": "e3a1d993-4226-44d2-9acb-65a713949fc9",
   "metadata": {},
   "outputs": [],
   "source": []
  },
  {
   "cell_type": "code",
   "execution_count": null,
   "id": "303fe5f6-8d5a-4cc6-8d9e-9c67eac471cf",
   "metadata": {},
   "outputs": [],
   "source": []
  },
  {
   "cell_type": "markdown",
   "id": "e837136c-fdee-4f0e-8603-0b252b514826",
   "metadata": {},
   "source": [
    "# Trial 1"
   ]
  },
  {
   "cell_type": "code",
   "execution_count": 11,
   "id": "450bd4a8-49e1-4720-85c6-d61a88def371",
   "metadata": {},
   "outputs": [],
   "source": [
    "# instantiate gridsearch with two different pipes\n",
    "gs1c = GridSearchCV(pipe1, param_grid=params, cv=5, verbose=1, n_jobs=-1)"
   ]
  },
  {
   "cell_type": "code",
   "execution_count": 12,
   "id": "472131f9-26a9-46bb-8b60-9e0de14dee9a",
   "metadata": {},
   "outputs": [
    {
     "name": "stdout",
     "output_type": "stream",
     "text": [
      "Fitting 5 folds for each of 1 candidates, totalling 5 fits\n"
     ]
    },
    {
     "data": {
      "text/plain": [
       "GridSearchCV(cv=5,\n",
       "             estimator=Pipeline(steps=[('cvec', CountVectorizer()),\n",
       "                                       ('model', MultinomialNB())]),\n",
       "             n_jobs=-1, param_grid={}, verbose=1)"
      ]
     },
     "execution_count": 12,
     "metadata": {},
     "output_type": "execute_result"
    }
   ],
   "source": [
    "# fit gridsearch\n",
    "gs1c.fit(X_train, y_train)"
   ]
  },
  {
   "cell_type": "code",
   "execution_count": 14,
   "id": "f7a3f75c-c8a0-4bdb-9720-ede3f380b9dc",
   "metadata": {},
   "outputs": [],
   "source": [
    "# instantiate gridsearch with two different pipes\n",
    "gs1t = GridSearchCV(pipe2, param_grid=params, cv=5, verbose=1, n_jobs=-1)"
   ]
  },
  {
   "cell_type": "code",
   "execution_count": 15,
   "id": "4da65273-1348-45d1-9565-1c7bd92f1bb3",
   "metadata": {},
   "outputs": [
    {
     "name": "stdout",
     "output_type": "stream",
     "text": [
      "Fitting 5 folds for each of 1 candidates, totalling 5 fits\n"
     ]
    },
    {
     "data": {
      "text/plain": [
       "GridSearchCV(cv=5,\n",
       "             estimator=Pipeline(steps=[('tfidf', TfidfVectorizer()),\n",
       "                                       ('model', MultinomialNB())]),\n",
       "             n_jobs=-1, param_grid={}, verbose=1)"
      ]
     },
     "execution_count": 15,
     "metadata": {},
     "output_type": "execute_result"
    }
   ],
   "source": [
    "# fit gridsearch\n",
    "gs1t.fit(X_train, y_train)"
   ]
  },
  {
   "cell_type": "code",
   "execution_count": 27,
   "id": "0fa5d41f-848c-49d3-ae69-2ad64a856c60",
   "metadata": {},
   "outputs": [
    {
     "data": {
      "text/html": [
       "<div>\n",
       "<style scoped>\n",
       "    .dataframe tbody tr th:only-of-type {\n",
       "        vertical-align: middle;\n",
       "    }\n",
       "\n",
       "    .dataframe tbody tr th {\n",
       "        vertical-align: top;\n",
       "    }\n",
       "\n",
       "    .dataframe thead th {\n",
       "        text-align: right;\n",
       "    }\n",
       "</style>\n",
       "<table border=\"1\" class=\"dataframe\">\n",
       "  <thead>\n",
       "    <tr style=\"text-align: right;\">\n",
       "      <th></th>\n",
       "      <th>train_score_c</th>\n",
       "      <th>test_score_c</th>\n",
       "      <th>train_score_t</th>\n",
       "      <th>test_score_t</th>\n",
       "    </tr>\n",
       "  </thead>\n",
       "  <tbody>\n",
       "    <tr>\n",
       "      <th>0</th>\n",
       "      <td>0.85</td>\n",
       "      <td>0.76</td>\n",
       "      <td>0.87</td>\n",
       "      <td>0.76</td>\n",
       "    </tr>\n",
       "  </tbody>\n",
       "</table>\n",
       "</div>"
      ],
      "text/plain": [
       "   train_score_c  test_score_c  train_score_t  test_score_t\n",
       "0           0.85          0.76           0.87          0.76"
      ]
     },
     "execution_count": 27,
     "metadata": {},
     "output_type": "execute_result"
    }
   ],
   "source": [
    "results(gs1c.score(X_train, y_train), gs1c.score(X_test, y_test), gs1t.score(X_train, y_train), gs1t.score(X_test, y_test)\n",
    "                  \n",
    "                  )"
   ]
  },
  {
   "cell_type": "markdown",
   "id": "55be3e0a-b4a2-4607-9581-a6834880c0b1",
   "metadata": {},
   "source": [
    "* The model and the vectorizers had default params\n",
    "* The score is definitely better than the baseline score\n",
    "* The model is overfitting on the training data"
   ]
  },
  {
   "cell_type": "markdown",
   "id": "64a55922-287d-4eb6-8057-c9481fd111f6",
   "metadata": {},
   "source": [
    "# Trial 2"
   ]
  },
  {
   "cell_type": "code",
   "execution_count": 17,
   "id": "de2ad24d-3b0f-44d4-95f2-cf37affb8067",
   "metadata": {},
   "outputs": [],
   "source": [
    "params1 = {\n",
    "      'cvec__max_features': [1500, 2000, 2500],\n",
    "    'cvec__max_df': [.8, .7],\n",
    "    'cvec__binary': [True],\n",
    "    'cvec__ngram_range': [(1,1), (1,2), (2,2)],\n",
    "    'model__alpha': np.logspace(0,-9, num=100)\n",
    "}\n",
    "\n",
    "params2 = {\n",
    "      'tfidf__max_features': [1500, 2000, 2500],\n",
    "    'tfidf__max_df': [.8, .7],\n",
    "    'tfidf__binary': [True],\n",
    "    'tfidf__ngram_range': [(1,1), (1,2), (2,2)],\n",
    "    'model__alpha': np.logspace(0,-9, num=100)\n",
    "}\n",
    "\n"
   ]
  },
  {
   "cell_type": "code",
   "execution_count": 18,
   "id": "b5be589a-6fb8-4c10-8885-1b1e1296f38c",
   "metadata": {},
   "outputs": [],
   "source": [
    "gs2c = GridSearchCV(pipe1, param_grid=params1, verbose=1, n_jobs=-1, cv=10)\n",
    "gs2t = GridSearchCV(pipe2, param_grid=params2, verbose=1, n_jobs=-1, cv=10)"
   ]
  },
  {
   "cell_type": "code",
   "execution_count": 19,
   "id": "acad550d-0324-4caf-8f3e-86dd45c56b35",
   "metadata": {},
   "outputs": [
    {
     "name": "stdout",
     "output_type": "stream",
     "text": [
      "Fitting 10 folds for each of 1800 candidates, totalling 18000 fits\n"
     ]
    },
    {
     "data": {
      "text/plain": [
       "GridSearchCV(cv=10,\n",
       "             estimator=Pipeline(steps=[('cvec', CountVectorizer()),\n",
       "                                       ('model', MultinomialNB())]),\n",
       "             n_jobs=-1,\n",
       "             param_grid={'cvec__binary': [True], 'cvec__max_df': [0.8, 0.7],\n",
       "                         'cvec__max_features': [1500, 2000, 2500],\n",
       "                         'cvec__ngram_range': [(1, 1), (1, 2), (2, 2)],\n",
       "                         'model__alpha': array([1.00000000e+00, 8.11130831e-01, 6.57933225e-01, 5.33669923e-01,\n",
       "       4.32876128e-01, 3.5111...\n",
       "       1.23284674e-07, 1.00000000e-07, 8.11130831e-08, 6.57933225e-08,\n",
       "       5.33669923e-08, 4.32876128e-08, 3.51119173e-08, 2.84803587e-08,\n",
       "       2.31012970e-08, 1.87381742e-08, 1.51991108e-08, 1.23284674e-08,\n",
       "       1.00000000e-08, 8.11130831e-09, 6.57933225e-09, 5.33669923e-09,\n",
       "       4.32876128e-09, 3.51119173e-09, 2.84803587e-09, 2.31012970e-09,\n",
       "       1.87381742e-09, 1.51991108e-09, 1.23284674e-09, 1.00000000e-09])},\n",
       "             verbose=1)"
      ]
     },
     "execution_count": 19,
     "metadata": {},
     "output_type": "execute_result"
    }
   ],
   "source": [
    "gs2c.fit(X_train, y_train)"
   ]
  },
  {
   "cell_type": "code",
   "execution_count": 22,
   "id": "30f36b4f-ab8e-4745-91a3-94f08c461614",
   "metadata": {},
   "outputs": [
    {
     "name": "stdout",
     "output_type": "stream",
     "text": [
      "Fitting 10 folds for each of 1800 candidates, totalling 18000 fits\n"
     ]
    },
    {
     "data": {
      "text/plain": [
       "GridSearchCV(cv=10,\n",
       "             estimator=Pipeline(steps=[('tfidf', TfidfVectorizer()),\n",
       "                                       ('model', MultinomialNB())]),\n",
       "             n_jobs=-1,\n",
       "             param_grid={'model__alpha': array([1.00000000e+00, 8.11130831e-01, 6.57933225e-01, 5.33669923e-01,\n",
       "       4.32876128e-01, 3.51119173e-01, 2.84803587e-01, 2.31012970e-01,\n",
       "       1.87381742e-01, 1.51991108e-01, 1.23284674e-01, 1.00000000e-01,\n",
       "       8.11130831e-02, 6.57933225...\n",
       "       2.31012970e-08, 1.87381742e-08, 1.51991108e-08, 1.23284674e-08,\n",
       "       1.00000000e-08, 8.11130831e-09, 6.57933225e-09, 5.33669923e-09,\n",
       "       4.32876128e-09, 3.51119173e-09, 2.84803587e-09, 2.31012970e-09,\n",
       "       1.87381742e-09, 1.51991108e-09, 1.23284674e-09, 1.00000000e-09]),\n",
       "                         'tfidf__binary': [True], 'tfidf__max_df': [0.8, 0.7],\n",
       "                         'tfidf__max_features': [1500, 2000, 2500],\n",
       "                         'tfidf__ngram_range': [(1, 1), (1, 2), (2, 2)]},\n",
       "             verbose=1)"
      ]
     },
     "execution_count": 22,
     "metadata": {},
     "output_type": "execute_result"
    }
   ],
   "source": [
    "gs2t.fit(X_train, y_train)"
   ]
  },
  {
   "cell_type": "code",
   "execution_count": 28,
   "id": "943714ac-12c2-42f1-bd2a-cf795b1704a7",
   "metadata": {},
   "outputs": [
    {
     "data": {
      "text/html": [
       "<div>\n",
       "<style scoped>\n",
       "    .dataframe tbody tr th:only-of-type {\n",
       "        vertical-align: middle;\n",
       "    }\n",
       "\n",
       "    .dataframe tbody tr th {\n",
       "        vertical-align: top;\n",
       "    }\n",
       "\n",
       "    .dataframe thead th {\n",
       "        text-align: right;\n",
       "    }\n",
       "</style>\n",
       "<table border=\"1\" class=\"dataframe\">\n",
       "  <thead>\n",
       "    <tr style=\"text-align: right;\">\n",
       "      <th></th>\n",
       "      <th>train_score_c</th>\n",
       "      <th>test_score_c</th>\n",
       "      <th>train_score_t</th>\n",
       "      <th>test_score_t</th>\n",
       "    </tr>\n",
       "  </thead>\n",
       "  <tbody>\n",
       "    <tr>\n",
       "      <th>0</th>\n",
       "      <td>0.85</td>\n",
       "      <td>0.76</td>\n",
       "      <td>0.87</td>\n",
       "      <td>0.76</td>\n",
       "    </tr>\n",
       "    <tr>\n",
       "      <th>1</th>\n",
       "      <td>0.77</td>\n",
       "      <td>0.75</td>\n",
       "      <td>0.78</td>\n",
       "      <td>0.75</td>\n",
       "    </tr>\n",
       "  </tbody>\n",
       "</table>\n",
       "</div>"
      ],
      "text/plain": [
       "   train_score_c  test_score_c  train_score_t  test_score_t\n",
       "0           0.85          0.76           0.87          0.76\n",
       "1           0.77          0.75           0.78          0.75"
      ]
     },
     "execution_count": 28,
     "metadata": {},
     "output_type": "execute_result"
    }
   ],
   "source": [
    "results(gs2c.score(X_train, y_train), gs2c.score(X_test, y_test), gs2t.score(X_train, y_train), gs2t.score(X_test, y_test))"
   ]
  },
  {
   "cell_type": "code",
   "execution_count": 29,
   "id": "8306e034-83f8-45c9-b3e4-5c379580d67d",
   "metadata": {},
   "outputs": [
    {
     "data": {
      "text/plain": [
       "{'cvec__binary': True,\n",
       " 'cvec__max_df': 0.8,\n",
       " 'cvec__max_features': 2500,\n",
       " 'cvec__ngram_range': (1, 1),\n",
       " 'model__alpha': 0.02848035868435802}"
      ]
     },
     "execution_count": 29,
     "metadata": {},
     "output_type": "execute_result"
    }
   ],
   "source": [
    "gs2c.best_params_"
   ]
  },
  {
   "cell_type": "code",
   "execution_count": 30,
   "id": "f5c40291-ed1f-4afc-80de-da1d3214a304",
   "metadata": {},
   "outputs": [
    {
     "data": {
      "text/plain": [
       "{'model__alpha': 1.0,\n",
       " 'tfidf__binary': True,\n",
       " 'tfidf__max_df': 0.8,\n",
       " 'tfidf__max_features': 2500,\n",
       " 'tfidf__ngram_range': (1, 1)}"
      ]
     },
     "execution_count": 30,
     "metadata": {},
     "output_type": "execute_result"
    }
   ],
   "source": [
    "gs2t.best_params_"
   ]
  },
  {
   "cell_type": "markdown",
   "id": "ac2930bf-c750-480d-ad15-077eee38ecbf",
   "metadata": {},
   "source": [
    "* The score has slightly decreased from the previous trial\n",
    "* Both the model including the vectorizers were tuned\n",
    "* The model is less overfitting on the training data as compared to before"
   ]
  },
  {
   "cell_type": "code",
   "execution_count": null,
   "id": "159c7bc9-32eb-426f-ad63-d6b7e48e8b94",
   "metadata": {},
   "outputs": [],
   "source": []
  },
  {
   "cell_type": "markdown",
   "id": "d091a71c-5e39-4e9e-ac1c-dd6144ddfa43",
   "metadata": {},
   "source": [
    "# Trial 3"
   ]
  },
  {
   "cell_type": "code",
   "execution_count": 40,
   "id": "85f3a614-1c4c-4f3d-b42c-a5e1d6b8612d",
   "metadata": {},
   "outputs": [],
   "source": [
    "params1 = {\n",
    "      'cvec__max_features': [2000, 2500, 3000, 3500],\n",
    "    'cvec__max_df': [.8, .7, 0.9, 1.0],\n",
    "    'cvec__binary': [True, False],\n",
    "    'cvec__ngram_range': [(1,1), (1,2), (1,3)],\n",
    "    'model__alpha': [0.001, 0.01, 0.02, 0.03],\n",
    "    'model__fit_prior': [True, False]\n",
    "}\n",
    "\n",
    "params2 = {\n",
    "      'tfidf__max_features': [2000, 2500, 3000, 3500],\n",
    "    'tfidf__max_df': [.8, .7, 0.9, 1.0],\n",
    "    'tfidf__binary': [True, False],\n",
    "    'tfidf__ngram_range': [(1,1), (1,2), (1,3)],\n",
    "    'model__alpha': [0.8, 0.9, 1.0],\n",
    "    'model__fit_prior': [True, False]\n",
    "}\n",
    "\n"
   ]
  },
  {
   "cell_type": "code",
   "execution_count": 41,
   "id": "4697d030-d9e9-4d26-afad-6fc247d4e954",
   "metadata": {},
   "outputs": [],
   "source": [
    "gs3c = GridSearchCV(pipe1, param_grid=params1, verbose=1, n_jobs=-1, cv=5)\n",
    "gs3t = GridSearchCV(pipe2, param_grid=params2, verbose=1, n_jobs=-1, cv=5)"
   ]
  },
  {
   "cell_type": "code",
   "execution_count": 42,
   "id": "68877b53-92ab-4604-ad5a-3d5bf55f9534",
   "metadata": {},
   "outputs": [
    {
     "name": "stdout",
     "output_type": "stream",
     "text": [
      "Fitting 5 folds for each of 768 candidates, totalling 3840 fits\n"
     ]
    },
    {
     "data": {
      "text/plain": [
       "GridSearchCV(cv=5,\n",
       "             estimator=Pipeline(steps=[('cvec', CountVectorizer()),\n",
       "                                       ('model', MultinomialNB())]),\n",
       "             n_jobs=-1,\n",
       "             param_grid={'cvec__binary': [True, False],\n",
       "                         'cvec__max_df': [0.8, 0.7, 0.9, 1.0],\n",
       "                         'cvec__max_features': [2000, 2500, 3000, 3500],\n",
       "                         'cvec__ngram_range': [(1, 1), (1, 2), (1, 3)],\n",
       "                         'model__alpha': [0.001, 0.01, 0.02, 0.03],\n",
       "                         'model__fit_prior': [True, False]},\n",
       "             verbose=1)"
      ]
     },
     "execution_count": 42,
     "metadata": {},
     "output_type": "execute_result"
    }
   ],
   "source": [
    "gs3c.fit(X_train, y_train)"
   ]
  },
  {
   "cell_type": "code",
   "execution_count": 43,
   "id": "11756590-8d4e-449b-949a-1f5b9b8fd875",
   "metadata": {},
   "outputs": [
    {
     "name": "stdout",
     "output_type": "stream",
     "text": [
      "Fitting 5 folds for each of 576 candidates, totalling 2880 fits\n"
     ]
    },
    {
     "data": {
      "text/plain": [
       "GridSearchCV(cv=5,\n",
       "             estimator=Pipeline(steps=[('tfidf', TfidfVectorizer()),\n",
       "                                       ('model', MultinomialNB())]),\n",
       "             n_jobs=-1,\n",
       "             param_grid={'model__alpha': [0.8, 0.9, 1.0],\n",
       "                         'model__fit_prior': [True, False],\n",
       "                         'tfidf__binary': [True, False],\n",
       "                         'tfidf__max_df': [0.8, 0.7, 0.9, 1.0],\n",
       "                         'tfidf__max_features': [2000, 2500, 3000, 3500],\n",
       "                         'tfidf__ngram_range': [(1, 1), (1, 2), (1, 3)]},\n",
       "             verbose=1)"
      ]
     },
     "execution_count": 43,
     "metadata": {},
     "output_type": "execute_result"
    }
   ],
   "source": [
    "gs3t.fit(X_train, y_train)"
   ]
  },
  {
   "cell_type": "code",
   "execution_count": 45,
   "id": "7baeab01-64a7-41ad-97f6-b2d36aa77d29",
   "metadata": {},
   "outputs": [
    {
     "data": {
      "text/html": [
       "<div>\n",
       "<style scoped>\n",
       "    .dataframe tbody tr th:only-of-type {\n",
       "        vertical-align: middle;\n",
       "    }\n",
       "\n",
       "    .dataframe tbody tr th {\n",
       "        vertical-align: top;\n",
       "    }\n",
       "\n",
       "    .dataframe thead th {\n",
       "        text-align: right;\n",
       "    }\n",
       "</style>\n",
       "<table border=\"1\" class=\"dataframe\">\n",
       "  <thead>\n",
       "    <tr style=\"text-align: right;\">\n",
       "      <th></th>\n",
       "      <th>train_score_c</th>\n",
       "      <th>test_score_c</th>\n",
       "      <th>train_score_t</th>\n",
       "      <th>test_score_t</th>\n",
       "    </tr>\n",
       "  </thead>\n",
       "  <tbody>\n",
       "    <tr>\n",
       "      <th>0</th>\n",
       "      <td>0.85</td>\n",
       "      <td>0.76</td>\n",
       "      <td>0.87</td>\n",
       "      <td>0.76</td>\n",
       "    </tr>\n",
       "    <tr>\n",
       "      <th>1</th>\n",
       "      <td>0.77</td>\n",
       "      <td>0.75</td>\n",
       "      <td>0.78</td>\n",
       "      <td>0.75</td>\n",
       "    </tr>\n",
       "    <tr>\n",
       "      <th>2</th>\n",
       "      <td>0.80</td>\n",
       "      <td>0.76</td>\n",
       "      <td>0.81</td>\n",
       "      <td>0.76</td>\n",
       "    </tr>\n",
       "  </tbody>\n",
       "</table>\n",
       "</div>"
      ],
      "text/plain": [
       "   train_score_c  test_score_c  train_score_t  test_score_t\n",
       "0           0.85          0.76           0.87          0.76\n",
       "1           0.77          0.75           0.78          0.75\n",
       "2           0.80          0.76           0.81          0.76"
      ]
     },
     "execution_count": 45,
     "metadata": {},
     "output_type": "execute_result"
    }
   ],
   "source": [
    "results(gs3c.score(X_train, y_train), gs3c.score(X_test, y_test), gs3t.score(X_train, y_train), gs3t.score(X_test, y_test))"
   ]
  },
  {
   "cell_type": "code",
   "execution_count": 46,
   "id": "bbab3ab3-50af-46ea-ae2c-a1553e976949",
   "metadata": {},
   "outputs": [
    {
     "data": {
      "text/plain": [
       "{'cvec__binary': False,\n",
       " 'cvec__max_df': 0.8,\n",
       " 'cvec__max_features': 3500,\n",
       " 'cvec__ngram_range': (1, 1),\n",
       " 'model__alpha': 0.03,\n",
       " 'model__fit_prior': False}"
      ]
     },
     "execution_count": 46,
     "metadata": {},
     "output_type": "execute_result"
    }
   ],
   "source": [
    "gs3c.best_params_"
   ]
  },
  {
   "cell_type": "code",
   "execution_count": 47,
   "id": "99450d29-1c58-4f4a-9fc4-b45a00fb1a89",
   "metadata": {},
   "outputs": [
    {
     "data": {
      "text/plain": [
       "{'model__alpha': 1.0,\n",
       " 'model__fit_prior': False,\n",
       " 'tfidf__binary': False,\n",
       " 'tfidf__max_df': 0.8,\n",
       " 'tfidf__max_features': 3500,\n",
       " 'tfidf__ngram_range': (1, 1)}"
      ]
     },
     "execution_count": 47,
     "metadata": {},
     "output_type": "execute_result"
    }
   ],
   "source": [
    "gs3t.best_params_"
   ]
  },
  {
   "cell_type": "markdown",
   "id": "62858f15-8f4a-4c24-b262-c7a77e559505",
   "metadata": {},
   "source": [
    "* The model's accuracy has slightly increased back to the initial score\n",
    "* The model is overfitting the training data more"
   ]
  },
  {
   "cell_type": "code",
   "execution_count": null,
   "id": "ba11ec1c-a633-43cf-8e8a-14f9b4aa9f25",
   "metadata": {},
   "outputs": [],
   "source": []
  },
  {
   "cell_type": "markdown",
   "id": "43a47c01-6888-4e58-9184-d7fb89e13b4b",
   "metadata": {},
   "source": [
    "# Trial 4"
   ]
  },
  {
   "cell_type": "code",
   "execution_count": 48,
   "id": "a8aa32b6-dc6a-4409-a16d-97d6baf58934",
   "metadata": {},
   "outputs": [],
   "source": [
    "params1 = {\n",
    "      'cvec__max_features': [3000, 3500, 4000, 5000],\n",
    "    'cvec__min_df': [.1, .2, 0.01],\n",
    "    'cvec__binary': [True, False],\n",
    "    'cvec__ngram_range': [(1,1)],\n",
    "    'model__alpha': [0.02, 0.03, 0.04, 0.05],\n",
    "    'model__fit_prior': [True, False]\n",
    "}\n",
    "\n",
    "params2 = {\n",
    "      'tfidf__max_features': [3000, 3500, 4000, 5000],\n",
    "    'tfidf__min_df': [.1, .2, .01],\n",
    "    'tfidf__binary': [True, False],\n",
    "    'tfidf__ngram_range': [(1,1)],\n",
    "    'model__alpha': [0.8, 0.9, 0.6],\n",
    "    'model__fit_prior': [True, False]\n",
    "}\n",
    "\n"
   ]
  },
  {
   "cell_type": "code",
   "execution_count": 51,
   "id": "8bc7fec2-ec59-469e-a5c7-339764f6586f",
   "metadata": {},
   "outputs": [],
   "source": [
    "gs4c = GridSearchCV(pipe1, param_grid=params1, verbose=1, n_jobs=-1, cv=5)\n",
    "gs4t = GridSearchCV(pipe2, param_grid=params2, verbose=1, n_jobs=-1, cv=5)"
   ]
  },
  {
   "cell_type": "code",
   "execution_count": 53,
   "id": "c6e4f16c-fe92-47f2-8e04-7f9c5bad7228",
   "metadata": {},
   "outputs": [
    {
     "name": "stdout",
     "output_type": "stream",
     "text": [
      "Fitting 5 folds for each of 192 candidates, totalling 960 fits\n"
     ]
    },
    {
     "data": {
      "text/plain": [
       "GridSearchCV(cv=5,\n",
       "             estimator=Pipeline(steps=[('cvec', CountVectorizer()),\n",
       "                                       ('model', MultinomialNB())]),\n",
       "             n_jobs=-1,\n",
       "             param_grid={'cvec__binary': [True, False],\n",
       "                         'cvec__max_features': [3000, 3500, 4000, 5000],\n",
       "                         'cvec__min_df': [0.1, 0.2, 0.01],\n",
       "                         'cvec__ngram_range': [(1, 1)],\n",
       "                         'model__alpha': [0.02, 0.03, 0.04, 0.05],\n",
       "                         'model__fit_prior': [True, False]},\n",
       "             verbose=1)"
      ]
     },
     "execution_count": 53,
     "metadata": {},
     "output_type": "execute_result"
    }
   ],
   "source": [
    "gs4c.fit(X_train, y_train)"
   ]
  },
  {
   "cell_type": "code",
   "execution_count": 54,
   "id": "d8626512-e1b5-4742-8a0e-654aaf303a95",
   "metadata": {},
   "outputs": [
    {
     "name": "stdout",
     "output_type": "stream",
     "text": [
      "Fitting 5 folds for each of 144 candidates, totalling 720 fits\n"
     ]
    },
    {
     "data": {
      "text/plain": [
       "GridSearchCV(cv=5,\n",
       "             estimator=Pipeline(steps=[('tfidf', TfidfVectorizer()),\n",
       "                                       ('model', MultinomialNB())]),\n",
       "             n_jobs=-1,\n",
       "             param_grid={'model__alpha': [0.8, 0.9, 0.6],\n",
       "                         'model__fit_prior': [True, False],\n",
       "                         'tfidf__binary': [True, False],\n",
       "                         'tfidf__max_features': [3000, 3500, 4000, 5000],\n",
       "                         'tfidf__min_df': [0.1, 0.2, 0.01],\n",
       "                         'tfidf__ngram_range': [(1, 1)]},\n",
       "             verbose=1)"
      ]
     },
     "execution_count": 54,
     "metadata": {},
     "output_type": "execute_result"
    }
   ],
   "source": [
    "gs4t.fit(X_train, y_train)"
   ]
  },
  {
   "cell_type": "code",
   "execution_count": 55,
   "id": "553d3d32-49c1-4a97-b1f2-a8f34318fdb8",
   "metadata": {},
   "outputs": [
    {
     "data": {
      "text/html": [
       "<div>\n",
       "<style scoped>\n",
       "    .dataframe tbody tr th:only-of-type {\n",
       "        vertical-align: middle;\n",
       "    }\n",
       "\n",
       "    .dataframe tbody tr th {\n",
       "        vertical-align: top;\n",
       "    }\n",
       "\n",
       "    .dataframe thead th {\n",
       "        text-align: right;\n",
       "    }\n",
       "</style>\n",
       "<table border=\"1\" class=\"dataframe\">\n",
       "  <thead>\n",
       "    <tr style=\"text-align: right;\">\n",
       "      <th></th>\n",
       "      <th>train_score_c</th>\n",
       "      <th>test_score_c</th>\n",
       "      <th>train_score_t</th>\n",
       "      <th>test_score_t</th>\n",
       "    </tr>\n",
       "  </thead>\n",
       "  <tbody>\n",
       "    <tr>\n",
       "      <th>0</th>\n",
       "      <td>0.85</td>\n",
       "      <td>0.76</td>\n",
       "      <td>0.87</td>\n",
       "      <td>0.76</td>\n",
       "    </tr>\n",
       "    <tr>\n",
       "      <th>1</th>\n",
       "      <td>0.77</td>\n",
       "      <td>0.75</td>\n",
       "      <td>0.78</td>\n",
       "      <td>0.75</td>\n",
       "    </tr>\n",
       "    <tr>\n",
       "      <th>2</th>\n",
       "      <td>0.80</td>\n",
       "      <td>0.76</td>\n",
       "      <td>0.81</td>\n",
       "      <td>0.76</td>\n",
       "    </tr>\n",
       "    <tr>\n",
       "      <th>3</th>\n",
       "      <td>0.70</td>\n",
       "      <td>0.69</td>\n",
       "      <td>0.71</td>\n",
       "      <td>0.70</td>\n",
       "    </tr>\n",
       "  </tbody>\n",
       "</table>\n",
       "</div>"
      ],
      "text/plain": [
       "   train_score_c  test_score_c  train_score_t  test_score_t\n",
       "0           0.85          0.76           0.87          0.76\n",
       "1           0.77          0.75           0.78          0.75\n",
       "2           0.80          0.76           0.81          0.76\n",
       "3           0.70          0.69           0.71          0.70"
      ]
     },
     "execution_count": 55,
     "metadata": {},
     "output_type": "execute_result"
    }
   ],
   "source": [
    "results(gs4c.score(X_train, y_train), gs4c.score(X_test, y_test), gs4t.score(X_train, y_train), gs4t.score(X_test, y_test))\n"
   ]
  },
  {
   "cell_type": "markdown",
   "id": "28bb163f-920a-47ce-9406-7e39348b501d",
   "metadata": {},
   "source": [
    "I will choose the 3rd trial as the best out of the 4 since the accuracy score for test is higher and the model doesn't overfit too much to the training data."
   ]
  },
  {
   "cell_type": "code",
   "execution_count": null,
   "id": "cd4d4ab5-cf67-472a-b698-728ebac6c15e",
   "metadata": {},
   "outputs": [],
   "source": []
  }
 ],
 "metadata": {
  "kernelspec": {
   "display_name": "Python 3 (ipykernel)",
   "language": "python",
   "name": "python3"
  },
  "language_info": {
   "codemirror_mode": {
    "name": "ipython",
    "version": 3
   },
   "file_extension": ".py",
   "mimetype": "text/x-python",
   "name": "python",
   "nbconvert_exporter": "python",
   "pygments_lexer": "ipython3",
   "version": "3.9.7"
  }
 },
 "nbformat": 4,
 "nbformat_minor": 5
}
