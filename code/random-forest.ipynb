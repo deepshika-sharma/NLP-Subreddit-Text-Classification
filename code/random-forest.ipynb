{
 "cells": [
  {
   "cell_type": "markdown",
   "id": "f827d656-d823-44f3-9ba0-5da5495c2ed0",
   "metadata": {},
   "source": [
    "# Imports"
   ]
  },
  {
   "cell_type": "code",
   "execution_count": 1,
   "id": "f0f86ed4-2aaa-48d5-b957-d86a732d70e3",
   "metadata": {},
   "outputs": [],
   "source": [
    "import pandas as pd\n",
    "import numpy as np\n",
    "from sklearn.ensemble import RandomForestClassifier\n",
    "from sklearn.model_selection import train_test_split, cross_val_score, GridSearchCV\n",
    "from sklearn.pipeline import Pipeline\n",
    "from sklearn.feature_extraction.text import CountVectorizer, TfidfVectorizer"
   ]
  },
  {
   "cell_type": "code",
   "execution_count": 2,
   "id": "abbf9ef3-d5f3-4c4f-bbd5-c1a6207baaa5",
   "metadata": {},
   "outputs": [],
   "source": [
    "# import data\n",
    "df = pd.read_csv('../data/posts.csv').dropna()"
   ]
  },
  {
   "cell_type": "code",
   "execution_count": 4,
   "id": "c05d136b-c71e-4ab9-b2bf-2ee7fd6715bd",
   "metadata": {},
   "outputs": [
    {
     "data": {
      "text/html": [
       "<div>\n",
       "<style scoped>\n",
       "    .dataframe tbody tr th:only-of-type {\n",
       "        vertical-align: middle;\n",
       "    }\n",
       "\n",
       "    .dataframe tbody tr th {\n",
       "        vertical-align: top;\n",
       "    }\n",
       "\n",
       "    .dataframe thead th {\n",
       "        text-align: right;\n",
       "    }\n",
       "</style>\n",
       "<table border=\"1\" class=\"dataframe\">\n",
       "  <thead>\n",
       "    <tr style=\"text-align: right;\">\n",
       "      <th></th>\n",
       "      <th>post</th>\n",
       "      <th>class</th>\n",
       "    </tr>\n",
       "  </thead>\n",
       "  <tbody>\n",
       "    <tr>\n",
       "      <th>0</th>\n",
       "      <td>billy butcherson back hocus pocus doug jones s...</td>\n",
       "      <td>0</td>\n",
       "    </tr>\n",
       "    <tr>\n",
       "      <th>1</th>\n",
       "      <td>go</td>\n",
       "      <td>1</td>\n",
       "    </tr>\n",
       "    <tr>\n",
       "      <th>2</th>\n",
       "      <td>lost city open domestically</td>\n",
       "      <td>1</td>\n",
       "    </tr>\n",
       "    <tr>\n",
       "      <th>3</th>\n",
       "      <td>thirsty go watch video</td>\n",
       "      <td>0</td>\n",
       "    </tr>\n",
       "    <tr>\n",
       "      <th>4</th>\n",
       "      <td>wanted see imax dolby digital theyre showing s...</td>\n",
       "      <td>0</td>\n",
       "    </tr>\n",
       "  </tbody>\n",
       "</table>\n",
       "</div>"
      ],
      "text/plain": [
       "                                                post  class\n",
       "0  billy butcherson back hocus pocus doug jones s...      0\n",
       "1                                                 go      1\n",
       "2                        lost city open domestically      1\n",
       "3                             thirsty go watch video      0\n",
       "4  wanted see imax dolby digital theyre showing s...      0"
      ]
     },
     "execution_count": 4,
     "metadata": {},
     "output_type": "execute_result"
    }
   ],
   "source": [
    "df.head() # 0 movies, 1 == boxoffice"
   ]
  },
  {
   "cell_type": "code",
   "execution_count": 46,
   "id": "da7e5ec8-abef-4e68-bc76-46e2925e3bdc",
   "metadata": {},
   "outputs": [],
   "source": [
    "# create a dataframe to store results for countvectorizer and tfidf\n",
    "res = pd.DataFrame(columns=['train_score_c', 'test_score_c', 'train_score_t', 'test_score_t'])\n"
   ]
  },
  {
   "cell_type": "code",
   "execution_count": 30,
   "id": "cfe3d91b-c96b-4454-b93c-b43f38435200",
   "metadata": {},
   "outputs": [],
   "source": [
    "# function to add to results\n",
    "\n",
    "def results(train_c, test_c, train_t, test_t):\n",
    "    res.loc[len(res)] = [round(train_c,3), round(test_c, 3), round(train_t,3), round(test_t, 3)]\n",
    "    return res\n",
    "                  \n",
    "                  "
   ]
  },
  {
   "cell_type": "markdown",
   "id": "19fcb121-e472-4743-a5b4-60235be7d8ff",
   "metadata": {},
   "source": [
    "# Creating Train and Test Datasets"
   ]
  },
  {
   "cell_type": "code",
   "execution_count": 7,
   "id": "5fa82fe1-512a-42eb-b08f-04ba87e80b60",
   "metadata": {},
   "outputs": [],
   "source": [
    "# create X and y\n",
    "X = df['post']\n",
    "y = df['class']"
   ]
  },
  {
   "cell_type": "code",
   "execution_count": 56,
   "id": "021239d2-aaeb-4359-a67a-9ec407d9bbdd",
   "metadata": {},
   "outputs": [
    {
     "data": {
      "text/plain": [
       "1    0.505869\n",
       "0    0.494131\n",
       "Name: class, dtype: float64"
      ]
     },
     "execution_count": 56,
     "metadata": {},
     "output_type": "execute_result"
    }
   ],
   "source": [
    "y.value_counts(normalize=True)"
   ]
  },
  {
   "cell_type": "code",
   "execution_count": 8,
   "id": "2de00750-46e3-45b0-896f-50417b8fb545",
   "metadata": {},
   "outputs": [],
   "source": [
    "# train test split\n",
    "X_train, X_test, y_train, y_test = train_test_split(X, y, random_state=42, stratify=y)"
   ]
  },
  {
   "cell_type": "code",
   "execution_count": 9,
   "id": "23d17d42-8811-4c7f-afa6-87284847a3c0",
   "metadata": {},
   "outputs": [],
   "source": [
    "# create pipes, for countvectorizer and tfidfvectorizer\n",
    "pipe1 = Pipeline([\n",
    "    ('cvec', CountVectorizer()),\n",
    "    ('model', RandomForestClassifier())\n",
    "])\n",
    "\n",
    "pipe2 = Pipeline([\n",
    "    ('tfidf', TfidfVectorizer()),\n",
    "    ('model', RandomForestClassifier())\n",
    "])"
   ]
  },
  {
   "cell_type": "code",
   "execution_count": 10,
   "id": "e9e03284-c8dc-4a47-83d4-d03ebc7cca8d",
   "metadata": {},
   "outputs": [],
   "source": [
    "params = {}"
   ]
  },
  {
   "cell_type": "code",
   "execution_count": null,
   "id": "3539a0fb-f880-43cc-8786-1aeeaef2bd27",
   "metadata": {},
   "outputs": [],
   "source": []
  },
  {
   "cell_type": "code",
   "execution_count": null,
   "id": "7bd6b0b4-28f4-424f-a897-9af5f46884c4",
   "metadata": {},
   "outputs": [],
   "source": []
  },
  {
   "cell_type": "markdown",
   "id": "21cec81f-3251-44b8-9fac-650ab8f7dc0c",
   "metadata": {},
   "source": [
    "# Trial 1"
   ]
  },
  {
   "cell_type": "code",
   "execution_count": 11,
   "id": "53462f38-5fbb-4b67-ab6d-8b2ea20d0bbe",
   "metadata": {},
   "outputs": [],
   "source": [
    "gs1c = GridSearchCV(pipe1, param_grid=params, verbose=1, n_jobs=-1, cv=10)\n",
    "gs1t = GridSearchCV(pipe2, param_grid=params, verbose=1, n_jobs=-1, cv=10)"
   ]
  },
  {
   "cell_type": "code",
   "execution_count": 12,
   "id": "47d411cd-db3d-4d06-b376-046edb132ec0",
   "metadata": {},
   "outputs": [
    {
     "name": "stdout",
     "output_type": "stream",
     "text": [
      "Fitting 10 folds for each of 1 candidates, totalling 10 fits\n"
     ]
    },
    {
     "data": {
      "text/plain": [
       "GridSearchCV(cv=10,\n",
       "             estimator=Pipeline(steps=[('cvec', CountVectorizer()),\n",
       "                                       ('model', RandomForestClassifier())]),\n",
       "             n_jobs=-1, param_grid={}, verbose=1)"
      ]
     },
     "execution_count": 12,
     "metadata": {},
     "output_type": "execute_result"
    }
   ],
   "source": [
    "gs1c.fit(X_train, y_train)"
   ]
  },
  {
   "cell_type": "code",
   "execution_count": 13,
   "id": "909aca2f-8e91-44c1-b11e-64b0a429d4fb",
   "metadata": {},
   "outputs": [
    {
     "name": "stdout",
     "output_type": "stream",
     "text": [
      "Fitting 10 folds for each of 1 candidates, totalling 10 fits\n"
     ]
    },
    {
     "data": {
      "text/plain": [
       "GridSearchCV(cv=10,\n",
       "             estimator=Pipeline(steps=[('tfidf', TfidfVectorizer()),\n",
       "                                       ('model', RandomForestClassifier())]),\n",
       "             n_jobs=-1, param_grid={}, verbose=1)"
      ]
     },
     "execution_count": 13,
     "metadata": {},
     "output_type": "execute_result"
    }
   ],
   "source": [
    "gs1t.fit(X_train, y_train)"
   ]
  },
  {
   "cell_type": "code",
   "execution_count": 47,
   "id": "22e2725f-9921-44b4-8505-8d500908465e",
   "metadata": {},
   "outputs": [
    {
     "data": {
      "text/html": [
       "<div>\n",
       "<style scoped>\n",
       "    .dataframe tbody tr th:only-of-type {\n",
       "        vertical-align: middle;\n",
       "    }\n",
       "\n",
       "    .dataframe tbody tr th {\n",
       "        vertical-align: top;\n",
       "    }\n",
       "\n",
       "    .dataframe thead th {\n",
       "        text-align: right;\n",
       "    }\n",
       "</style>\n",
       "<table border=\"1\" class=\"dataframe\">\n",
       "  <thead>\n",
       "    <tr style=\"text-align: right;\">\n",
       "      <th></th>\n",
       "      <th>train_score_c</th>\n",
       "      <th>test_score_c</th>\n",
       "      <th>train_score_t</th>\n",
       "      <th>test_score_t</th>\n",
       "    </tr>\n",
       "  </thead>\n",
       "  <tbody>\n",
       "    <tr>\n",
       "      <th>0</th>\n",
       "      <td>0.995</td>\n",
       "      <td>0.738</td>\n",
       "      <td>0.995</td>\n",
       "      <td>0.743</td>\n",
       "    </tr>\n",
       "  </tbody>\n",
       "</table>\n",
       "</div>"
      ],
      "text/plain": [
       "   train_score_c  test_score_c  train_score_t  test_score_t\n",
       "0          0.995         0.738          0.995         0.743"
      ]
     },
     "execution_count": 47,
     "metadata": {},
     "output_type": "execute_result"
    }
   ],
   "source": [
    "results(gs1c.score(X_train, y_train), gs1c.score(X_test, y_test), gs1t.score(X_train, y_train), gs1t.score(X_test, y_test))\n"
   ]
  },
  {
   "cell_type": "markdown",
   "id": "5d39b31c-efcd-4762-ad6c-549afcbc9ef6",
   "metadata": {},
   "source": [
    "* Default parameters were used\n",
    "* The model is highly overfitting the training data\n",
    "* The score is definitely better than the baseline"
   ]
  },
  {
   "cell_type": "code",
   "execution_count": null,
   "id": "0c08945c-3b24-4474-a434-fb675a0c9a06",
   "metadata": {},
   "outputs": [],
   "source": []
  },
  {
   "cell_type": "markdown",
   "id": "74d7c7cb-2395-4902-afed-df117461a539",
   "metadata": {},
   "source": [
    "# Trial 2"
   ]
  },
  {
   "cell_type": "code",
   "execution_count": 35,
   "id": "fd4f2d30-8465-4dc1-85b9-e677f2a453e0",
   "metadata": {},
   "outputs": [],
   "source": [
    "params = {\n",
    "     'model__max_depth': [None, 10, 15],\n",
    "    'model__min_samples_split': [2, 5, 7],\n",
    "    'model__min_samples_leaf': [1, 3, 5, 7],\n",
    "    'model__max_features': [2,3,4,5],\n",
    "}\n"
   ]
  },
  {
   "cell_type": "code",
   "execution_count": 36,
   "id": "0011b1f3-7a9d-4a7a-ba3e-a64c8a9c47a5",
   "metadata": {},
   "outputs": [],
   "source": [
    "gs2c = GridSearchCV(pipe1, param_grid=params, verbose=1, n_jobs=-1, cv=10)\n",
    "gs2t = GridSearchCV(pipe2, param_grid=params, verbose=1, n_jobs=-1, cv=10)"
   ]
  },
  {
   "cell_type": "code",
   "execution_count": 37,
   "id": "c75f73b7-12f8-4bf9-9ece-a107459a96cf",
   "metadata": {},
   "outputs": [
    {
     "name": "stdout",
     "output_type": "stream",
     "text": [
      "Fitting 10 folds for each of 144 candidates, totalling 1440 fits\n"
     ]
    },
    {
     "data": {
      "text/plain": [
       "GridSearchCV(cv=10,\n",
       "             estimator=Pipeline(steps=[('cvec', CountVectorizer()),\n",
       "                                       ('model', RandomForestClassifier())]),\n",
       "             n_jobs=-1,\n",
       "             param_grid={'model__max_depth': [None, 10, 15],\n",
       "                         'model__max_features': [2, 3, 4, 5],\n",
       "                         'model__min_samples_leaf': [1, 3, 5, 7],\n",
       "                         'model__min_samples_split': [2, 5, 7]},\n",
       "             verbose=1)"
      ]
     },
     "execution_count": 37,
     "metadata": {},
     "output_type": "execute_result"
    }
   ],
   "source": [
    "gs2c.fit(X_train, y_train)"
   ]
  },
  {
   "cell_type": "code",
   "execution_count": 38,
   "id": "c8ce7d3d-2c3d-40b1-840a-a7de99b78ec6",
   "metadata": {},
   "outputs": [
    {
     "name": "stdout",
     "output_type": "stream",
     "text": [
      "Fitting 10 folds for each of 144 candidates, totalling 1440 fits\n"
     ]
    },
    {
     "data": {
      "text/plain": [
       "GridSearchCV(cv=10,\n",
       "             estimator=Pipeline(steps=[('tfidf', TfidfVectorizer()),\n",
       "                                       ('model', RandomForestClassifier())]),\n",
       "             n_jobs=-1,\n",
       "             param_grid={'model__max_depth': [None, 10, 15],\n",
       "                         'model__max_features': [2, 3, 4, 5],\n",
       "                         'model__min_samples_leaf': [1, 3, 5, 7],\n",
       "                         'model__min_samples_split': [2, 5, 7]},\n",
       "             verbose=1)"
      ]
     },
     "execution_count": 38,
     "metadata": {},
     "output_type": "execute_result"
    }
   ],
   "source": [
    "gs2t.fit(X_train, y_train)"
   ]
  },
  {
   "cell_type": "code",
   "execution_count": 48,
   "id": "f77f6433-467f-47c2-8fac-cfaa809584f3",
   "metadata": {},
   "outputs": [
    {
     "data": {
      "text/html": [
       "<div>\n",
       "<style scoped>\n",
       "    .dataframe tbody tr th:only-of-type {\n",
       "        vertical-align: middle;\n",
       "    }\n",
       "\n",
       "    .dataframe tbody tr th {\n",
       "        vertical-align: top;\n",
       "    }\n",
       "\n",
       "    .dataframe thead th {\n",
       "        text-align: right;\n",
       "    }\n",
       "</style>\n",
       "<table border=\"1\" class=\"dataframe\">\n",
       "  <thead>\n",
       "    <tr style=\"text-align: right;\">\n",
       "      <th></th>\n",
       "      <th>train_score_c</th>\n",
       "      <th>test_score_c</th>\n",
       "      <th>train_score_t</th>\n",
       "      <th>test_score_t</th>\n",
       "    </tr>\n",
       "  </thead>\n",
       "  <tbody>\n",
       "    <tr>\n",
       "      <th>0</th>\n",
       "      <td>0.995</td>\n",
       "      <td>0.738</td>\n",
       "      <td>0.995</td>\n",
       "      <td>0.743</td>\n",
       "    </tr>\n",
       "    <tr>\n",
       "      <th>1</th>\n",
       "      <td>0.990</td>\n",
       "      <td>0.768</td>\n",
       "      <td>0.994</td>\n",
       "      <td>0.766</td>\n",
       "    </tr>\n",
       "  </tbody>\n",
       "</table>\n",
       "</div>"
      ],
      "text/plain": [
       "   train_score_c  test_score_c  train_score_t  test_score_t\n",
       "0          0.995         0.738          0.995         0.743\n",
       "1          0.990         0.768          0.994         0.766"
      ]
     },
     "execution_count": 48,
     "metadata": {},
     "output_type": "execute_result"
    }
   ],
   "source": [
    "results(gs2c.score(X_train, y_train), gs2c.score(X_test, y_test), gs2t.score(X_train, y_train), gs2t.score(X_test, y_test))\n"
   ]
  },
  {
   "cell_type": "markdown",
   "id": "63c55faa-5bec-452c-90e1-64914beef423",
   "metadata": {},
   "source": [
    "* Only the model was tuned while default params were used for the vectorizers\n",
    "* The score has improved from the previous trial\n",
    "* The model does not overfit as much as previously"
   ]
  },
  {
   "cell_type": "code",
   "execution_count": null,
   "id": "7b7f06ac-12d8-45b3-baf1-269e66bfb649",
   "metadata": {},
   "outputs": [],
   "source": []
  },
  {
   "cell_type": "markdown",
   "id": "cf9c3cc2-d2e8-4272-835a-52ec9f8044f4",
   "metadata": {},
   "source": [
    "# Trial 3"
   ]
  },
  {
   "cell_type": "code",
   "execution_count": 40,
   "id": "ce44d4a9-2bb7-4af1-95a4-a57ccc6230a2",
   "metadata": {},
   "outputs": [],
   "source": [
    "params1 = {\n",
    "     'cvec__max_features': [1500, 2000, 2500],\n",
    "    'cvec__max_df': [.8, .7],\n",
    "    'cvec__binary': [True],\n",
    "    'cvec__lowercase': [True, False],\n",
    "     'model__max_depth': [None, 5, 10, 15],\n",
    "    'model__min_samples_split': [2, 5, 7],\n",
    "    'model__min_samples_leaf': [1, 3, 5, 7],\n",
    "    'model__max_features': [2,3,4,5],\n",
    "    'cvec__ngram_range': [(1,1), (1,2), (2,2)],\n",
    "}\n",
    "\n",
    "params2 = {\n",
    "     'tfidf__max_features': [1500, 2000, 2500],\n",
    "    'tfidf__max_df': [.8, .7],\n",
    "    'tfidf__binary': [True],\n",
    "    'tfidf__lowercase': [True, False],\n",
    "     'model__max_depth': [None, 5, 10, 15],\n",
    "    'model__min_samples_split': [2, 5, 7],\n",
    "    'model__min_samples_leaf': [1, 3, 5, 7],\n",
    "    'model__max_features': [2,3,4,5],\n",
    "    'tfidf__ngram_range': [(1,1), (1,2), (2,2)],\n",
    "}"
   ]
  },
  {
   "cell_type": "code",
   "execution_count": 51,
   "id": "2df4e3aa-0388-4932-86d2-cda223f879dc",
   "metadata": {},
   "outputs": [],
   "source": [
    "gs3c = GridSearchCV(pipe1, param_grid=params1, verbose=1, n_jobs=-1, cv=5)\n",
    "gs3t = GridSearchCV(pipe2, param_grid=params2, verbose=1, n_jobs=-1, cv=5)"
   ]
  },
  {
   "cell_type": "code",
   "execution_count": 52,
   "id": "b774c709-7376-4756-966b-499e28059d1d",
   "metadata": {},
   "outputs": [
    {
     "name": "stdout",
     "output_type": "stream",
     "text": [
      "Fitting 5 folds for each of 6912 candidates, totalling 34560 fits\n"
     ]
    },
    {
     "data": {
      "text/plain": [
       "GridSearchCV(cv=5,\n",
       "             estimator=Pipeline(steps=[('cvec', CountVectorizer()),\n",
       "                                       ('model', RandomForestClassifier())]),\n",
       "             n_jobs=-1,\n",
       "             param_grid={'cvec__binary': [True],\n",
       "                         'cvec__lowercase': [True, False],\n",
       "                         'cvec__max_df': [0.8, 0.7],\n",
       "                         'cvec__max_features': [1500, 2000, 2500],\n",
       "                         'cvec__ngram_range': [(1, 1), (1, 2), (2, 2)],\n",
       "                         'model__max_depth': [None, 5, 10, 15],\n",
       "                         'model__max_features': [2, 3, 4, 5],\n",
       "                         'model__min_samples_leaf': [1, 3, 5, 7],\n",
       "                         'model__min_samples_split': [2, 5, 7]},\n",
       "             verbose=1)"
      ]
     },
     "execution_count": 52,
     "metadata": {},
     "output_type": "execute_result"
    }
   ],
   "source": [
    "gs3c.fit(X_train, y_train)"
   ]
  },
  {
   "cell_type": "code",
   "execution_count": 53,
   "id": "bad41a22-6fd4-4b29-ba42-a5dc3a0ad30c",
   "metadata": {},
   "outputs": [
    {
     "name": "stdout",
     "output_type": "stream",
     "text": [
      "Fitting 5 folds for each of 6912 candidates, totalling 34560 fits\n"
     ]
    },
    {
     "data": {
      "text/plain": [
       "GridSearchCV(cv=5,\n",
       "             estimator=Pipeline(steps=[('tfidf', TfidfVectorizer()),\n",
       "                                       ('model', RandomForestClassifier())]),\n",
       "             n_jobs=-1,\n",
       "             param_grid={'model__max_depth': [None, 5, 10, 15],\n",
       "                         'model__max_features': [2, 3, 4, 5],\n",
       "                         'model__min_samples_leaf': [1, 3, 5, 7],\n",
       "                         'model__min_samples_split': [2, 5, 7],\n",
       "                         'tfidf__binary': [True],\n",
       "                         'tfidf__lowercase': [True, False],\n",
       "                         'tfidf__max_df': [0.8, 0.7],\n",
       "                         'tfidf__max_features': [1500, 2000, 2500],\n",
       "                         'tfidf__ngram_range': [(1, 1), (1, 2), (2, 2)]},\n",
       "             verbose=1)"
      ]
     },
     "execution_count": 53,
     "metadata": {},
     "output_type": "execute_result"
    }
   ],
   "source": [
    "gs3t.fit(X_train, y_train)"
   ]
  },
  {
   "cell_type": "code",
   "execution_count": 54,
   "id": "bad7c6ca-6965-4506-9b70-08ed8b0e12ce",
   "metadata": {},
   "outputs": [
    {
     "data": {
      "text/html": [
       "<div>\n",
       "<style scoped>\n",
       "    .dataframe tbody tr th:only-of-type {\n",
       "        vertical-align: middle;\n",
       "    }\n",
       "\n",
       "    .dataframe tbody tr th {\n",
       "        vertical-align: top;\n",
       "    }\n",
       "\n",
       "    .dataframe thead th {\n",
       "        text-align: right;\n",
       "    }\n",
       "</style>\n",
       "<table border=\"1\" class=\"dataframe\">\n",
       "  <thead>\n",
       "    <tr style=\"text-align: right;\">\n",
       "      <th></th>\n",
       "      <th>train_score_c</th>\n",
       "      <th>test_score_c</th>\n",
       "      <th>train_score_t</th>\n",
       "      <th>test_score_t</th>\n",
       "    </tr>\n",
       "  </thead>\n",
       "  <tbody>\n",
       "    <tr>\n",
       "      <th>0</th>\n",
       "      <td>0.995</td>\n",
       "      <td>0.738</td>\n",
       "      <td>0.995</td>\n",
       "      <td>0.743</td>\n",
       "    </tr>\n",
       "    <tr>\n",
       "      <th>1</th>\n",
       "      <td>0.990</td>\n",
       "      <td>0.768</td>\n",
       "      <td>0.994</td>\n",
       "      <td>0.766</td>\n",
       "    </tr>\n",
       "    <tr>\n",
       "      <th>2</th>\n",
       "      <td>0.973</td>\n",
       "      <td>0.775</td>\n",
       "      <td>0.843</td>\n",
       "      <td>0.765</td>\n",
       "    </tr>\n",
       "  </tbody>\n",
       "</table>\n",
       "</div>"
      ],
      "text/plain": [
       "   train_score_c  test_score_c  train_score_t  test_score_t\n",
       "0          0.995         0.738          0.995         0.743\n",
       "1          0.990         0.768          0.994         0.766\n",
       "2          0.973         0.775          0.843         0.765"
      ]
     },
     "execution_count": 54,
     "metadata": {},
     "output_type": "execute_result"
    }
   ],
   "source": [
    "results(gs3c.score(X_train, y_train), gs3c.score(X_test, y_test), gs3t.score(X_train, y_train), gs3t.score(X_test, y_test))\n"
   ]
  },
  {
   "cell_type": "code",
   "execution_count": 55,
   "id": "fbcaafc7-5cda-48f0-ac49-df463eb25544",
   "metadata": {},
   "outputs": [
    {
     "data": {
      "text/plain": [
       "{'cvec__binary': True,\n",
       " 'cvec__lowercase': False,\n",
       " 'cvec__max_df': 0.7,\n",
       " 'cvec__max_features': 2500,\n",
       " 'cvec__ngram_range': (1, 1),\n",
       " 'model__max_depth': None,\n",
       " 'model__max_features': 3,\n",
       " 'model__min_samples_leaf': 1,\n",
       " 'model__min_samples_split': 7}"
      ]
     },
     "execution_count": 55,
     "metadata": {},
     "output_type": "execute_result"
    }
   ],
   "source": [
    "gs3c.best_params_"
   ]
  },
  {
   "cell_type": "markdown",
   "id": "704cfa67-ac69-4ea7-9322-9d88b3b26f3c",
   "metadata": {},
   "source": [
    "* The models as well as the vectorizers were tuned\n",
    "* There isn't that much of a difference in the scores\n",
    "* the model is less overfit on the train data as compared to the previous trial\n",
    "* The best model would be the 3rd one which used tfidf vectorizer since the overfitting less and at the same time the accuracy score is high"
   ]
  },
  {
   "cell_type": "code",
   "execution_count": null,
   "id": "b6a10bb5-8fba-4f7f-bddb-65381232029e",
   "metadata": {},
   "outputs": [],
   "source": []
  }
 ],
 "metadata": {
  "kernelspec": {
   "display_name": "Python 3 (ipykernel)",
   "language": "python",
   "name": "python3"
  },
  "language_info": {
   "codemirror_mode": {
    "name": "ipython",
    "version": 3
   },
   "file_extension": ".py",
   "mimetype": "text/x-python",
   "name": "python",
   "nbconvert_exporter": "python",
   "pygments_lexer": "ipython3",
   "version": "3.9.7"
  }
 },
 "nbformat": 4,
 "nbformat_minor": 5
}
