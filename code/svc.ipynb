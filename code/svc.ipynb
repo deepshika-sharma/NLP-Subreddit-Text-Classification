{
 "cells": [
  {
   "cell_type": "markdown",
   "id": "5504ca6d-e2b9-46d4-a863-6bdabf993803",
   "metadata": {},
   "source": [
    "# Imports"
   ]
  },
  {
   "cell_type": "code",
   "execution_count": 1,
   "id": "d166fa35-55f9-4785-aac2-05f83d569b79",
   "metadata": {},
   "outputs": [],
   "source": [
    "import pandas as pd\n",
    "import numpy as np\n",
    "from sklearn.svm import SVC\n",
    "from sklearn.preprocessing import StandardScaler\n",
    "from sklearn.model_selection import train_test_split, cross_val_score, GridSearchCV\n",
    "from sklearn.pipeline import Pipeline\n",
    "from sklearn.feature_extraction.text import CountVectorizer, TfidfVectorizer"
   ]
  },
  {
   "cell_type": "code",
   "execution_count": 2,
   "id": "13cf73bf-8c3e-4c81-a70e-70395412d9d5",
   "metadata": {},
   "outputs": [],
   "source": [
    "# import data\n",
    "df = pd.read_csv('../data/posts.csv').dropna()"
   ]
  },
  {
   "cell_type": "code",
   "execution_count": 3,
   "id": "add75896-5a76-4f02-b40f-7132142d68cf",
   "metadata": {},
   "outputs": [
    {
     "data": {
      "text/html": [
       "<div>\n",
       "<style scoped>\n",
       "    .dataframe tbody tr th:only-of-type {\n",
       "        vertical-align: middle;\n",
       "    }\n",
       "\n",
       "    .dataframe tbody tr th {\n",
       "        vertical-align: top;\n",
       "    }\n",
       "\n",
       "    .dataframe thead th {\n",
       "        text-align: right;\n",
       "    }\n",
       "</style>\n",
       "<table border=\"1\" class=\"dataframe\">\n",
       "  <thead>\n",
       "    <tr style=\"text-align: right;\">\n",
       "      <th></th>\n",
       "      <th>post</th>\n",
       "      <th>class</th>\n",
       "    </tr>\n",
       "  </thead>\n",
       "  <tbody>\n",
       "    <tr>\n",
       "      <th>0</th>\n",
       "      <td>billy butcherson back hocus pocus doug jones s...</td>\n",
       "      <td>0</td>\n",
       "    </tr>\n",
       "    <tr>\n",
       "      <th>1</th>\n",
       "      <td>go</td>\n",
       "      <td>1</td>\n",
       "    </tr>\n",
       "    <tr>\n",
       "      <th>2</th>\n",
       "      <td>lost city open domestically</td>\n",
       "      <td>1</td>\n",
       "    </tr>\n",
       "    <tr>\n",
       "      <th>3</th>\n",
       "      <td>thirsty go watch video</td>\n",
       "      <td>0</td>\n",
       "    </tr>\n",
       "    <tr>\n",
       "      <th>4</th>\n",
       "      <td>wanted see imax dolby digital theyre showing s...</td>\n",
       "      <td>0</td>\n",
       "    </tr>\n",
       "  </tbody>\n",
       "</table>\n",
       "</div>"
      ],
      "text/plain": [
       "                                                post  class\n",
       "0  billy butcherson back hocus pocus doug jones s...      0\n",
       "1                                                 go      1\n",
       "2                        lost city open domestically      1\n",
       "3                             thirsty go watch video      0\n",
       "4  wanted see imax dolby digital theyre showing s...      0"
      ]
     },
     "execution_count": 3,
     "metadata": {},
     "output_type": "execute_result"
    }
   ],
   "source": [
    "df.head()  # 0 movies, 1 == boxoffice"
   ]
  },
  {
   "cell_type": "code",
   "execution_count": 23,
   "id": "1a5c9eea-eb59-42cf-9d1c-94abd6aece6a",
   "metadata": {},
   "outputs": [],
   "source": [
    "# create a dataframe to store results, c - countvectorizer, t - tfidf vectorizer\n",
    "res = pd.DataFrame(columns=['train_score_c', 'test_score_c', 'train_score_t', 'test_score_t'])\n"
   ]
  },
  {
   "cell_type": "code",
   "execution_count": 5,
   "id": "2a2c686f-d579-4a71-ad63-495dab734d1d",
   "metadata": {},
   "outputs": [],
   "source": [
    "# function to add results\n",
    "def results(train_c, test_c, train_t, test_t):\n",
    "    res.loc[len(naive_res)] = [round(train_c,2), round(test_c,2), round(train_t,2), round(test_t,2)]\n",
    "    return res\n",
    "                  \n",
    "                  "
   ]
  },
  {
   "cell_type": "markdown",
   "id": "3eec7e38-b7b3-414c-a90b-4a95d205f537",
   "metadata": {},
   "source": [
    "# Splitting Data"
   ]
  },
  {
   "cell_type": "code",
   "execution_count": 6,
   "id": "8188c6a1-2d15-4082-9eeb-e420d6ca217c",
   "metadata": {},
   "outputs": [],
   "source": [
    "# create X and y\n",
    "X = df['post']\n",
    "y = df['class']"
   ]
  },
  {
   "cell_type": "code",
   "execution_count": 36,
   "id": "b98a80e7-f3e6-45ec-9c0d-2c54d8cd9a92",
   "metadata": {},
   "outputs": [
    {
     "data": {
      "text/plain": [
       "1    0.505869\n",
       "0    0.494131\n",
       "Name: class, dtype: float64"
      ]
     },
     "execution_count": 36,
     "metadata": {},
     "output_type": "execute_result"
    }
   ],
   "source": [
    "y.value_counts(normalize=True) # baseline model"
   ]
  },
  {
   "cell_type": "code",
   "execution_count": 7,
   "id": "a7a8f13b-b66b-42bb-ba04-8ac7b16771c3",
   "metadata": {},
   "outputs": [],
   "source": [
    "# train test split\n",
    "X_train, X_test, y_train, y_test = train_test_split(X, y, random_state=42, stratify=y)"
   ]
  },
  {
   "cell_type": "code",
   "execution_count": 9,
   "id": "01740a89-70ed-4c55-8283-8be96f1e3ef7",
   "metadata": {},
   "outputs": [],
   "source": [
    "# create pipes, for countvectorizer and tfidfvectorizer\n",
    "pipe1 = Pipeline([\n",
    "    ('cvec', CountVectorizer()),\n",
    "    ('model', SVC())\n",
    "])\n",
    "\n",
    "pipe2 = Pipeline([\n",
    "    ('tfidf', TfidfVectorizer()),\n",
    "    ('model', SVC())\n",
    "])"
   ]
  },
  {
   "cell_type": "code",
   "execution_count": 10,
   "id": "31e5d3e0-f097-4e7b-bef1-5f7c4913d20e",
   "metadata": {},
   "outputs": [],
   "source": [
    "# params\n",
    "params = {}"
   ]
  },
  {
   "cell_type": "code",
   "execution_count": null,
   "id": "fb6f1a4e-c6ed-4726-91af-277789fcfa24",
   "metadata": {},
   "outputs": [],
   "source": []
  },
  {
   "cell_type": "code",
   "execution_count": null,
   "id": "852f7c31-3743-4368-a416-ca340ff00109",
   "metadata": {},
   "outputs": [],
   "source": []
  },
  {
   "cell_type": "markdown",
   "id": "ab2de68e-34a3-43e9-ba87-a354f2bd3c8b",
   "metadata": {},
   "source": [
    "# Trial 1"
   ]
  },
  {
   "cell_type": "code",
   "execution_count": 11,
   "id": "8018830b-844b-482e-9858-9e5c560a8ebe",
   "metadata": {},
   "outputs": [],
   "source": [
    "# instantiate gridsearch with two different pipes\n",
    "gs1c = GridSearchCV(pipe1, param_grid=params, cv=5, verbose=1, n_jobs=-1)\n",
    "gs1t = GridSearchCV(pipe2, param_grid=params, cv=5, verbose=1, n_jobs=-1)"
   ]
  },
  {
   "cell_type": "code",
   "execution_count": 12,
   "id": "36548bf1-a989-4a90-acc3-89cc2cb6fd01",
   "metadata": {},
   "outputs": [
    {
     "name": "stdout",
     "output_type": "stream",
     "text": [
      "Fitting 5 folds for each of 1 candidates, totalling 5 fits\n"
     ]
    },
    {
     "data": {
      "text/plain": [
       "GridSearchCV(cv=5,\n",
       "             estimator=Pipeline(steps=[('cvec', CountVectorizer()),\n",
       "                                       ('model', SVC())]),\n",
       "             n_jobs=-1, param_grid={}, verbose=1)"
      ]
     },
     "execution_count": 12,
     "metadata": {},
     "output_type": "execute_result"
    }
   ],
   "source": [
    "gs1c.fit(X_train, y_train)"
   ]
  },
  {
   "cell_type": "code",
   "execution_count": 13,
   "id": "e448ccf7-de45-4ffc-9877-04f6a5f90f0b",
   "metadata": {},
   "outputs": [
    {
     "name": "stdout",
     "output_type": "stream",
     "text": [
      "Fitting 5 folds for each of 1 candidates, totalling 5 fits\n"
     ]
    },
    {
     "data": {
      "text/plain": [
       "GridSearchCV(cv=5,\n",
       "             estimator=Pipeline(steps=[('tfidf', TfidfVectorizer()),\n",
       "                                       ('model', SVC())]),\n",
       "             n_jobs=-1, param_grid={}, verbose=1)"
      ]
     },
     "execution_count": 13,
     "metadata": {},
     "output_type": "execute_result"
    }
   ],
   "source": [
    "gs1t.fit(X_train, y_train)"
   ]
  },
  {
   "cell_type": "code",
   "execution_count": 24,
   "id": "c35fc806-85f5-451f-ad93-9dd7458dd3cc",
   "metadata": {},
   "outputs": [
    {
     "data": {
      "text/html": [
       "<div>\n",
       "<style scoped>\n",
       "    .dataframe tbody tr th:only-of-type {\n",
       "        vertical-align: middle;\n",
       "    }\n",
       "\n",
       "    .dataframe tbody tr th {\n",
       "        vertical-align: top;\n",
       "    }\n",
       "\n",
       "    .dataframe thead th {\n",
       "        text-align: right;\n",
       "    }\n",
       "</style>\n",
       "<table border=\"1\" class=\"dataframe\">\n",
       "  <thead>\n",
       "    <tr style=\"text-align: right;\">\n",
       "      <th></th>\n",
       "      <th>train_score_c</th>\n",
       "      <th>test_score_c</th>\n",
       "      <th>train_score_t</th>\n",
       "      <th>test_score_t</th>\n",
       "    </tr>\n",
       "  </thead>\n",
       "  <tbody>\n",
       "    <tr>\n",
       "      <th>0</th>\n",
       "      <td>0.9</td>\n",
       "      <td>0.77</td>\n",
       "      <td>0.97</td>\n",
       "      <td>0.77</td>\n",
       "    </tr>\n",
       "  </tbody>\n",
       "</table>\n",
       "</div>"
      ],
      "text/plain": [
       "   train_score_c  test_score_c  train_score_t  test_score_t\n",
       "0            0.9          0.77           0.97          0.77"
      ]
     },
     "execution_count": 24,
     "metadata": {},
     "output_type": "execute_result"
    }
   ],
   "source": [
    "results(gs1c.score(X_train, y_train), gs1c.score(X_test, y_test), gs1t.score(X_train, y_train), gs1t.score(X_test, y_test))"
   ]
  },
  {
   "cell_type": "markdown",
   "id": "dbc564fc-71c7-4954-a42f-066fa14fb8c7",
   "metadata": {},
   "source": [
    "* Default params were used\n",
    "* The score is better than the baseline model\n",
    "* The model overfits the training data more for the tfidf vectorizer than the count vectorizer"
   ]
  },
  {
   "cell_type": "code",
   "execution_count": null,
   "id": "4ef15970-4ecf-46e2-a784-ad069e68367f",
   "metadata": {},
   "outputs": [],
   "source": []
  },
  {
   "cell_type": "markdown",
   "id": "229aa513-5eba-4f54-a58d-6915458d52ae",
   "metadata": {},
   "source": [
    "# Trial 2"
   ]
  },
  {
   "cell_type": "code",
   "execution_count": 16,
   "id": "6095aed8-6f24-4cdd-af45-d350e39bb905",
   "metadata": {},
   "outputs": [],
   "source": [
    "params = {\n",
    "    'model__C': [0.1, 1, 10, 100, 1000],\n",
    "    'model__gamma': [1, 0.1, 0.01, 0.001, 0.0001],\n",
    "    'model__kernel': ['rbf']\n",
    "}"
   ]
  },
  {
   "cell_type": "code",
   "execution_count": 19,
   "id": "a8a840f5-cc90-4eee-9d12-b523e507b4c4",
   "metadata": {},
   "outputs": [],
   "source": [
    "# instantiate gridsearch with two different pipes\n",
    "gs2c = GridSearchCV(pipe1, param_grid=params, cv=5, verbose=1, n_jobs=-1)\n",
    "gs2t = GridSearchCV(pipe2, param_grid=params, cv=5, verbose=1, n_jobs=-1) "
   ]
  },
  {
   "cell_type": "code",
   "execution_count": 20,
   "id": "1b10e8f2-c34c-4eac-ac19-a9735d582c36",
   "metadata": {},
   "outputs": [
    {
     "name": "stdout",
     "output_type": "stream",
     "text": [
      "Fitting 5 folds for each of 25 candidates, totalling 125 fits\n"
     ]
    },
    {
     "data": {
      "text/plain": [
       "GridSearchCV(cv=5,\n",
       "             estimator=Pipeline(steps=[('cvec', CountVectorizer()),\n",
       "                                       ('model', SVC())]),\n",
       "             n_jobs=-1,\n",
       "             param_grid={'model__C': [0.1, 1, 10, 100, 1000],\n",
       "                         'model__gamma': [1, 0.1, 0.01, 0.001, 0.0001],\n",
       "                         'model__kernel': ['rbf']},\n",
       "             verbose=1)"
      ]
     },
     "execution_count": 20,
     "metadata": {},
     "output_type": "execute_result"
    }
   ],
   "source": [
    "gs2c.fit(X_train, y_train)"
   ]
  },
  {
   "cell_type": "code",
   "execution_count": 21,
   "id": "474cdc2f-cdd4-4c98-90a0-9a788f48ec59",
   "metadata": {},
   "outputs": [
    {
     "name": "stdout",
     "output_type": "stream",
     "text": [
      "Fitting 5 folds for each of 25 candidates, totalling 125 fits\n"
     ]
    },
    {
     "data": {
      "text/plain": [
       "GridSearchCV(cv=5,\n",
       "             estimator=Pipeline(steps=[('tfidf', TfidfVectorizer()),\n",
       "                                       ('model', SVC())]),\n",
       "             n_jobs=-1,\n",
       "             param_grid={'model__C': [0.1, 1, 10, 100, 1000],\n",
       "                         'model__gamma': [1, 0.1, 0.01, 0.001, 0.0001],\n",
       "                         'model__kernel': ['rbf']},\n",
       "             verbose=1)"
      ]
     },
     "execution_count": 21,
     "metadata": {},
     "output_type": "execute_result"
    }
   ],
   "source": [
    "gs2t.fit(X_train, y_train)"
   ]
  },
  {
   "cell_type": "code",
   "execution_count": 25,
   "id": "133c1925-4765-478c-bf00-55519a0cd1f6",
   "metadata": {},
   "outputs": [
    {
     "data": {
      "text/html": [
       "<div>\n",
       "<style scoped>\n",
       "    .dataframe tbody tr th:only-of-type {\n",
       "        vertical-align: middle;\n",
       "    }\n",
       "\n",
       "    .dataframe tbody tr th {\n",
       "        vertical-align: top;\n",
       "    }\n",
       "\n",
       "    .dataframe thead th {\n",
       "        text-align: right;\n",
       "    }\n",
       "</style>\n",
       "<table border=\"1\" class=\"dataframe\">\n",
       "  <thead>\n",
       "    <tr style=\"text-align: right;\">\n",
       "      <th></th>\n",
       "      <th>train_score_c</th>\n",
       "      <th>test_score_c</th>\n",
       "      <th>train_score_t</th>\n",
       "      <th>test_score_t</th>\n",
       "    </tr>\n",
       "  </thead>\n",
       "  <tbody>\n",
       "    <tr>\n",
       "      <th>0</th>\n",
       "      <td>0.9</td>\n",
       "      <td>0.77</td>\n",
       "      <td>0.97</td>\n",
       "      <td>0.77</td>\n",
       "    </tr>\n",
       "    <tr>\n",
       "      <th>1</th>\n",
       "      <td>0.9</td>\n",
       "      <td>0.77</td>\n",
       "      <td>0.97</td>\n",
       "      <td>0.77</td>\n",
       "    </tr>\n",
       "  </tbody>\n",
       "</table>\n",
       "</div>"
      ],
      "text/plain": [
       "   train_score_c  test_score_c  train_score_t  test_score_t\n",
       "0            0.9          0.77           0.97          0.77\n",
       "1            0.9          0.77           0.97          0.77"
      ]
     },
     "execution_count": 25,
     "metadata": {},
     "output_type": "execute_result"
    }
   ],
   "source": [
    "results(gs2c.score(X_train, y_train), gs2c.score(X_test, y_test), gs2t.score(X_train, y_train), gs2t.score(X_test, y_test))"
   ]
  },
  {
   "cell_type": "code",
   "execution_count": 26,
   "id": "c74ea5c0-22d2-4d6d-a586-c5fc934741e5",
   "metadata": {},
   "outputs": [
    {
     "data": {
      "text/plain": [
       "{'model__C': 10, 'model__gamma': 0.01, 'model__kernel': 'rbf'}"
      ]
     },
     "execution_count": 26,
     "metadata": {},
     "output_type": "execute_result"
    }
   ],
   "source": [
    "gs2c.best_params_"
   ]
  },
  {
   "cell_type": "code",
   "execution_count": 27,
   "id": "9beaa542-b8c2-49bb-9d84-14eb6c712f2e",
   "metadata": {},
   "outputs": [
    {
     "data": {
      "text/plain": [
       "{'model__C': 1, 'model__gamma': 1, 'model__kernel': 'rbf'}"
      ]
     },
     "execution_count": 27,
     "metadata": {},
     "output_type": "execute_result"
    }
   ],
   "source": [
    "gs2t.best_params_"
   ]
  },
  {
   "cell_type": "markdown",
   "id": "30e80d91-ba24-401a-b569-d1799106a743",
   "metadata": {},
   "source": [
    "* Only the model was tuned\n",
    "* There are no improvements/changes from the previous trial"
   ]
  },
  {
   "cell_type": "code",
   "execution_count": null,
   "id": "73e26879-d1ff-44a0-af3e-d1a46d9d0ef7",
   "metadata": {},
   "outputs": [],
   "source": []
  },
  {
   "cell_type": "markdown",
   "id": "856d8a49-fa3e-4de1-9dc2-35295351bd36",
   "metadata": {},
   "source": [
    "# Trial 3"
   ]
  },
  {
   "cell_type": "code",
   "execution_count": 28,
   "id": "f2c2f9a6-9dd3-4efb-a020-5bb361b0423d",
   "metadata": {},
   "outputs": [],
   "source": [
    "params1 = {\n",
    "    'cvec__max_features': [1500, 2000, 2500],\n",
    "    'cvec__max_df': [.8, .7],\n",
    "    'cvec__ngram_range': [(1,1)],\n",
    "    'cvec__binary': [True],\n",
    "    'model__C': [0.9, 1, 5, 15, 10, 20],\n",
    "    'model__gamma': [0.01,0.1, 0.02]\n",
    "}\n",
    "\n",
    "params2 = {\n",
    "    'tfidf__max_features': [1500, 2000, 2500],\n",
    "    'tfidf__max_df': [.8, .7],\n",
    "    'tfidf__ngram_range': [(1,1)],\n",
    "    'tfidf__binary': [True],\n",
    "    'model__C': [0.9, 1, 5, 15, 10, 20],\n",
    "    'model__gamma': [0.01,0.1, 0.02, 1, 2]\n",
    "}"
   ]
  },
  {
   "cell_type": "code",
   "execution_count": 30,
   "id": "b83c163c-3bc8-455c-8881-aff04ef4acd7",
   "metadata": {},
   "outputs": [],
   "source": [
    "# instantiate gridsearch with two different pipes\n",
    "gs3c = GridSearchCV(pipe1, param_grid=params1, cv=5, verbose=1, n_jobs=-1)\n",
    "gs3t = GridSearchCV(pipe2, param_grid=params2, cv=5, verbose=1, n_jobs=-1) "
   ]
  },
  {
   "cell_type": "code",
   "execution_count": 31,
   "id": "809a5b64-aba2-42b2-8550-b20d43f2923c",
   "metadata": {},
   "outputs": [
    {
     "name": "stdout",
     "output_type": "stream",
     "text": [
      "Fitting 5 folds for each of 108 candidates, totalling 540 fits\n"
     ]
    },
    {
     "data": {
      "text/plain": [
       "GridSearchCV(cv=5,\n",
       "             estimator=Pipeline(steps=[('cvec', CountVectorizer()),\n",
       "                                       ('model', SVC())]),\n",
       "             n_jobs=-1,\n",
       "             param_grid={'cvec__binary': [True], 'cvec__max_df': [0.8, 0.7],\n",
       "                         'cvec__max_features': [1500, 2000, 2500],\n",
       "                         'cvec__ngram_range': [(1, 1)],\n",
       "                         'model__C': [0.9, 1, 5, 15, 10, 20],\n",
       "                         'model__gamma': [0.01, 0.1, 0.02]},\n",
       "             verbose=1)"
      ]
     },
     "execution_count": 31,
     "metadata": {},
     "output_type": "execute_result"
    }
   ],
   "source": [
    "gs3c.fit(X_train, y_train)"
   ]
  },
  {
   "cell_type": "code",
   "execution_count": 32,
   "id": "a9e3c5a2-5d1d-4e8d-af78-1dd80482773d",
   "metadata": {},
   "outputs": [
    {
     "name": "stdout",
     "output_type": "stream",
     "text": [
      "Fitting 5 folds for each of 180 candidates, totalling 900 fits\n"
     ]
    },
    {
     "data": {
      "text/plain": [
       "GridSearchCV(cv=5,\n",
       "             estimator=Pipeline(steps=[('tfidf', TfidfVectorizer()),\n",
       "                                       ('model', SVC())]),\n",
       "             n_jobs=-1,\n",
       "             param_grid={'model__C': [0.9, 1, 5, 15, 10, 20],\n",
       "                         'model__gamma': [0.01, 0.1, 0.02, 1, 2],\n",
       "                         'tfidf__binary': [True], 'tfidf__max_df': [0.8, 0.7],\n",
       "                         'tfidf__max_features': [1500, 2000, 2500],\n",
       "                         'tfidf__ngram_range': [(1, 1)]},\n",
       "             verbose=1)"
      ]
     },
     "execution_count": 32,
     "metadata": {},
     "output_type": "execute_result"
    }
   ],
   "source": [
    "gs3t.fit(X_train, y_train)"
   ]
  },
  {
   "cell_type": "code",
   "execution_count": 33,
   "id": "2c959732-9975-4e70-b2b7-bf1a89513442",
   "metadata": {},
   "outputs": [
    {
     "data": {
      "text/html": [
       "<div>\n",
       "<style scoped>\n",
       "    .dataframe tbody tr th:only-of-type {\n",
       "        vertical-align: middle;\n",
       "    }\n",
       "\n",
       "    .dataframe tbody tr th {\n",
       "        vertical-align: top;\n",
       "    }\n",
       "\n",
       "    .dataframe thead th {\n",
       "        text-align: right;\n",
       "    }\n",
       "</style>\n",
       "<table border=\"1\" class=\"dataframe\">\n",
       "  <thead>\n",
       "    <tr style=\"text-align: right;\">\n",
       "      <th></th>\n",
       "      <th>train_score_c</th>\n",
       "      <th>test_score_c</th>\n",
       "      <th>train_score_t</th>\n",
       "      <th>test_score_t</th>\n",
       "    </tr>\n",
       "  </thead>\n",
       "  <tbody>\n",
       "    <tr>\n",
       "      <th>0</th>\n",
       "      <td>0.90</td>\n",
       "      <td>0.77</td>\n",
       "      <td>0.97</td>\n",
       "      <td>0.77</td>\n",
       "    </tr>\n",
       "    <tr>\n",
       "      <th>1</th>\n",
       "      <td>0.90</td>\n",
       "      <td>0.77</td>\n",
       "      <td>0.97</td>\n",
       "      <td>0.77</td>\n",
       "    </tr>\n",
       "    <tr>\n",
       "      <th>2</th>\n",
       "      <td>0.86</td>\n",
       "      <td>0.76</td>\n",
       "      <td>0.99</td>\n",
       "      <td>0.77</td>\n",
       "    </tr>\n",
       "  </tbody>\n",
       "</table>\n",
       "</div>"
      ],
      "text/plain": [
       "   train_score_c  test_score_c  train_score_t  test_score_t\n",
       "0           0.90          0.77           0.97          0.77\n",
       "1           0.90          0.77           0.97          0.77\n",
       "2           0.86          0.76           0.99          0.77"
      ]
     },
     "execution_count": 33,
     "metadata": {},
     "output_type": "execute_result"
    }
   ],
   "source": [
    " results(gs3c.score(X_train, y_train), gs3c.score(X_test, y_test), gs3t.score(X_train, y_train), gs3t.score(X_test, y_test))"
   ]
  },
  {
   "cell_type": "code",
   "execution_count": 34,
   "id": "45a522cd-11a5-4194-a2a5-777220580d6a",
   "metadata": {},
   "outputs": [
    {
     "data": {
      "text/plain": [
       "{'cvec__binary': True,\n",
       " 'cvec__max_df': 0.8,\n",
       " 'cvec__max_features': 2500,\n",
       " 'cvec__ngram_range': (1, 1),\n",
       " 'model__C': 5,\n",
       " 'model__gamma': 0.02}"
      ]
     },
     "execution_count": 34,
     "metadata": {},
     "output_type": "execute_result"
    }
   ],
   "source": [
    "gs3c.best_params_"
   ]
  },
  {
   "cell_type": "code",
   "execution_count": 35,
   "id": "acc64188-0ec2-4fac-96f8-5e5ee574659e",
   "metadata": {},
   "outputs": [
    {
     "data": {
      "text/plain": [
       "{'model__C': 5,\n",
       " 'model__gamma': 2,\n",
       " 'tfidf__binary': True,\n",
       " 'tfidf__max_df': 0.8,\n",
       " 'tfidf__max_features': 2500,\n",
       " 'tfidf__ngram_range': (1, 1)}"
      ]
     },
     "execution_count": 35,
     "metadata": {},
     "output_type": "execute_result"
    }
   ],
   "source": [
    "gs3t.best_params_"
   ]
  },
  {
   "cell_type": "markdown",
   "id": "6468e89f-9091-466f-b0e3-a657b3f0cc8b",
   "metadata": {},
   "source": [
    "* The model along with the vectorizers were tuned\n",
    "* The scores were once again similar to the previous scores\n",
    "* The model overfits less for the count vectorizer compared to the tfidf vectorizer\n",
    "* The best model would probably be the 3rd one using the count vectorizer as it has less overfitting compared to the others and the accuracy is 96%"
   ]
  },
  {
   "cell_type": "code",
   "execution_count": null,
   "id": "1fc80802-286a-4177-8417-96f8b816aef3",
   "metadata": {},
   "outputs": [],
   "source": []
  }
 ],
 "metadata": {
  "kernelspec": {
   "display_name": "Python 3 (ipykernel)",
   "language": "python",
   "name": "python3"
  },
  "language_info": {
   "codemirror_mode": {
    "name": "ipython",
    "version": 3
   },
   "file_extension": ".py",
   "mimetype": "text/x-python",
   "name": "python",
   "nbconvert_exporter": "python",
   "pygments_lexer": "ipython3",
   "version": "3.9.7"
  }
 },
 "nbformat": 4,
 "nbformat_minor": 5
}
